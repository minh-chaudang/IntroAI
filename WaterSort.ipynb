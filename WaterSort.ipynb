{
  "nbformat": 4,
  "nbformat_minor": 0,
  "metadata": {
    "colab": {
      "provenance": [],
      "include_colab_link": true
    },
    "kernelspec": {
      "name": "python3",
      "display_name": "Python 3"
    },
    "language_info": {
      "name": "python"
    }
  },
  "cells": [
    {
      "cell_type": "markdown",
      "metadata": {
        "id": "view-in-github",
        "colab_type": "text"
      },
      "source": [
        "<a href=\"https://colab.research.google.com/github/minh-chaudang/IntroAI/blob/main/WaterSort.ipynb\" target=\"_parent\"><img src=\"https://colab.research.google.com/assets/colab-badge.svg\" alt=\"Open In Colab\"/></a>"
      ]
    },
    {
      "cell_type": "code",
      "source": [
        "import itertools\n",
        "import copy\n",
        "import numpy as np\n",
        "import heapq\n",
        "\n",
        "# i commit"
      ],
      "metadata": {
        "id": "mHqGaehJbuto"
      },
      "execution_count": null,
      "outputs": []
    },
    {
      "cell_type": "code",
      "execution_count": null,
      "metadata": {
        "id": "A_1zlTnekUrN"
      },
      "outputs": [],
      "source": [
        "class State:\n",
        "  def __init__(self, bottles, parent = None, capacity = 0):\n",
        "    self.bottles = bottles\n",
        "    self.parent = parent\n",
        "    if parent == None:\n",
        "      self.capacity = max(len(bottle) for bottle in self.bottles)\n",
        "      self.distance = 0\n",
        "    else:\n",
        "      self.capacity = parent.capacity\n",
        "      self.distance = parent.distance + 1\n",
        "\n",
        "  # Check if this is the goal\n",
        "  def is_goal(self):\n",
        "    return all(len(bottle) == 0 or len(bottle) == self.capacity and len(set(bottle)) == 1 for bottle in self.bottles)\n",
        "\n",
        "  # Find all pourable bottle pairs\n",
        "  def pourable_pairs(self):\n",
        "    result = []\n",
        "    for i in range(len(self.bottles)-1,-1,-1):\n",
        "      for j in range(len(self.bottles)-1,-1,-1):\n",
        "        if i != j:\n",
        "          # One is containing and one is empty\n",
        "          if len(self.bottles[i]) > 0 and len(self.bottles[j]) == 0: \n",
        "            result.append((i,j))\n",
        "          # Two have the same tops\n",
        "          if len(self.bottles[i]) > 0 and len(self.bottles[j]) > 0 and self.bottles[i][-1] == self.bottles[j][-1] and len(self.bottles[j]) < self.capacity:\n",
        "            result.append((i,j))\n",
        "    return result\n",
        "\n",
        "  # Expand a state\n",
        "  def expand(self):\n",
        "    # If this state is expandible\n",
        "    children = []\n",
        "    for pair in self.pourable_pairs():\n",
        "      child = State(copy.deepcopy(self.bottles), self)\n",
        "      top = child.bottles[pair[0]][-1]\n",
        "      while len(child.bottles[pair[0]]) > 0 and child.bottles[pair[0]][-1] == top and len(child.bottles[pair[1]]) < self.capacity:\n",
        "        child.bottles[pair[0]].pop()\n",
        "        child.bottles[pair[1]].append(top)\n",
        "      children.append(child)\n",
        "    return children\n",
        "\n",
        "  # Estimated f = g + h\n",
        "  def cost(self):\n",
        "    h = 0\n",
        "    for bottle in self.bottles:\n",
        "      for i in range (len(bottle)-1):\n",
        "        if bottle[i] != bottle[i+1]: h += 1\n",
        "    return h + self.distance\n",
        "  \n",
        "  # Overide the comparator to push to a heap\n",
        "  def __lt__(self, other):\n",
        "        return self.cost() < other.cost()\n",
        "   \n",
        "  # Get path from root\n",
        "  def getpath(self):\n",
        "    path = [self]\n",
        "    while path[-1].parent != None: path.append(path[-1].parent)\n",
        "    return path"
      ]
    },
    {
      "cell_type": "code",
      "source": [
        "level1 = State([['O'], ['O', 'O', 'O']])\n",
        "level3 = State([['C', 'C', 'D', 'X'], ['X', 'C', 'D', 'X'], ['D','X','C','D'],[],[]])\n",
        "level5 = State([['P','B','G','O'],['R','O','R','P'],['B','R','G','G'],['P','B','O','G'],['B','R','P','O'],[],[]])"
      ],
      "metadata": {
        "id": "QrCA0CwWXr8G"
      },
      "execution_count": null,
      "outputs": []
    },
    {
      "cell_type": "code",
      "source": [
        "# Ordinary DFS\n",
        "def DFShelper(stack, loop, visited):\n",
        "  while len(stack) > 0 and stack[-1].bottles in visited: stack.pop()\n",
        "  if len(stack) == 0: return -1, loop\n",
        "  elif (stack[-1].is_goal()): \n",
        "    path = [stack[-1]]\n",
        "    while path[-1].parent != None: path.append(path[-1].parent)\n",
        "    path.reverse()\n",
        "    return path, loop\n",
        "  else: \n",
        "    this_state = stack[-1]\n",
        "    stack.pop()\n",
        "    visited.append(this_state.bottles)\n",
        "    stack += this_state.expand()\n",
        "    # print(\"Loop\", loop, \":\", this_state.bottles)\n",
        "    return DFShelper(stack, loop+1, visited)\n",
        "\n",
        "# For calling more conveniently\n",
        "def DFS(initial_state):\n",
        "  path, loop = DFShelper([initial_state], 0, [])\n",
        "  if path == -1: print(\"No solution\")\n",
        "  else:\n",
        "    print(\"DFS executed after\", loop, \"loops\")\n",
        "    for i in range(len(path)): print(\"Step\", i, \":\", path[i].bottles)"
      ],
      "metadata": {
        "id": "A7QzhEFaJDRI"
      },
      "execution_count": null,
      "outputs": []
    },
    {
      "cell_type": "code",
      "source": [
        "def Astarhelper(heap, loop, visited):\n",
        "  while len(heap) > 0 and heap[0].bottles in visited: heapq.heappop(heap)\n",
        "  if len(heap) == 0: return -1, loop\n",
        "  elif (heap[0].is_goal()):\n",
        "    # print(\"Goal:\", heap[0].bottles)\n",
        "    path = [heap[0]]\n",
        "    while path[-1].parent != None: path.append(path[-1].parent)\n",
        "    path.reverse()\n",
        "    return path, loop\n",
        "  else:\n",
        "    this_state = heap[0]\n",
        "    heapq.heappop(heap)\n",
        "    heap += this_state.expand()\n",
        "    heapq.heapify(heap)\n",
        "    visited.append(this_state.bottles)\n",
        "    # print(\"Loop\", loop, \":\", this_state.bottles)\n",
        "    return Astarhelper(heap, loop+1, visited)\n",
        "\n",
        "def Astar(initial_state):\n",
        "    path, loop = Astarhelper([initial_state], 0, [])\n",
        "    if path == -1: print(\"No solution\")\n",
        "    else:\n",
        "      print(\"DFS executed after\", loop, \"loops\")\n",
        "      for i in range(len(path)): print(\"Step\", i, \":\", path[i].bottles)\n",
        "      print(\"A* executed after\", loop, \"loops\")\n"
      ],
      "metadata": {
        "id": "FKQ3pq18aK9a"
      },
      "execution_count": null,
      "outputs": []
    },
    {
      "cell_type": "code",
      "source": [
        "state = State([['C', 'C', 'D', 'X'], ['X', 'C', 'D', 'X'], ['D','X','C','D'],[],[]])\n",
        "# path = Astar([state], 0, [])\n",
        "\n",
        "Astar(state)\n",
        "\n"
      ],
      "metadata": {
        "id": "vtPzzuu29_VI",
        "colab": {
          "base_uri": "https://localhost:8080/"
        },
        "outputId": "9ff98dc4-e8a6-44fd-8e96-f2ca9767836c"
      },
      "execution_count": null,
      "outputs": [
        {
          "output_type": "stream",
          "name": "stdout",
          "text": [
            "DFS executed after 692 loops\n",
            "Step 0 : [['C', 'C', 'D', 'X'], ['X', 'C', 'D', 'X'], ['D', 'X', 'C', 'D'], [], []]\n",
            "Step 1 : [['C', 'C', 'D', 'X'], ['X', 'C', 'D'], ['D', 'X', 'C', 'D'], ['X'], []]\n",
            "Step 2 : [['C', 'C', 'D', 'X'], ['X', 'C', 'D', 'D'], ['D', 'X', 'C'], ['X'], []]\n",
            "Step 3 : [['C', 'C', 'D'], ['X', 'C', 'D', 'D'], ['D', 'X', 'C'], ['X', 'X'], []]\n",
            "Step 4 : [['C', 'C', 'D'], ['X', 'C', 'D', 'D'], ['D', 'X'], ['X', 'X'], ['C']]\n",
            "Step 5 : [['C', 'C', 'D'], ['X', 'C', 'D', 'D'], ['D'], ['X', 'X', 'X'], ['C']]\n",
            "Step 6 : [['C', 'C'], ['X', 'C', 'D', 'D'], ['D', 'D'], ['X', 'X', 'X'], ['C']]\n",
            "Step 7 : [['C', 'C'], ['X', 'C'], ['D', 'D', 'D', 'D'], ['X', 'X', 'X'], ['C']]\n",
            "Step 8 : [['C', 'C', 'C'], ['X'], ['D', 'D', 'D', 'D'], ['X', 'X', 'X'], ['C']]\n",
            "Step 9 : [[], ['X'], ['D', 'D', 'D', 'D'], ['X', 'X', 'X'], ['C', 'C', 'C', 'C']]\n",
            "Step 10 : [[], [], ['D', 'D', 'D', 'D'], ['X', 'X', 'X', 'X'], ['C', 'C', 'C', 'C']]\n",
            "A* executed after 692 loops\n"
          ]
        }
      ]
    },
    {
      "cell_type": "code",
      "source": [
        "state = State(level5, None)\n",
        "path = DFS([state], 0, [])\n",
        "\n",
        "for i in range(len(path)):\n",
        "  print(\"Step\", i, \":\", path[i].bottles)"
      ],
      "metadata": {
        "colab": {
          "base_uri": "https://localhost:8080/"
        },
        "id": "wLkR8Pl87W9R",
        "outputId": "5952df03-2a00-4218-8e99-5148b17115fb"
      },
      "execution_count": null,
      "outputs": [
        {
          "output_type": "stream",
          "name": "stdout",
          "text": [
            "DFS executed after 93 loops\n",
            "Step 0 : [['P', 'B', 'G', 'O'], ['R', 'O', 'R', 'P'], ['B', 'R', 'G', 'G'], ['P', 'B', 'O', 'G'], ['B', 'R', 'P', 'O'], [], []]\n",
            "Step 1 : [['P', 'B', 'G'], ['R', 'O', 'R', 'P'], ['B', 'R', 'G', 'G'], ['P', 'B', 'O', 'G'], ['B', 'R', 'P', 'O'], ['O'], []]\n",
            "Step 2 : [['P', 'B'], ['R', 'O', 'R', 'P'], ['B', 'R', 'G', 'G'], ['P', 'B', 'O', 'G'], ['B', 'R', 'P', 'O'], ['O'], ['G']]\n",
            "Step 3 : [['P', 'B'], ['R', 'O', 'R', 'P'], ['B', 'R'], ['P', 'B', 'O', 'G'], ['B', 'R', 'P', 'O'], ['O'], ['G', 'G', 'G']]\n",
            "Step 4 : [['P', 'B'], ['R', 'O', 'R', 'P'], ['B', 'R'], ['P', 'B', 'O'], ['B', 'R', 'P', 'O'], ['O'], ['G', 'G', 'G', 'G']]\n",
            "Step 5 : [['P', 'B'], ['R', 'O', 'R', 'P'], ['B', 'R'], ['P', 'B'], ['B', 'R', 'P', 'O'], ['O', 'O'], ['G', 'G', 'G', 'G']]\n",
            "Step 6 : [['P'], ['R', 'O', 'R', 'P'], ['B', 'R'], ['P', 'B', 'B'], ['B', 'R', 'P', 'O'], ['O', 'O'], ['G', 'G', 'G', 'G']]\n",
            "Step 7 : [['P', 'P'], ['R', 'O', 'R'], ['B', 'R'], ['P', 'B', 'B'], ['B', 'R', 'P', 'O'], ['O', 'O'], ['G', 'G', 'G', 'G']]\n",
            "Step 8 : [['P', 'P'], ['R', 'O'], ['B', 'R', 'R'], ['P', 'B', 'B'], ['B', 'R', 'P', 'O'], ['O', 'O'], ['G', 'G', 'G', 'G']]\n",
            "Step 9 : [['P', 'P'], ['R'], ['B', 'R', 'R'], ['P', 'B', 'B'], ['B', 'R', 'P', 'O'], ['O', 'O', 'O'], ['G', 'G', 'G', 'G']]\n",
            "Step 10 : [['P', 'P'], [], ['B', 'R', 'R', 'R'], ['P', 'B', 'B'], ['B', 'R', 'P', 'O'], ['O', 'O', 'O'], ['G', 'G', 'G', 'G']]\n",
            "Step 11 : [[], ['P', 'P'], ['B', 'R', 'R', 'R'], ['P', 'B', 'B'], ['B', 'R', 'P', 'O'], ['O', 'O', 'O'], ['G', 'G', 'G', 'G']]\n",
            "Step 12 : [['R', 'R', 'R'], ['P', 'P'], ['B'], ['P', 'B', 'B'], ['B', 'R', 'P', 'O'], ['O', 'O', 'O'], ['G', 'G', 'G', 'G']]\n",
            "Step 13 : [['R', 'R', 'R'], ['P', 'P'], [], ['P', 'B', 'B', 'B'], ['B', 'R', 'P', 'O'], ['O', 'O', 'O'], ['G', 'G', 'G', 'G']]\n",
            "Step 14 : [[], ['P', 'P'], ['R', 'R', 'R'], ['P', 'B', 'B', 'B'], ['B', 'R', 'P', 'O'], ['O', 'O', 'O'], ['G', 'G', 'G', 'G']]\n",
            "Step 15 : [['P', 'P'], [], ['R', 'R', 'R'], ['P', 'B', 'B', 'B'], ['B', 'R', 'P', 'O'], ['O', 'O', 'O'], ['G', 'G', 'G', 'G']]\n",
            "Step 16 : [['P', 'P'], ['R', 'R', 'R'], [], ['P', 'B', 'B', 'B'], ['B', 'R', 'P', 'O'], ['O', 'O', 'O'], ['G', 'G', 'G', 'G']]\n",
            "Step 17 : [[], ['R', 'R', 'R'], ['P', 'P'], ['P', 'B', 'B', 'B'], ['B', 'R', 'P', 'O'], ['O', 'O', 'O'], ['G', 'G', 'G', 'G']]\n",
            "Step 18 : [['R', 'R', 'R'], [], ['P', 'P'], ['P', 'B', 'B', 'B'], ['B', 'R', 'P', 'O'], ['O', 'O', 'O'], ['G', 'G', 'G', 'G']]\n",
            "Step 19 : [['R', 'R', 'R'], ['B', 'B', 'B'], ['P', 'P'], ['P'], ['B', 'R', 'P', 'O'], ['O', 'O', 'O'], ['G', 'G', 'G', 'G']]\n",
            "Step 20 : [['R', 'R', 'R'], ['B', 'B', 'B'], [], ['P', 'P', 'P'], ['B', 'R', 'P', 'O'], ['O', 'O', 'O'], ['G', 'G', 'G', 'G']]\n",
            "Step 21 : [[], ['B', 'B', 'B'], ['R', 'R', 'R'], ['P', 'P', 'P'], ['B', 'R', 'P', 'O'], ['O', 'O', 'O'], ['G', 'G', 'G', 'G']]\n",
            "Step 22 : [['B', 'B', 'B'], [], ['R', 'R', 'R'], ['P', 'P', 'P'], ['B', 'R', 'P', 'O'], ['O', 'O', 'O'], ['G', 'G', 'G', 'G']]\n",
            "Step 23 : [['B', 'B', 'B'], ['R', 'R', 'R'], [], ['P', 'P', 'P'], ['B', 'R', 'P', 'O'], ['O', 'O', 'O'], ['G', 'G', 'G', 'G']]\n",
            "Step 24 : [[], ['R', 'R', 'R'], ['B', 'B', 'B'], ['P', 'P', 'P'], ['B', 'R', 'P', 'O'], ['O', 'O', 'O'], ['G', 'G', 'G', 'G']]\n",
            "Step 25 : [['R', 'R', 'R'], [], ['B', 'B', 'B'], ['P', 'P', 'P'], ['B', 'R', 'P', 'O'], ['O', 'O', 'O'], ['G', 'G', 'G', 'G']]\n",
            "Step 26 : [['R', 'R', 'R'], ['P', 'P', 'P'], ['B', 'B', 'B'], [], ['B', 'R', 'P', 'O'], ['O', 'O', 'O'], ['G', 'G', 'G', 'G']]\n",
            "Step 27 : [[], ['P', 'P', 'P'], ['B', 'B', 'B'], ['R', 'R', 'R'], ['B', 'R', 'P', 'O'], ['O', 'O', 'O'], ['G', 'G', 'G', 'G']]\n",
            "Step 28 : [['P', 'P', 'P'], [], ['B', 'B', 'B'], ['R', 'R', 'R'], ['B', 'R', 'P', 'O'], ['O', 'O', 'O'], ['G', 'G', 'G', 'G']]\n",
            "Step 29 : [['P', 'P', 'P'], ['B', 'B', 'B'], [], ['R', 'R', 'R'], ['B', 'R', 'P', 'O'], ['O', 'O', 'O'], ['G', 'G', 'G', 'G']]\n",
            "Step 30 : [[], ['B', 'B', 'B'], ['P', 'P', 'P'], ['R', 'R', 'R'], ['B', 'R', 'P', 'O'], ['O', 'O', 'O'], ['G', 'G', 'G', 'G']]\n",
            "Step 31 : [['B', 'B', 'B'], [], ['P', 'P', 'P'], ['R', 'R', 'R'], ['B', 'R', 'P', 'O'], ['O', 'O', 'O'], ['G', 'G', 'G', 'G']]\n",
            "Step 32 : [['B', 'B', 'B'], ['P', 'P', 'P'], [], ['R', 'R', 'R'], ['B', 'R', 'P', 'O'], ['O', 'O', 'O'], ['G', 'G', 'G', 'G']]\n",
            "Step 33 : [['B', 'B', 'B'], ['P', 'P', 'P'], ['R', 'R', 'R'], [], ['B', 'R', 'P', 'O'], ['O', 'O', 'O'], ['G', 'G', 'G', 'G']]\n",
            "Step 34 : [[], ['P', 'P', 'P'], ['R', 'R', 'R'], ['B', 'B', 'B'], ['B', 'R', 'P', 'O'], ['O', 'O', 'O'], ['G', 'G', 'G', 'G']]\n",
            "Step 35 : [['P', 'P', 'P'], [], ['R', 'R', 'R'], ['B', 'B', 'B'], ['B', 'R', 'P', 'O'], ['O', 'O', 'O'], ['G', 'G', 'G', 'G']]\n",
            "Step 36 : [['P', 'P', 'P'], ['R', 'R', 'R'], [], ['B', 'B', 'B'], ['B', 'R', 'P', 'O'], ['O', 'O', 'O'], ['G', 'G', 'G', 'G']]\n",
            "Step 37 : [[], ['R', 'R', 'R'], ['P', 'P', 'P'], ['B', 'B', 'B'], ['B', 'R', 'P', 'O'], ['O', 'O', 'O'], ['G', 'G', 'G', 'G']]\n",
            "Step 38 : [['R', 'R', 'R'], [], ['P', 'P', 'P'], ['B', 'B', 'B'], ['B', 'R', 'P', 'O'], ['O', 'O', 'O'], ['G', 'G', 'G', 'G']]\n",
            "Step 39 : [['R', 'R', 'R'], ['P', 'P', 'P'], [], ['B', 'B', 'B'], ['B', 'R', 'P', 'O'], ['O', 'O', 'O'], ['G', 'G', 'G', 'G']]\n",
            "Step 40 : [['R', 'R', 'R'], ['P', 'P', 'P'], ['O'], ['B', 'B', 'B'], ['B', 'R', 'P'], ['O', 'O', 'O'], ['G', 'G', 'G', 'G']]\n",
            "Step 41 : [['R', 'R', 'R'], ['P', 'P'], ['O'], ['B', 'B', 'B'], ['B', 'R', 'P', 'P'], ['O', 'O', 'O'], ['G', 'G', 'G', 'G']]\n",
            "Step 42 : [['R', 'R', 'R'], ['P', 'P'], [], ['B', 'B', 'B'], ['B', 'R', 'P', 'P'], ['O', 'O', 'O', 'O'], ['G', 'G', 'G', 'G']]\n",
            "Step 43 : [[], ['P', 'P'], ['R', 'R', 'R'], ['B', 'B', 'B'], ['B', 'R', 'P', 'P'], ['O', 'O', 'O', 'O'], ['G', 'G', 'G', 'G']]\n",
            "Step 44 : [['P', 'P'], [], ['R', 'R', 'R'], ['B', 'B', 'B'], ['B', 'R', 'P', 'P'], ['O', 'O', 'O', 'O'], ['G', 'G', 'G', 'G']]\n",
            "Step 45 : [['P', 'P'], ['R', 'R', 'R'], [], ['B', 'B', 'B'], ['B', 'R', 'P', 'P'], ['O', 'O', 'O', 'O'], ['G', 'G', 'G', 'G']]\n",
            "Step 46 : [[], ['R', 'R', 'R'], ['P', 'P'], ['B', 'B', 'B'], ['B', 'R', 'P', 'P'], ['O', 'O', 'O', 'O'], ['G', 'G', 'G', 'G']]\n",
            "Step 47 : [['R', 'R', 'R'], [], ['P', 'P'], ['B', 'B', 'B'], ['B', 'R', 'P', 'P'], ['O', 'O', 'O', 'O'], ['G', 'G', 'G', 'G']]\n",
            "Step 48 : [['R', 'R', 'R'], ['B', 'B', 'B'], ['P', 'P'], [], ['B', 'R', 'P', 'P'], ['O', 'O', 'O', 'O'], ['G', 'G', 'G', 'G']]\n",
            "Step 49 : [[], ['B', 'B', 'B'], ['P', 'P'], ['R', 'R', 'R'], ['B', 'R', 'P', 'P'], ['O', 'O', 'O', 'O'], ['G', 'G', 'G', 'G']]\n",
            "Step 50 : [['B', 'B', 'B'], [], ['P', 'P'], ['R', 'R', 'R'], ['B', 'R', 'P', 'P'], ['O', 'O', 'O', 'O'], ['G', 'G', 'G', 'G']]\n",
            "Step 51 : [['B', 'B', 'B'], ['P', 'P'], [], ['R', 'R', 'R'], ['B', 'R', 'P', 'P'], ['O', 'O', 'O', 'O'], ['G', 'G', 'G', 'G']]\n",
            "Step 52 : [[], ['P', 'P'], ['B', 'B', 'B'], ['R', 'R', 'R'], ['B', 'R', 'P', 'P'], ['O', 'O', 'O', 'O'], ['G', 'G', 'G', 'G']]\n",
            "Step 53 : [['P', 'P'], [], ['B', 'B', 'B'], ['R', 'R', 'R'], ['B', 'R', 'P', 'P'], ['O', 'O', 'O', 'O'], ['G', 'G', 'G', 'G']]\n",
            "Step 54 : [['P', 'P'], ['B', 'B', 'B'], [], ['R', 'R', 'R'], ['B', 'R', 'P', 'P'], ['O', 'O', 'O', 'O'], ['G', 'G', 'G', 'G']]\n",
            "Step 55 : [['P', 'P'], ['B', 'B', 'B'], ['R', 'R', 'R'], [], ['B', 'R', 'P', 'P'], ['O', 'O', 'O', 'O'], ['G', 'G', 'G', 'G']]\n",
            "Step 56 : [[], ['B', 'B', 'B'], ['R', 'R', 'R'], ['P', 'P'], ['B', 'R', 'P', 'P'], ['O', 'O', 'O', 'O'], ['G', 'G', 'G', 'G']]\n",
            "Step 57 : [['B', 'B', 'B'], [], ['R', 'R', 'R'], ['P', 'P'], ['B', 'R', 'P', 'P'], ['O', 'O', 'O', 'O'], ['G', 'G', 'G', 'G']]\n",
            "Step 58 : [['B', 'B', 'B'], ['R', 'R', 'R'], [], ['P', 'P'], ['B', 'R', 'P', 'P'], ['O', 'O', 'O', 'O'], ['G', 'G', 'G', 'G']]\n",
            "Step 59 : [[], ['R', 'R', 'R'], ['B', 'B', 'B'], ['P', 'P'], ['B', 'R', 'P', 'P'], ['O', 'O', 'O', 'O'], ['G', 'G', 'G', 'G']]\n",
            "Step 60 : [['R', 'R', 'R'], [], ['B', 'B', 'B'], ['P', 'P'], ['B', 'R', 'P', 'P'], ['O', 'O', 'O', 'O'], ['G', 'G', 'G', 'G']]\n",
            "Step 61 : [['R', 'R', 'R'], ['B', 'B', 'B'], [], ['P', 'P'], ['B', 'R', 'P', 'P'], ['O', 'O', 'O', 'O'], ['G', 'G', 'G', 'G']]\n",
            "Step 62 : [['R', 'R', 'R'], ['B', 'B', 'B'], ['P', 'P'], ['P', 'P'], ['B', 'R'], ['O', 'O', 'O', 'O'], ['G', 'G', 'G', 'G']]\n",
            "Step 63 : [['R'], ['B', 'B', 'B'], ['P', 'P'], ['P', 'P'], ['B', 'R', 'R', 'R'], ['O', 'O', 'O', 'O'], ['G', 'G', 'G', 'G']]\n",
            "Step 64 : [['R'], ['B', 'B', 'B'], [], ['P', 'P', 'P', 'P'], ['B', 'R', 'R', 'R'], ['O', 'O', 'O', 'O'], ['G', 'G', 'G', 'G']]\n",
            "Step 65 : [[], ['B', 'B', 'B'], ['R'], ['P', 'P', 'P', 'P'], ['B', 'R', 'R', 'R'], ['O', 'O', 'O', 'O'], ['G', 'G', 'G', 'G']]\n",
            "Step 66 : [['B', 'B', 'B'], [], ['R'], ['P', 'P', 'P', 'P'], ['B', 'R', 'R', 'R'], ['O', 'O', 'O', 'O'], ['G', 'G', 'G', 'G']]\n",
            "Step 67 : [['B', 'B', 'B'], ['R'], [], ['P', 'P', 'P', 'P'], ['B', 'R', 'R', 'R'], ['O', 'O', 'O', 'O'], ['G', 'G', 'G', 'G']]\n",
            "Step 68 : [[], ['R'], ['B', 'B', 'B'], ['P', 'P', 'P', 'P'], ['B', 'R', 'R', 'R'], ['O', 'O', 'O', 'O'], ['G', 'G', 'G', 'G']]\n",
            "Step 69 : [['R'], [], ['B', 'B', 'B'], ['P', 'P', 'P', 'P'], ['B', 'R', 'R', 'R'], ['O', 'O', 'O', 'O'], ['G', 'G', 'G', 'G']]\n",
            "Step 70 : [['R'], ['P', 'P', 'P', 'P'], ['B', 'B', 'B'], [], ['B', 'R', 'R', 'R'], ['O', 'O', 'O', 'O'], ['G', 'G', 'G', 'G']]\n",
            "Step 71 : [[], ['P', 'P', 'P', 'P'], ['B', 'B', 'B'], ['R'], ['B', 'R', 'R', 'R'], ['O', 'O', 'O', 'O'], ['G', 'G', 'G', 'G']]\n",
            "Step 72 : [['P', 'P', 'P', 'P'], [], ['B', 'B', 'B'], ['R'], ['B', 'R', 'R', 'R'], ['O', 'O', 'O', 'O'], ['G', 'G', 'G', 'G']]\n",
            "Step 73 : [['P', 'P', 'P', 'P'], ['B', 'B', 'B'], [], ['R'], ['B', 'R', 'R', 'R'], ['O', 'O', 'O', 'O'], ['G', 'G', 'G', 'G']]\n",
            "Step 74 : [[], ['B', 'B', 'B'], ['P', 'P', 'P', 'P'], ['R'], ['B', 'R', 'R', 'R'], ['O', 'O', 'O', 'O'], ['G', 'G', 'G', 'G']]\n",
            "Step 75 : [['B', 'B', 'B'], [], ['P', 'P', 'P', 'P'], ['R'], ['B', 'R', 'R', 'R'], ['O', 'O', 'O', 'O'], ['G', 'G', 'G', 'G']]\n",
            "Step 76 : [['B', 'B', 'B'], ['P', 'P', 'P', 'P'], [], ['R'], ['B', 'R', 'R', 'R'], ['O', 'O', 'O', 'O'], ['G', 'G', 'G', 'G']]\n",
            "Step 77 : [['B', 'B', 'B'], ['P', 'P', 'P', 'P'], ['R'], [], ['B', 'R', 'R', 'R'], ['O', 'O', 'O', 'O'], ['G', 'G', 'G', 'G']]\n",
            "Step 78 : [[], ['P', 'P', 'P', 'P'], ['R'], ['B', 'B', 'B'], ['B', 'R', 'R', 'R'], ['O', 'O', 'O', 'O'], ['G', 'G', 'G', 'G']]\n",
            "Step 79 : [['P', 'P', 'P', 'P'], [], ['R'], ['B', 'B', 'B'], ['B', 'R', 'R', 'R'], ['O', 'O', 'O', 'O'], ['G', 'G', 'G', 'G']]\n",
            "Step 80 : [['P', 'P', 'P', 'P'], ['R'], [], ['B', 'B', 'B'], ['B', 'R', 'R', 'R'], ['O', 'O', 'O', 'O'], ['G', 'G', 'G', 'G']]\n",
            "Step 81 : [[], ['R'], ['P', 'P', 'P', 'P'], ['B', 'B', 'B'], ['B', 'R', 'R', 'R'], ['O', 'O', 'O', 'O'], ['G', 'G', 'G', 'G']]\n",
            "Step 82 : [['R'], [], ['P', 'P', 'P', 'P'], ['B', 'B', 'B'], ['B', 'R', 'R', 'R'], ['O', 'O', 'O', 'O'], ['G', 'G', 'G', 'G']]\n",
            "Step 83 : [['R'], ['P', 'P', 'P', 'P'], [], ['B', 'B', 'B'], ['B', 'R', 'R', 'R'], ['O', 'O', 'O', 'O'], ['G', 'G', 'G', 'G']]\n",
            "Step 84 : [['R', 'R', 'R', 'R'], ['P', 'P', 'P', 'P'], [], ['B', 'B', 'B'], ['B'], ['O', 'O', 'O', 'O'], ['G', 'G', 'G', 'G']]\n",
            "Step 85 : [[], ['P', 'P', 'P', 'P'], ['R', 'R', 'R', 'R'], ['B', 'B', 'B'], ['B'], ['O', 'O', 'O', 'O'], ['G', 'G', 'G', 'G']]\n",
            "Step 86 : [['P', 'P', 'P', 'P'], [], ['R', 'R', 'R', 'R'], ['B', 'B', 'B'], ['B'], ['O', 'O', 'O', 'O'], ['G', 'G', 'G', 'G']]\n",
            "Step 87 : [['P', 'P', 'P', 'P'], ['R', 'R', 'R', 'R'], [], ['B', 'B', 'B'], ['B'], ['O', 'O', 'O', 'O'], ['G', 'G', 'G', 'G']]\n",
            "Step 88 : [[], ['R', 'R', 'R', 'R'], ['P', 'P', 'P', 'P'], ['B', 'B', 'B'], ['B'], ['O', 'O', 'O', 'O'], ['G', 'G', 'G', 'G']]\n",
            "Step 89 : [['R', 'R', 'R', 'R'], [], ['P', 'P', 'P', 'P'], ['B', 'B', 'B'], ['B'], ['O', 'O', 'O', 'O'], ['G', 'G', 'G', 'G']]\n",
            "Step 90 : [['R', 'R', 'R', 'R'], ['B', 'B', 'B'], ['P', 'P', 'P', 'P'], [], ['B'], ['O', 'O', 'O', 'O'], ['G', 'G', 'G', 'G']]\n",
            "Step 91 : [[], ['B', 'B', 'B'], ['P', 'P', 'P', 'P'], ['R', 'R', 'R', 'R'], ['B'], ['O', 'O', 'O', 'O'], ['G', 'G', 'G', 'G']]\n",
            "Step 92 : [['B', 'B', 'B'], [], ['P', 'P', 'P', 'P'], ['R', 'R', 'R', 'R'], ['B'], ['O', 'O', 'O', 'O'], ['G', 'G', 'G', 'G']]\n",
            "Step 93 : [[], [], ['P', 'P', 'P', 'P'], ['R', 'R', 'R', 'R'], ['B', 'B', 'B', 'B'], ['O', 'O', 'O', 'O'], ['G', 'G', 'G', 'G']]\n"
          ]
        }
      ]
    },
    {
      "cell_type": "code",
      "source": [
        "input1 = State([['X','C','X','C'],['C','X','C','X'],[]], None)\n",
        "\n",
        "path = Astar([input1], 0, [])\n",
        "\n",
        "for i in range(len(path)):\n",
        "  print(\"Step\", i, \":\", path[i].bottles)\n"
      ],
      "metadata": {
        "colab": {
          "base_uri": "https://localhost:8080/"
        },
        "id": "b5wCxLUg8zaE",
        "outputId": "c5f58e0c-5a6f-411d-d9e6-8373471f3ca6"
      },
      "execution_count": null,
      "outputs": [
        {
          "output_type": "stream",
          "name": "stdout",
          "text": [
            "A* executed after 13 loops\n",
            "Step 0 : [['X', 'C', 'X', 'C'], ['C', 'X', 'C', 'X'], []]\n",
            "Step 1 : [['X', 'C', 'X', 'C'], ['C', 'X', 'C'], ['X']]\n",
            "Step 2 : [['X', 'C', 'X'], ['C', 'X', 'C', 'C'], ['X']]\n",
            "Step 3 : [['X', 'C'], ['C', 'X', 'C', 'C'], ['X', 'X']]\n",
            "Step 4 : [['X', 'C', 'C', 'C'], ['C', 'X'], ['X', 'X']]\n",
            "Step 5 : [['X', 'C', 'C', 'C'], ['C'], ['X', 'X', 'X']]\n",
            "Step 6 : [['X'], ['C', 'C', 'C', 'C'], ['X', 'X', 'X']]\n",
            "Step 7 : [['X', 'X', 'X', 'X'], ['C', 'C', 'C', 'C'], []]\n"
          ]
        }
      ]
    }
  ]
}