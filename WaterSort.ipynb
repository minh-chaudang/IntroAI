{
  "nbformat": 4,
  "nbformat_minor": 0,
  "metadata": {
    "colab": {
      "provenance": [],
      "authorship_tag": "ABX9TyOaLgfCgSv+Ms75iWV6AMke",
      "include_colab_link": true
    },
    "kernelspec": {
      "name": "python3",
      "display_name": "Python 3"
    },
    "language_info": {
      "name": "python"
    }
  },
  "cells": [
    {
      "cell_type": "markdown",
      "metadata": {
        "id": "view-in-github",
        "colab_type": "text"
      },
      "source": [
        "<a href=\"https://colab.research.google.com/github/minh-chaudang/IntroAI/blob/main/WaterSort.ipynb\" target=\"_parent\"><img src=\"https://colab.research.google.com/assets/colab-badge.svg\" alt=\"Open In Colab\"/></a>"
      ]
    },
    {
      "cell_type": "code",
      "source": [
        "import itertools\n",
        "import copy\n",
        "import numpy as np\n",
        "import heapq"
      ],
      "metadata": {
        "id": "mHqGaehJbuto"
      },
      "execution_count": null,
      "outputs": []
    },
    {
      "cell_type": "code",
      "source": [],
      "metadata": {
        "id": "l7VWSMZlYJdM"
      },
      "execution_count": null,
      "outputs": []
    },
    {
      "cell_type": "code",
      "source": [
        "level1 = [['O'], ['O', 'O', 'O']]\n",
        "level2 = "
      ],
      "metadata": {
        "id": "QrCA0CwWXr8G"
      },
      "execution_count": null,
      "outputs": []
    },
    {
      "cell_type": "code",
      "execution_count": null,
      "metadata": {
        "id": "A_1zlTnekUrN"
      },
      "outputs": [],
      "source": [
        "class State:\n",
        "  def __init__(self, bottles, parent = None, capacity = 0):\n",
        "    self.bottles = bottles\n",
        "    self.parent = parent\n",
        "    if parent == None:\n",
        "      self.capacity = max(len(bottle) for bottle in self.bottles)\n",
        "      self.distance = 0\n",
        "    else:\n",
        "      self.capacity = parent.capacity\n",
        "      self.distance = parent.distance + 1\n",
        "\n",
        "  # Check if this is the goal\n",
        "  def is_goal(self):\n",
        "    return all(len(bottle) == 0 or len(bottle) == self.capacity and len(set(bottle)) == 1 for bottle in self.bottles)\n",
        "\n",
        "  # Find all pourable bottle pairs\n",
        "  def pourable_pairs(self):\n",
        "    result = []\n",
        "    for i in range(len(self.bottles)-1,-1,-1):\n",
        "      for j in range(len(self.bottles)-1,-1,-1):\n",
        "        if i != j:\n",
        "          # One is containing and one is empty\n",
        "          if len(self.bottles[i]) > 0 and len(self.bottles[j]) == 0: \n",
        "            result.append((i,j))\n",
        "          # Two have the same tops\n",
        "          if len(self.bottles[i]) > 0 and len(self.bottles[j]) > 0 and self.bottles[i][-1] == self.bottles[j][-1] and len(self.bottles[j]) < self.capacity:\n",
        "            result.append((i,j))\n",
        "    return result\n",
        "\n",
        "  # Expand a state\n",
        "  def expand(self):\n",
        "    # If this state is expandible\n",
        "    children = []\n",
        "    for pair in self.pourable_pairs():\n",
        "      child = State(copy.deepcopy(self.bottles), self)\n",
        "      top = child.bottles[pair[0]][-1]\n",
        "      while len(child.bottles[pair[0]]) > 0 and child.bottles[pair[0]][-1] == top and len(child.bottles[pair[1]]) < self.capacity:\n",
        "        child.bottles[pair[0]].pop()\n",
        "        child.bottles[pair[1]].append(top)\n",
        "      children.append(child)\n",
        "    return children\n",
        "\n",
        "  # Estimated f = g + h\n",
        "  def cost(self):\n",
        "    h = 0\n",
        "    for bottle in self.bottles:\n",
        "      for i in range (len(bottle)-1):\n",
        "        if bottle[i] != bottle[i+1]: h += 1\n",
        "    return h + self.distance\n",
        "  \n",
        "  # Overide the comparator to push to a heap\n",
        "  def __lt__(self, other):\n",
        "        return self.cost() < other.cost()\n",
        "   \n",
        "  # Get path from root\n",
        "  def getpath(self):\n",
        "    path = [self]\n",
        "    while path[-1].parent != None: path.append(path[-1].parent)\n",
        "    return path"
      ]
    },
    {
      "cell_type": "code",
      "source": [
        "def DFS(stack, loop, visited):\n",
        "  while len(stack) > 0 and stack[-1].bottles in visited: stack.pop()\n",
        "  if len(stack) == 0: return \"No solutions\"\n",
        "  elif (stack[-1].is_goal()): \n",
        "    print(\"DFS executed after\", loop, \"loops\")\n",
        "    path = [stack[-1]]\n",
        "    while path[-1].parent != None: path.append(path[-1].parent)\n",
        "    path.reverse()\n",
        "    return path\n",
        "  else: \n",
        "    this_state = stack[-1]\n",
        "    stack.pop()\n",
        "    visited.append(this_state.bottles)\n",
        "    stack += this_state.expand()\n",
        "    # print(\"Loop\", loop, \":\", this_state.bottles)\n",
        "    return DFS(stack, loop+1, visited)"
      ],
      "metadata": {
        "id": "A7QzhEFaJDRI"
      },
      "execution_count": null,
      "outputs": []
    },
    {
      "cell_type": "code",
      "source": [
        "def Astar(heap, loop, visited):\n",
        "  while len(heap) > 0 and heap[0].bottles in visited: heapq.heappop(heap)\n",
        "  if len(heap) == 0: return \"No solutions\"\n",
        "  elif (heap[0].is_goal()):\n",
        "    # print(\"Goal:\", heap[0].bottles)\n",
        "    print(\"A* executed after\", loop, \"loops\")\n",
        "    path = [heap[0]]\n",
        "    while path[-1].parent != None: path.append(path[-1].parent)\n",
        "    path.reverse()\n",
        "    return path\n",
        "  else:\n",
        "    this_state = heap[0]\n",
        "    heapq.heappop(heap)\n",
        "    heap += this_state.expand()\n",
        "    heapq.heapify(heap)\n",
        "    visited.append(this_state.bottles)\n",
        "    # print(\"Loop\", loop, \":\", this_state.bottles)\n",
        "    return Astar(heap, loop+1, visited)"
      ],
      "metadata": {
        "id": "FKQ3pq18aK9a"
      },
      "execution_count": null,
      "outputs": []
    },
    {
      "cell_type": "code",
      "source": [
        "state = State([['C', 'C', 'D', 'X'], ['X', 'C', 'D', 'X'], ['D','X','C','D'],[],[]], None)\n",
        "path = Astar([state], 0, [])\n",
        "\n",
        "for i in range(len(path)):\n",
        "  print(\"Step\", i, \":\", path[i].bottles)"
      ],
      "metadata": {
        "id": "vtPzzuu29_VI",
        "colab": {
          "base_uri": "https://localhost:8080/"
        },
        "outputId": "142ce609-5381-4393-beb4-76d3d2c59738"
      },
      "execution_count": null,
      "outputs": [
        {
          "output_type": "stream",
          "name": "stdout",
          "text": [
            "A* executed after 692 loops\n",
            "Step 0 : [['C', 'C', 'D', 'X'], ['X', 'C', 'D', 'X'], ['D', 'X', 'C', 'D'], [], []]\n",
            "Step 1 : [['C', 'C', 'D', 'X'], ['X', 'C', 'D'], ['D', 'X', 'C', 'D'], ['X'], []]\n",
            "Step 2 : [['C', 'C', 'D', 'X'], ['X', 'C', 'D', 'D'], ['D', 'X', 'C'], ['X'], []]\n",
            "Step 3 : [['C', 'C', 'D'], ['X', 'C', 'D', 'D'], ['D', 'X', 'C'], ['X', 'X'], []]\n",
            "Step 4 : [['C', 'C', 'D'], ['X', 'C', 'D', 'D'], ['D', 'X'], ['X', 'X'], ['C']]\n",
            "Step 5 : [['C', 'C', 'D'], ['X', 'C', 'D', 'D'], ['D'], ['X', 'X', 'X'], ['C']]\n",
            "Step 6 : [['C', 'C'], ['X', 'C', 'D', 'D'], ['D', 'D'], ['X', 'X', 'X'], ['C']]\n",
            "Step 7 : [['C', 'C'], ['X', 'C'], ['D', 'D', 'D', 'D'], ['X', 'X', 'X'], ['C']]\n",
            "Step 8 : [['C', 'C', 'C'], ['X'], ['D', 'D', 'D', 'D'], ['X', 'X', 'X'], ['C']]\n",
            "Step 9 : [[], ['X'], ['D', 'D', 'D', 'D'], ['X', 'X', 'X'], ['C', 'C', 'C', 'C']]\n",
            "Step 10 : [[], [], ['D', 'D', 'D', 'D'], ['X', 'X', 'X', 'X'], ['C', 'C', 'C', 'C']]\n"
          ]
        }
      ]
    },
    {
      "cell_type": "code",
      "source": [
        "state = State([['C', 'C', 'D', 'X'], ['X', 'C', 'D', 'X'], ['D','X','C','D'],[],[]], None)\n",
        "path = DFS([state], 0, [])\n",
        "\n",
        "for i in range(len(path)):\n",
        "  print(\"Step\", i, \":\", path[i].bottles)"
      ],
      "metadata": {
        "colab": {
          "base_uri": "https://localhost:8080/"
        },
        "id": "wLkR8Pl87W9R",
        "outputId": "b9cf04ce-7bce-46b1-b132-bd9fdd989d7a"
      },
      "execution_count": null,
      "outputs": [
        {
          "output_type": "stream",
          "name": "stdout",
          "text": [
            "DFS executed after 21 loops\n",
            "Step 0 : [['C', 'C', 'D', 'X'], ['X', 'C', 'D', 'X'], ['D', 'X', 'C', 'D'], [], []]\n",
            "Step 1 : [['C', 'C', 'D'], ['X', 'C', 'D', 'X'], ['D', 'X', 'C', 'D'], ['X'], []]\n",
            "Step 2 : [['C', 'C'], ['X', 'C', 'D', 'X'], ['D', 'X', 'C', 'D'], ['X'], ['D']]\n",
            "Step 3 : [['C', 'C'], ['X', 'C', 'D'], ['D', 'X', 'C', 'D'], ['X', 'X'], ['D']]\n",
            "Step 4 : [['C', 'C'], ['X', 'C'], ['D', 'X', 'C', 'D'], ['X', 'X'], ['D', 'D']]\n",
            "Step 5 : [[], ['X', 'C', 'C', 'C'], ['D', 'X', 'C', 'D'], ['X', 'X'], ['D', 'D']]\n",
            "Step 6 : [['C', 'C', 'C'], ['X'], ['D', 'X', 'C', 'D'], ['X', 'X'], ['D', 'D']]\n",
            "Step 7 : [['C', 'C', 'C'], [], ['D', 'X', 'C', 'D'], ['X', 'X', 'X'], ['D', 'D']]\n",
            "Step 8 : [[], ['C', 'C', 'C'], ['D', 'X', 'C', 'D'], ['X', 'X', 'X'], ['D', 'D']]\n",
            "Step 9 : [['D'], ['C', 'C', 'C'], ['D', 'X', 'C'], ['X', 'X', 'X'], ['D', 'D']]\n",
            "Step 10 : [[], ['C', 'C', 'C'], ['D', 'X', 'C'], ['X', 'X', 'X'], ['D', 'D', 'D']]\n",
            "Step 11 : [['C', 'C', 'C'], [], ['D', 'X', 'C'], ['X', 'X', 'X'], ['D', 'D', 'D']]\n",
            "Step 12 : [['C', 'C'], [], ['D', 'X', 'C', 'C'], ['X', 'X', 'X'], ['D', 'D', 'D']]\n",
            "Step 13 : [[], ['C', 'C'], ['D', 'X', 'C', 'C'], ['X', 'X', 'X'], ['D', 'D', 'D']]\n",
            "Step 14 : [['C', 'C'], ['C', 'C'], ['D', 'X'], ['X', 'X', 'X'], ['D', 'D', 'D']]\n",
            "Step 15 : [[], ['C', 'C', 'C', 'C'], ['D', 'X'], ['X', 'X', 'X'], ['D', 'D', 'D']]\n",
            "Step 16 : [['C', 'C', 'C', 'C'], [], ['D', 'X'], ['X', 'X', 'X'], ['D', 'D', 'D']]\n",
            "Step 17 : [['C', 'C', 'C', 'C'], ['X'], ['D'], ['X', 'X', 'X'], ['D', 'D', 'D']]\n",
            "Step 18 : [['C', 'C', 'C', 'C'], [], ['D'], ['X', 'X', 'X', 'X'], ['D', 'D', 'D']]\n",
            "Step 19 : [[], ['C', 'C', 'C', 'C'], ['D'], ['X', 'X', 'X', 'X'], ['D', 'D', 'D']]\n",
            "Step 20 : [['D'], ['C', 'C', 'C', 'C'], [], ['X', 'X', 'X', 'X'], ['D', 'D', 'D']]\n",
            "Step 21 : [[], ['C', 'C', 'C', 'C'], [], ['X', 'X', 'X', 'X'], ['D', 'D', 'D', 'D']]\n"
          ]
        }
      ]
    },
    {
      "cell_type": "code",
      "source": [
        "input1 = State([['X','C','X','C'],['C','X','C','X'],[]], None)\n",
        "\n",
        "path = Astar([input1], 0, [])\n",
        "\n",
        "for i in range(len(path)):\n",
        "  print(\"Step\", i, \":\", path[i].bottles)\n"
      ],
      "metadata": {
        "colab": {
          "base_uri": "https://localhost:8080/"
        },
        "id": "b5wCxLUg8zaE",
        "outputId": "c5f58e0c-5a6f-411d-d9e6-8373471f3ca6"
      },
      "execution_count": null,
      "outputs": [
        {
          "output_type": "stream",
          "name": "stdout",
          "text": [
            "A* executed after 13 loops\n",
            "Step 0 : [['X', 'C', 'X', 'C'], ['C', 'X', 'C', 'X'], []]\n",
            "Step 1 : [['X', 'C', 'X', 'C'], ['C', 'X', 'C'], ['X']]\n",
            "Step 2 : [['X', 'C', 'X'], ['C', 'X', 'C', 'C'], ['X']]\n",
            "Step 3 : [['X', 'C'], ['C', 'X', 'C', 'C'], ['X', 'X']]\n",
            "Step 4 : [['X', 'C', 'C', 'C'], ['C', 'X'], ['X', 'X']]\n",
            "Step 5 : [['X', 'C', 'C', 'C'], ['C'], ['X', 'X', 'X']]\n",
            "Step 6 : [['X'], ['C', 'C', 'C', 'C'], ['X', 'X', 'X']]\n",
            "Step 7 : [['X', 'X', 'X', 'X'], ['C', 'C', 'C', 'C'], []]\n"
          ]
        }
      ]
    }
  ]
}