{
  "nbformat": 4,
  "nbformat_minor": 0,
  "metadata": {
    "colab": {
      "provenance": [],
      "include_colab_link": true
    },
    "kernelspec": {
      "name": "python3",
      "display_name": "Python 3"
    },
    "language_info": {
      "name": "python"
    }
  },
  "cells": [
    {
      "cell_type": "markdown",
      "metadata": {
        "id": "view-in-github",
        "colab_type": "text"
      },
      "source": [
        "<a href=\"https://colab.research.google.com/github/minh-chaudang/IntroAI/blob/main/WaterSort.ipynb\" target=\"_parent\"><img src=\"https://colab.research.google.com/assets/colab-badge.svg\" alt=\"Open In Colab\"/></a>"
      ]
    },
    {
      "cell_type": "code",
      "source": [
        "import itertools\n",
        "import copy\n",
        "import numpy as np\n",
        "import heapq"
      ],
      "metadata": {
        "id": "mHqGaehJbuto"
      },
      "execution_count": null,
      "outputs": []
    },
    {
      "cell_type": "code",
      "execution_count": null,
      "metadata": {
        "id": "A_1zlTnekUrN"
      },
      "outputs": [],
      "source": [
        "class State:\n",
        "  def __init__(self, bottles, parent = None, capacity = 0):\n",
        "    self.bottles = bottles\n",
        "    self.parent = parent\n",
        "    if parent is None:\n",
        "      self.capacity = max(len(bottle) for bottle in self.bottles)\n",
        "      self.distance = 0\n",
        "    else:\n",
        "      self.capacity = parent.capacity\n",
        "      self.distance = parent.distance + 1\n",
        "\n",
        "  # Check if this is the goal\n",
        "  def is_goal(self):\n",
        "    return all(len(bottle) == 0 or len(bottle) == self.capacity and len(set(bottle)) == 1 for bottle in self.bottles)\n",
        "\n",
        "  # Find all pourable bottle pairs\n",
        "  def pourable_pairs(self):\n",
        "    result = []\n",
        "    for i in range(len(self.bottles)-1,-1,-1):\n",
        "      for j in range(len(self.bottles)-1,-1,-1):\n",
        "        if i != j:\n",
        "          # One is containing and one is empty\n",
        "          if len(self.bottles[i]) > 0 and len(self.bottles[j]) == 0: \n",
        "            result.append((i,j))\n",
        "          # Two have the same tops\n",
        "          if len(self.bottles[i]) > 0 and len(self.bottles[j]) > 0 and self.bottles[i][-1] == self.bottles[j][-1] and len(self.bottles[j]) < self.capacity:\n",
        "            result.append((i,j))\n",
        "    return result\n",
        "\n",
        "  # Expand a state\n",
        "  def expand(self):\n",
        "    # If this state is expandible\n",
        "    children = []\n",
        "    for pair in self.pourable_pairs():\n",
        "      \n",
        "      child = State(copy.deepcopy(self.bottles), self)\n",
        "      top = child.bottles[pair[0]][-1]\n",
        "      while len(child.bottles[pair[0]]) > 0 and child.bottles[pair[0]][-1] == top and len(child.bottles[pair[1]]) < self.capacity:\n",
        "        child.bottles[pair[0]].pop()\n",
        "        child.bottles[pair[1]].append(top)\n",
        "      children.append(child)\n",
        "    return children\n",
        "\n",
        "  # Estimated f = g + h\n",
        "  def cost(self):\n",
        "    h = 0\n",
        "    for bottle in self.bottles:\n",
        "      for i in range (len(bottle)-1):\n",
        "        if bottle[i] != bottle[i+1]: h += 1\n",
        "    return h + self.distance\n",
        "  \n",
        "  # Overide the comparators\n",
        "  def __lt__(self, other):\n",
        "    return self.cost() < other.cost()\n",
        "\n",
        "  def __eq__(self, other):\n",
        "    return self.bottles == other.bottles\n",
        "   \n",
        "  # Get path from root\n",
        "  def getpath(self):\n",
        "    path = [self]\n",
        "    while path[-1].parent != None: path.append(path[-1].parent)\n",
        "    return path"
      ]
    },
    {
      "cell_type": "code",
      "source": [
        "level1 = State([['O'], ['O', 'O', 'O']])\n",
        "level2 = State([['B','O','B','O'],['O','B','O','B'],[]])\n",
        "level3 = State([['O', 'O', 'R', 'B'], ['B', 'O', 'R', 'B'], ['R','B','O','R'],[],[]])\n",
        "level4 = State([['O', 'B', 'R', 'O'], ['B', 'R', 'O', 'O'], ['B','R','B','R'],[],[]])\n",
        "level5 = State([['P','B','G','O'],['R','O','R','P'],['B','R','G','G'],['P','B','O','G'],['B','R','P','O'],[],[]])\n",
        "level6 = State([['B','P','G','G'],['B','O','R','G'],['O','B','P','B'],['R','O','R','P'],['O','G','R','P'],[],[]])\n",
        "level7 = State([['R','R','O','B'],['P','B','P','O'],['P','B','R','P'],['O','G','R','G'],['B','G','G','O'],[],[]])\n",
        "level8 = State([['O','P','G','P'],['O','R','R','B'],['B','B','G','R'],['O','G','R','O'],['G','O','P','B'],[],[]])\n",
        "level9 = State([['G','O','B','R'],['O','P','R','G'],['O','B','R','G'],['P','B','B','G'],['P','P','R','O'],[],[]])\n",
        "level10 = State([['B','B','O','P'],['O','P','Y','P'],['R','G','Y','GR'],['GR','R','GR','G'],['B','B','Y','G'],['GR','O','R','Y'],['G','R','O','P'],[],[]])\n",
        "level11 = State([['Y','P','GR','Y'],['G','R','B','Y'],['P','GR','O','R'],['O','G','G','Y'],['B','P','G','R'],['GR','R','B','O'],['P','O','B','GR'],[],[]])\n",
        "level12 = State([['R','G','G','G'],['O','R','P','G'],['P','O','R','O'],['B','P','O','P'],['B','B','B','O']])\n",
        "level13 = State([['R','O','G','P'],['GR','O','GR','G'],['B','GR','P','O'],['P','G','Y','R'],['GR','B','B','B'],['R','Y','P','R'],['O','Y','G','Y'],[],[]])\n",
        "level14 = State([['Y','GR','B','Y'],['P','B','R','G'],['B','P','G','B'],['Y','R','GR','O'],['G','O','Y','G'],['R','P','O','R'],['O','P','GR','GR'],[],[]])\n",
        "level15 = State([['G','O','R','O'],['B','B','R','O'],['P','P','B','O'],['G','P','R','B'],['G','R','G','P'],[],[]])\n",
        "level16 = State([['Y','Y','B','G'],['GR','R','O','P'],['R','G','O','B'],['GR','B','R','P'],['GR','O','P','P'],['G','Y','B','Y'],['G','GR','R','O'],[],[]])\n",
        "level17 = State([['B','B','GR','P'],['Y','R','GR','P'],['R','R','GR','B'],['G','Y','Y','O'],['G','O','GR','O'],['O','P','GR','R'],['B','Y','P','G'],[],[]])\n",
        "level18 = State([['P','R','B','P'],['R','G','G','O'],['R','O','O','P'],['P','R','G','B'],['G','O','B','B'],[],[]])\n",
        "level19 = State([['R','P','P','R'],['Y','R','B','R'],['O','G','O','O'],['GR','B','G','GR'],['G','Y','GR','O'],['Y','GR','P','Y'],['P','B','B','G'],[],[]])\n",
        "level20 = State([['P','B','G','B'],['O','GR','P','R'],['B','Y','Y','G'],['P','O','O','G'],['GR','GR','G','R'],['B','R','Y','Y'],['R','P','O','GR'],[],[]])"
      ],
      "metadata": {
        "id": "QrCA0CwWXr8G"
      },
      "execution_count": null,
      "outputs": []
    },
    {
      "cell_type": "code",
      "source": [
        "class WaterSort:\n",
        "  def __init__ (self, initial_state):\n",
        "    self.initial_state = initial_state\n",
        "\n",
        "  def DFShelper(self, stack, visited, loop, max_stack_size):\n",
        "    while len(stack) > 0:\n",
        "      \n",
        "      max_stack_size = max(len(stack), max_stack_size)\n",
        "      current = stack.pop()\n",
        "\n",
        "      # Just to check if initial state is also goal\n",
        "      if current.is_goal(): return current, loop, max_stack_size\n",
        "\n",
        "      visited.append(current)\n",
        "      children = current.expand()\n",
        "      for child in children:\n",
        "        if child.is_goal(): return child, loop, max_stack_size\n",
        "        if child not in visited: stack.append(child)\n",
        "      \n",
        "      loop += 1\n",
        "\n",
        "    return None, loop, max_stack_size\n",
        "\n",
        "  def Astarhelper(self, heap, visited, loop, max_heap_size):\n",
        "    while len(heap) > 0:\n",
        "      max_heap_size = max(max_heap_size, len(heap))\n",
        "      current = heapq.heappop(heap)\n",
        "\n",
        "      # Just to check if initial state is also goal\n",
        "      if current.is_goal(): return current, loop, max_heap_size\n",
        "\n",
        "      visited.append(current)\n",
        "      children = current.expand()\n",
        "      # for child in children: print(child.bottles)\n",
        "\n",
        "      for child in children:\n",
        "        if child.is_goal(): return child, loop, max_heap_size\n",
        "        if child not in visited: heap.append(child)\n",
        "        heapq.heapify(heap) \n",
        "      \n",
        "      loop += 1\n",
        "\n",
        "    return None, loop, max_heap_size\n",
        "\n",
        "  def DFS(self):\n",
        "    goal, loop, max_stack_size = self.DFShelper([self.initial_state], [], 0, 0)\n",
        "    if goal is None: print(\"No solution\")\n",
        "    else:\n",
        "      path = [goal]\n",
        "      while path[-1].parent is not None: path.append(path[-1].parent)\n",
        "      path.reverse()\n",
        "      print(\"DFS executed after\", loop, \"loops\", \"with max stack size\", max_stack_size)\n",
        "      for i in range(len(path)): print(\"Step\", i, \":\", path[i].bottles)\n",
        "\n",
        "  def Astar(self):\n",
        "    goal, loop, max_heap_size = self.Astarhelper([self.initial_state], [], 0, 0)\n",
        "    if goal is None: print(\"No solution\")\n",
        "    else:\n",
        "      path = [goal]\n",
        "      while path[-1].parent is not None: path.append(path[-1].parent)\n",
        "      path.reverse()\n",
        "      print(\"Astar executed after\", loop, \"loops\", \"with max stack size\", max_heap_size)\n",
        "      for i in range(len(path)): print(\"Step\", i, \":\", path[i].bottles)\n"
      ],
      "metadata": {
        "id": "Ocntr1Z09C9E"
      },
      "execution_count": null,
      "outputs": []
    },
    {
      "cell_type": "code",
      "source": [
        "ws = WaterSort(level3)\n",
        "ws.Astar()"
      ],
      "metadata": {
        "id": "FKQ3pq18aK9a",
        "outputId": "6affcc0f-6bc5-427d-a88e-c1e9fa5a3477",
        "colab": {
          "base_uri": "https://localhost:8080/"
        }
      },
      "execution_count": null,
      "outputs": [
        {
          "output_type": "stream",
          "name": "stdout",
          "text": [
            "Astar executed after 341 loops with max stack size 650\n",
            "Step 0 : [['O', 'O', 'R', 'B'], ['B', 'O', 'R', 'B'], ['R', 'B', 'O', 'R'], [], []]\n",
            "Step 1 : [['O', 'O', 'R', 'B'], ['B', 'O', 'R', 'B'], ['R', 'B', 'O'], ['R'], []]\n",
            "Step 2 : [['O', 'O', 'R', 'B'], ['B', 'O', 'R', 'B'], ['R', 'B'], ['R'], ['O']]\n",
            "Step 3 : [['O', 'O', 'R'], ['B', 'O', 'R', 'B'], ['R', 'B', 'B'], ['R'], ['O']]\n",
            "Step 4 : [['O', 'O', 'R'], ['B', 'O', 'R'], ['R', 'B', 'B', 'B'], ['R'], ['O']]\n",
            "Step 5 : [['O', 'O', 'R'], ['B', 'O'], ['R', 'B', 'B', 'B'], ['R', 'R'], ['O']]\n",
            "Step 6 : [['O', 'O'], ['B', 'O'], ['R', 'B', 'B', 'B'], ['R', 'R', 'R'], ['O']]\n",
            "Step 7 : [['O', 'O', 'O'], ['B'], ['R', 'B', 'B', 'B'], ['R', 'R', 'R'], ['O']]\n",
            "Step 8 : [['O', 'O', 'O'], ['B', 'B', 'B', 'B'], ['R'], ['R', 'R', 'R'], ['O']]\n",
            "Step 9 : [['O', 'O', 'O'], ['B', 'B', 'B', 'B'], ['R', 'R', 'R', 'R'], [], ['O']]\n",
            "Step 10 : [['O', 'O', 'O', 'O'], ['B', 'B', 'B', 'B'], ['R', 'R', 'R', 'R'], [], []]\n"
          ]
        }
      ]
    },
    {
      "cell_type": "code",
      "source": [
        "ws.DFS()"
      ],
      "metadata": {
        "colab": {
          "base_uri": "https://localhost:8080/"
        },
        "id": "bQzImr5BEuBZ",
        "outputId": "2ad53fb5-618d-4219-ad2b-9cd30a08ce59"
      },
      "execution_count": null,
      "outputs": [
        {
          "output_type": "stream",
          "name": "stdout",
          "text": [
            "DFS executed after 18 loops with max stack size 64\n",
            "Step 0 : [['O', 'O', 'R', 'B'], ['B', 'O', 'R', 'B'], ['R', 'B', 'O', 'R'], [], []]\n",
            "Step 1 : [['O', 'O', 'R'], ['B', 'O', 'R', 'B'], ['R', 'B', 'O', 'R'], ['B'], []]\n",
            "Step 2 : [['O', 'O'], ['B', 'O', 'R', 'B'], ['R', 'B', 'O', 'R'], ['B'], ['R']]\n",
            "Step 3 : [['O', 'O'], ['B', 'O', 'R'], ['R', 'B', 'O', 'R'], ['B', 'B'], ['R']]\n",
            "Step 4 : [['O', 'O'], ['B', 'O'], ['R', 'B', 'O', 'R'], ['B', 'B'], ['R', 'R']]\n",
            "Step 5 : [[], ['B', 'O', 'O', 'O'], ['R', 'B', 'O', 'R'], ['B', 'B'], ['R', 'R']]\n",
            "Step 6 : [['O', 'O', 'O'], ['B'], ['R', 'B', 'O', 'R'], ['B', 'B'], ['R', 'R']]\n",
            "Step 7 : [['O', 'O', 'O'], [], ['R', 'B', 'O', 'R'], ['B', 'B', 'B'], ['R', 'R']]\n",
            "Step 8 : [[], ['O', 'O', 'O'], ['R', 'B', 'O', 'R'], ['B', 'B', 'B'], ['R', 'R']]\n",
            "Step 9 : [['R'], ['O', 'O', 'O'], ['R', 'B', 'O'], ['B', 'B', 'B'], ['R', 'R']]\n",
            "Step 10 : [[], ['O', 'O', 'O'], ['R', 'B', 'O'], ['B', 'B', 'B'], ['R', 'R', 'R']]\n",
            "Step 11 : [['O', 'O', 'O'], [], ['R', 'B', 'O'], ['B', 'B', 'B'], ['R', 'R', 'R']]\n",
            "Step 12 : [['O', 'O'], [], ['R', 'B', 'O', 'O'], ['B', 'B', 'B'], ['R', 'R', 'R']]\n",
            "Step 13 : [[], ['O', 'O'], ['R', 'B', 'O', 'O'], ['B', 'B', 'B'], ['R', 'R', 'R']]\n",
            "Step 14 : [['O', 'O'], ['O', 'O'], ['R', 'B'], ['B', 'B', 'B'], ['R', 'R', 'R']]\n",
            "Step 15 : [[], ['O', 'O', 'O', 'O'], ['R', 'B'], ['B', 'B', 'B'], ['R', 'R', 'R']]\n",
            "Step 16 : [['O', 'O', 'O', 'O'], [], ['R', 'B'], ['B', 'B', 'B'], ['R', 'R', 'R']]\n",
            "Step 17 : [['O', 'O', 'O', 'O'], ['B'], ['R'], ['B', 'B', 'B'], ['R', 'R', 'R']]\n",
            "Step 18 : [['O', 'O', 'O', 'O'], [], ['R'], ['B', 'B', 'B', 'B'], ['R', 'R', 'R']]\n",
            "Step 19 : [['O', 'O', 'O', 'O'], [], ['R', 'R', 'R', 'R'], ['B', 'B', 'B', 'B'], []]\n"
          ]
        }
      ]
    },
    {
      "cell_type": "code",
      "source": [
        "state = State(level5, None)\n",
        "path = DFS([state], 0, [])\n",
        "\n",
        "for i in range(len(path)):\n",
        "  print(\"Step\", i, \":\", path[i].bottles)"
      ],
      "metadata": {
        "colab": {
          "base_uri": "https://localhost:8080/"
        },
        "id": "wLkR8Pl87W9R",
        "outputId": "5952df03-2a00-4218-8e99-5148b17115fb"
      },
      "execution_count": null,
      "outputs": [
        {
          "output_type": "stream",
          "name": "stdout",
          "text": [
            "DFS executed after 93 loops\n",
            "Step 0 : [['P', 'B', 'G', 'O'], ['R', 'O', 'R', 'P'], ['B', 'R', 'G', 'G'], ['P', 'B', 'O', 'G'], ['B', 'R', 'P', 'O'], [], []]\n",
            "Step 1 : [['P', 'B', 'G'], ['R', 'O', 'R', 'P'], ['B', 'R', 'G', 'G'], ['P', 'B', 'O', 'G'], ['B', 'R', 'P', 'O'], ['O'], []]\n",
            "Step 2 : [['P', 'B'], ['R', 'O', 'R', 'P'], ['B', 'R', 'G', 'G'], ['P', 'B', 'O', 'G'], ['B', 'R', 'P', 'O'], ['O'], ['G']]\n",
            "Step 3 : [['P', 'B'], ['R', 'O', 'R', 'P'], ['B', 'R'], ['P', 'B', 'O', 'G'], ['B', 'R', 'P', 'O'], ['O'], ['G', 'G', 'G']]\n",
            "Step 4 : [['P', 'B'], ['R', 'O', 'R', 'P'], ['B', 'R'], ['P', 'B', 'O'], ['B', 'R', 'P', 'O'], ['O'], ['G', 'G', 'G', 'G']]\n",
            "Step 5 : [['P', 'B'], ['R', 'O', 'R', 'P'], ['B', 'R'], ['P', 'B'], ['B', 'R', 'P', 'O'], ['O', 'O'], ['G', 'G', 'G', 'G']]\n",
            "Step 6 : [['P'], ['R', 'O', 'R', 'P'], ['B', 'R'], ['P', 'B', 'B'], ['B', 'R', 'P', 'O'], ['O', 'O'], ['G', 'G', 'G', 'G']]\n",
            "Step 7 : [['P', 'P'], ['R', 'O', 'R'], ['B', 'R'], ['P', 'B', 'B'], ['B', 'R', 'P', 'O'], ['O', 'O'], ['G', 'G', 'G', 'G']]\n",
            "Step 8 : [['P', 'P'], ['R', 'O'], ['B', 'R', 'R'], ['P', 'B', 'B'], ['B', 'R', 'P', 'O'], ['O', 'O'], ['G', 'G', 'G', 'G']]\n",
            "Step 9 : [['P', 'P'], ['R'], ['B', 'R', 'R'], ['P', 'B', 'B'], ['B', 'R', 'P', 'O'], ['O', 'O', 'O'], ['G', 'G', 'G', 'G']]\n",
            "Step 10 : [['P', 'P'], [], ['B', 'R', 'R', 'R'], ['P', 'B', 'B'], ['B', 'R', 'P', 'O'], ['O', 'O', 'O'], ['G', 'G', 'G', 'G']]\n",
            "Step 11 : [[], ['P', 'P'], ['B', 'R', 'R', 'R'], ['P', 'B', 'B'], ['B', 'R', 'P', 'O'], ['O', 'O', 'O'], ['G', 'G', 'G', 'G']]\n",
            "Step 12 : [['R', 'R', 'R'], ['P', 'P'], ['B'], ['P', 'B', 'B'], ['B', 'R', 'P', 'O'], ['O', 'O', 'O'], ['G', 'G', 'G', 'G']]\n",
            "Step 13 : [['R', 'R', 'R'], ['P', 'P'], [], ['P', 'B', 'B', 'B'], ['B', 'R', 'P', 'O'], ['O', 'O', 'O'], ['G', 'G', 'G', 'G']]\n",
            "Step 14 : [[], ['P', 'P'], ['R', 'R', 'R'], ['P', 'B', 'B', 'B'], ['B', 'R', 'P', 'O'], ['O', 'O', 'O'], ['G', 'G', 'G', 'G']]\n",
            "Step 15 : [['P', 'P'], [], ['R', 'R', 'R'], ['P', 'B', 'B', 'B'], ['B', 'R', 'P', 'O'], ['O', 'O', 'O'], ['G', 'G', 'G', 'G']]\n",
            "Step 16 : [['P', 'P'], ['R', 'R', 'R'], [], ['P', 'B', 'B', 'B'], ['B', 'R', 'P', 'O'], ['O', 'O', 'O'], ['G', 'G', 'G', 'G']]\n",
            "Step 17 : [[], ['R', 'R', 'R'], ['P', 'P'], ['P', 'B', 'B', 'B'], ['B', 'R', 'P', 'O'], ['O', 'O', 'O'], ['G', 'G', 'G', 'G']]\n",
            "Step 18 : [['R', 'R', 'R'], [], ['P', 'P'], ['P', 'B', 'B', 'B'], ['B', 'R', 'P', 'O'], ['O', 'O', 'O'], ['G', 'G', 'G', 'G']]\n",
            "Step 19 : [['R', 'R', 'R'], ['B', 'B', 'B'], ['P', 'P'], ['P'], ['B', 'R', 'P', 'O'], ['O', 'O', 'O'], ['G', 'G', 'G', 'G']]\n",
            "Step 20 : [['R', 'R', 'R'], ['B', 'B', 'B'], [], ['P', 'P', 'P'], ['B', 'R', 'P', 'O'], ['O', 'O', 'O'], ['G', 'G', 'G', 'G']]\n",
            "Step 21 : [[], ['B', 'B', 'B'], ['R', 'R', 'R'], ['P', 'P', 'P'], ['B', 'R', 'P', 'O'], ['O', 'O', 'O'], ['G', 'G', 'G', 'G']]\n",
            "Step 22 : [['B', 'B', 'B'], [], ['R', 'R', 'R'], ['P', 'P', 'P'], ['B', 'R', 'P', 'O'], ['O', 'O', 'O'], ['G', 'G', 'G', 'G']]\n",
            "Step 23 : [['B', 'B', 'B'], ['R', 'R', 'R'], [], ['P', 'P', 'P'], ['B', 'R', 'P', 'O'], ['O', 'O', 'O'], ['G', 'G', 'G', 'G']]\n",
            "Step 24 : [[], ['R', 'R', 'R'], ['B', 'B', 'B'], ['P', 'P', 'P'], ['B', 'R', 'P', 'O'], ['O', 'O', 'O'], ['G', 'G', 'G', 'G']]\n",
            "Step 25 : [['R', 'R', 'R'], [], ['B', 'B', 'B'], ['P', 'P', 'P'], ['B', 'R', 'P', 'O'], ['O', 'O', 'O'], ['G', 'G', 'G', 'G']]\n",
            "Step 26 : [['R', 'R', 'R'], ['P', 'P', 'P'], ['B', 'B', 'B'], [], ['B', 'R', 'P', 'O'], ['O', 'O', 'O'], ['G', 'G', 'G', 'G']]\n",
            "Step 27 : [[], ['P', 'P', 'P'], ['B', 'B', 'B'], ['R', 'R', 'R'], ['B', 'R', 'P', 'O'], ['O', 'O', 'O'], ['G', 'G', 'G', 'G']]\n",
            "Step 28 : [['P', 'P', 'P'], [], ['B', 'B', 'B'], ['R', 'R', 'R'], ['B', 'R', 'P', 'O'], ['O', 'O', 'O'], ['G', 'G', 'G', 'G']]\n",
            "Step 29 : [['P', 'P', 'P'], ['B', 'B', 'B'], [], ['R', 'R', 'R'], ['B', 'R', 'P', 'O'], ['O', 'O', 'O'], ['G', 'G', 'G', 'G']]\n",
            "Step 30 : [[], ['B', 'B', 'B'], ['P', 'P', 'P'], ['R', 'R', 'R'], ['B', 'R', 'P', 'O'], ['O', 'O', 'O'], ['G', 'G', 'G', 'G']]\n",
            "Step 31 : [['B', 'B', 'B'], [], ['P', 'P', 'P'], ['R', 'R', 'R'], ['B', 'R', 'P', 'O'], ['O', 'O', 'O'], ['G', 'G', 'G', 'G']]\n",
            "Step 32 : [['B', 'B', 'B'], ['P', 'P', 'P'], [], ['R', 'R', 'R'], ['B', 'R', 'P', 'O'], ['O', 'O', 'O'], ['G', 'G', 'G', 'G']]\n",
            "Step 33 : [['B', 'B', 'B'], ['P', 'P', 'P'], ['R', 'R', 'R'], [], ['B', 'R', 'P', 'O'], ['O', 'O', 'O'], ['G', 'G', 'G', 'G']]\n",
            "Step 34 : [[], ['P', 'P', 'P'], ['R', 'R', 'R'], ['B', 'B', 'B'], ['B', 'R', 'P', 'O'], ['O', 'O', 'O'], ['G', 'G', 'G', 'G']]\n",
            "Step 35 : [['P', 'P', 'P'], [], ['R', 'R', 'R'], ['B', 'B', 'B'], ['B', 'R', 'P', 'O'], ['O', 'O', 'O'], ['G', 'G', 'G', 'G']]\n",
            "Step 36 : [['P', 'P', 'P'], ['R', 'R', 'R'], [], ['B', 'B', 'B'], ['B', 'R', 'P', 'O'], ['O', 'O', 'O'], ['G', 'G', 'G', 'G']]\n",
            "Step 37 : [[], ['R', 'R', 'R'], ['P', 'P', 'P'], ['B', 'B', 'B'], ['B', 'R', 'P', 'O'], ['O', 'O', 'O'], ['G', 'G', 'G', 'G']]\n",
            "Step 38 : [['R', 'R', 'R'], [], ['P', 'P', 'P'], ['B', 'B', 'B'], ['B', 'R', 'P', 'O'], ['O', 'O', 'O'], ['G', 'G', 'G', 'G']]\n",
            "Step 39 : [['R', 'R', 'R'], ['P', 'P', 'P'], [], ['B', 'B', 'B'], ['B', 'R', 'P', 'O'], ['O', 'O', 'O'], ['G', 'G', 'G', 'G']]\n",
            "Step 40 : [['R', 'R', 'R'], ['P', 'P', 'P'], ['O'], ['B', 'B', 'B'], ['B', 'R', 'P'], ['O', 'O', 'O'], ['G', 'G', 'G', 'G']]\n",
            "Step 41 : [['R', 'R', 'R'], ['P', 'P'], ['O'], ['B', 'B', 'B'], ['B', 'R', 'P', 'P'], ['O', 'O', 'O'], ['G', 'G', 'G', 'G']]\n",
            "Step 42 : [['R', 'R', 'R'], ['P', 'P'], [], ['B', 'B', 'B'], ['B', 'R', 'P', 'P'], ['O', 'O', 'O', 'O'], ['G', 'G', 'G', 'G']]\n",
            "Step 43 : [[], ['P', 'P'], ['R', 'R', 'R'], ['B', 'B', 'B'], ['B', 'R', 'P', 'P'], ['O', 'O', 'O', 'O'], ['G', 'G', 'G', 'G']]\n",
            "Step 44 : [['P', 'P'], [], ['R', 'R', 'R'], ['B', 'B', 'B'], ['B', 'R', 'P', 'P'], ['O', 'O', 'O', 'O'], ['G', 'G', 'G', 'G']]\n",
            "Step 45 : [['P', 'P'], ['R', 'R', 'R'], [], ['B', 'B', 'B'], ['B', 'R', 'P', 'P'], ['O', 'O', 'O', 'O'], ['G', 'G', 'G', 'G']]\n",
            "Step 46 : [[], ['R', 'R', 'R'], ['P', 'P'], ['B', 'B', 'B'], ['B', 'R', 'P', 'P'], ['O', 'O', 'O', 'O'], ['G', 'G', 'G', 'G']]\n",
            "Step 47 : [['R', 'R', 'R'], [], ['P', 'P'], ['B', 'B', 'B'], ['B', 'R', 'P', 'P'], ['O', 'O', 'O', 'O'], ['G', 'G', 'G', 'G']]\n",
            "Step 48 : [['R', 'R', 'R'], ['B', 'B', 'B'], ['P', 'P'], [], ['B', 'R', 'P', 'P'], ['O', 'O', 'O', 'O'], ['G', 'G', 'G', 'G']]\n",
            "Step 49 : [[], ['B', 'B', 'B'], ['P', 'P'], ['R', 'R', 'R'], ['B', 'R', 'P', 'P'], ['O', 'O', 'O', 'O'], ['G', 'G', 'G', 'G']]\n",
            "Step 50 : [['B', 'B', 'B'], [], ['P', 'P'], ['R', 'R', 'R'], ['B', 'R', 'P', 'P'], ['O', 'O', 'O', 'O'], ['G', 'G', 'G', 'G']]\n",
            "Step 51 : [['B', 'B', 'B'], ['P', 'P'], [], ['R', 'R', 'R'], ['B', 'R', 'P', 'P'], ['O', 'O', 'O', 'O'], ['G', 'G', 'G', 'G']]\n",
            "Step 52 : [[], ['P', 'P'], ['B', 'B', 'B'], ['R', 'R', 'R'], ['B', 'R', 'P', 'P'], ['O', 'O', 'O', 'O'], ['G', 'G', 'G', 'G']]\n",
            "Step 53 : [['P', 'P'], [], ['B', 'B', 'B'], ['R', 'R', 'R'], ['B', 'R', 'P', 'P'], ['O', 'O', 'O', 'O'], ['G', 'G', 'G', 'G']]\n",
            "Step 54 : [['P', 'P'], ['B', 'B', 'B'], [], ['R', 'R', 'R'], ['B', 'R', 'P', 'P'], ['O', 'O', 'O', 'O'], ['G', 'G', 'G', 'G']]\n",
            "Step 55 : [['P', 'P'], ['B', 'B', 'B'], ['R', 'R', 'R'], [], ['B', 'R', 'P', 'P'], ['O', 'O', 'O', 'O'], ['G', 'G', 'G', 'G']]\n",
            "Step 56 : [[], ['B', 'B', 'B'], ['R', 'R', 'R'], ['P', 'P'], ['B', 'R', 'P', 'P'], ['O', 'O', 'O', 'O'], ['G', 'G', 'G', 'G']]\n",
            "Step 57 : [['B', 'B', 'B'], [], ['R', 'R', 'R'], ['P', 'P'], ['B', 'R', 'P', 'P'], ['O', 'O', 'O', 'O'], ['G', 'G', 'G', 'G']]\n",
            "Step 58 : [['B', 'B', 'B'], ['R', 'R', 'R'], [], ['P', 'P'], ['B', 'R', 'P', 'P'], ['O', 'O', 'O', 'O'], ['G', 'G', 'G', 'G']]\n",
            "Step 59 : [[], ['R', 'R', 'R'], ['B', 'B', 'B'], ['P', 'P'], ['B', 'R', 'P', 'P'], ['O', 'O', 'O', 'O'], ['G', 'G', 'G', 'G']]\n",
            "Step 60 : [['R', 'R', 'R'], [], ['B', 'B', 'B'], ['P', 'P'], ['B', 'R', 'P', 'P'], ['O', 'O', 'O', 'O'], ['G', 'G', 'G', 'G']]\n",
            "Step 61 : [['R', 'R', 'R'], ['B', 'B', 'B'], [], ['P', 'P'], ['B', 'R', 'P', 'P'], ['O', 'O', 'O', 'O'], ['G', 'G', 'G', 'G']]\n",
            "Step 62 : [['R', 'R', 'R'], ['B', 'B', 'B'], ['P', 'P'], ['P', 'P'], ['B', 'R'], ['O', 'O', 'O', 'O'], ['G', 'G', 'G', 'G']]\n",
            "Step 63 : [['R'], ['B', 'B', 'B'], ['P', 'P'], ['P', 'P'], ['B', 'R', 'R', 'R'], ['O', 'O', 'O', 'O'], ['G', 'G', 'G', 'G']]\n",
            "Step 64 : [['R'], ['B', 'B', 'B'], [], ['P', 'P', 'P', 'P'], ['B', 'R', 'R', 'R'], ['O', 'O', 'O', 'O'], ['G', 'G', 'G', 'G']]\n",
            "Step 65 : [[], ['B', 'B', 'B'], ['R'], ['P', 'P', 'P', 'P'], ['B', 'R', 'R', 'R'], ['O', 'O', 'O', 'O'], ['G', 'G', 'G', 'G']]\n",
            "Step 66 : [['B', 'B', 'B'], [], ['R'], ['P', 'P', 'P', 'P'], ['B', 'R', 'R', 'R'], ['O', 'O', 'O', 'O'], ['G', 'G', 'G', 'G']]\n",
            "Step 67 : [['B', 'B', 'B'], ['R'], [], ['P', 'P', 'P', 'P'], ['B', 'R', 'R', 'R'], ['O', 'O', 'O', 'O'], ['G', 'G', 'G', 'G']]\n",
            "Step 68 : [[], ['R'], ['B', 'B', 'B'], ['P', 'P', 'P', 'P'], ['B', 'R', 'R', 'R'], ['O', 'O', 'O', 'O'], ['G', 'G', 'G', 'G']]\n",
            "Step 69 : [['R'], [], ['B', 'B', 'B'], ['P', 'P', 'P', 'P'], ['B', 'R', 'R', 'R'], ['O', 'O', 'O', 'O'], ['G', 'G', 'G', 'G']]\n",
            "Step 70 : [['R'], ['P', 'P', 'P', 'P'], ['B', 'B', 'B'], [], ['B', 'R', 'R', 'R'], ['O', 'O', 'O', 'O'], ['G', 'G', 'G', 'G']]\n",
            "Step 71 : [[], ['P', 'P', 'P', 'P'], ['B', 'B', 'B'], ['R'], ['B', 'R', 'R', 'R'], ['O', 'O', 'O', 'O'], ['G', 'G', 'G', 'G']]\n",
            "Step 72 : [['P', 'P', 'P', 'P'], [], ['B', 'B', 'B'], ['R'], ['B', 'R', 'R', 'R'], ['O', 'O', 'O', 'O'], ['G', 'G', 'G', 'G']]\n",
            "Step 73 : [['P', 'P', 'P', 'P'], ['B', 'B', 'B'], [], ['R'], ['B', 'R', 'R', 'R'], ['O', 'O', 'O', 'O'], ['G', 'G', 'G', 'G']]\n",
            "Step 74 : [[], ['B', 'B', 'B'], ['P', 'P', 'P', 'P'], ['R'], ['B', 'R', 'R', 'R'], ['O', 'O', 'O', 'O'], ['G', 'G', 'G', 'G']]\n",
            "Step 75 : [['B', 'B', 'B'], [], ['P', 'P', 'P', 'P'], ['R'], ['B', 'R', 'R', 'R'], ['O', 'O', 'O', 'O'], ['G', 'G', 'G', 'G']]\n",
            "Step 76 : [['B', 'B', 'B'], ['P', 'P', 'P', 'P'], [], ['R'], ['B', 'R', 'R', 'R'], ['O', 'O', 'O', 'O'], ['G', 'G', 'G', 'G']]\n",
            "Step 77 : [['B', 'B', 'B'], ['P', 'P', 'P', 'P'], ['R'], [], ['B', 'R', 'R', 'R'], ['O', 'O', 'O', 'O'], ['G', 'G', 'G', 'G']]\n",
            "Step 78 : [[], ['P', 'P', 'P', 'P'], ['R'], ['B', 'B', 'B'], ['B', 'R', 'R', 'R'], ['O', 'O', 'O', 'O'], ['G', 'G', 'G', 'G']]\n",
            "Step 79 : [['P', 'P', 'P', 'P'], [], ['R'], ['B', 'B', 'B'], ['B', 'R', 'R', 'R'], ['O', 'O', 'O', 'O'], ['G', 'G', 'G', 'G']]\n",
            "Step 80 : [['P', 'P', 'P', 'P'], ['R'], [], ['B', 'B', 'B'], ['B', 'R', 'R', 'R'], ['O', 'O', 'O', 'O'], ['G', 'G', 'G', 'G']]\n",
            "Step 81 : [[], ['R'], ['P', 'P', 'P', 'P'], ['B', 'B', 'B'], ['B', 'R', 'R', 'R'], ['O', 'O', 'O', 'O'], ['G', 'G', 'G', 'G']]\n",
            "Step 82 : [['R'], [], ['P', 'P', 'P', 'P'], ['B', 'B', 'B'], ['B', 'R', 'R', 'R'], ['O', 'O', 'O', 'O'], ['G', 'G', 'G', 'G']]\n",
            "Step 83 : [['R'], ['P', 'P', 'P', 'P'], [], ['B', 'B', 'B'], ['B', 'R', 'R', 'R'], ['O', 'O', 'O', 'O'], ['G', 'G', 'G', 'G']]\n",
            "Step 84 : [['R', 'R', 'R', 'R'], ['P', 'P', 'P', 'P'], [], ['B', 'B', 'B'], ['B'], ['O', 'O', 'O', 'O'], ['G', 'G', 'G', 'G']]\n",
            "Step 85 : [[], ['P', 'P', 'P', 'P'], ['R', 'R', 'R', 'R'], ['B', 'B', 'B'], ['B'], ['O', 'O', 'O', 'O'], ['G', 'G', 'G', 'G']]\n",
            "Step 86 : [['P', 'P', 'P', 'P'], [], ['R', 'R', 'R', 'R'], ['B', 'B', 'B'], ['B'], ['O', 'O', 'O', 'O'], ['G', 'G', 'G', 'G']]\n",
            "Step 87 : [['P', 'P', 'P', 'P'], ['R', 'R', 'R', 'R'], [], ['B', 'B', 'B'], ['B'], ['O', 'O', 'O', 'O'], ['G', 'G', 'G', 'G']]\n",
            "Step 88 : [[], ['R', 'R', 'R', 'R'], ['P', 'P', 'P', 'P'], ['B', 'B', 'B'], ['B'], ['O', 'O', 'O', 'O'], ['G', 'G', 'G', 'G']]\n",
            "Step 89 : [['R', 'R', 'R', 'R'], [], ['P', 'P', 'P', 'P'], ['B', 'B', 'B'], ['B'], ['O', 'O', 'O', 'O'], ['G', 'G', 'G', 'G']]\n",
            "Step 90 : [['R', 'R', 'R', 'R'], ['B', 'B', 'B'], ['P', 'P', 'P', 'P'], [], ['B'], ['O', 'O', 'O', 'O'], ['G', 'G', 'G', 'G']]\n",
            "Step 91 : [[], ['B', 'B', 'B'], ['P', 'P', 'P', 'P'], ['R', 'R', 'R', 'R'], ['B'], ['O', 'O', 'O', 'O'], ['G', 'G', 'G', 'G']]\n",
            "Step 92 : [['B', 'B', 'B'], [], ['P', 'P', 'P', 'P'], ['R', 'R', 'R', 'R'], ['B'], ['O', 'O', 'O', 'O'], ['G', 'G', 'G', 'G']]\n",
            "Step 93 : [[], [], ['P', 'P', 'P', 'P'], ['R', 'R', 'R', 'R'], ['B', 'B', 'B', 'B'], ['O', 'O', 'O', 'O'], ['G', 'G', 'G', 'G']]\n"
          ]
        }
      ]
    },
    {
      "cell_type": "code",
      "source": [
        "input1 = State([['X','C','X','C'],['C','X','C','X'],[]], None)\n",
        "\n",
        "path = Astar([input1], 0, [])\n",
        "\n",
        "for i in range(len(path)):\n",
        "  print(\"Step\", i, \":\", path[i].bottles)\n"
      ],
      "metadata": {
        "colab": {
          "base_uri": "https://localhost:8080/"
        },
        "id": "b5wCxLUg8zaE",
        "outputId": "c5f58e0c-5a6f-411d-d9e6-8373471f3ca6"
      },
      "execution_count": null,
      "outputs": [
        {
          "output_type": "stream",
          "name": "stdout",
          "text": [
            "A* executed after 13 loops\n",
            "Step 0 : [['X', 'C', 'X', 'C'], ['C', 'X', 'C', 'X'], []]\n",
            "Step 1 : [['X', 'C', 'X', 'C'], ['C', 'X', 'C'], ['X']]\n",
            "Step 2 : [['X', 'C', 'X'], ['C', 'X', 'C', 'C'], ['X']]\n",
            "Step 3 : [['X', 'C'], ['C', 'X', 'C', 'C'], ['X', 'X']]\n",
            "Step 4 : [['X', 'C', 'C', 'C'], ['C', 'X'], ['X', 'X']]\n",
            "Step 5 : [['X', 'C', 'C', 'C'], ['C'], ['X', 'X', 'X']]\n",
            "Step 6 : [['X'], ['C', 'C', 'C', 'C'], ['X', 'X', 'X']]\n",
            "Step 7 : [['X', 'X', 'X', 'X'], ['C', 'C', 'C', 'C'], []]\n"
          ]
        }
      ]
    }
  ]
}