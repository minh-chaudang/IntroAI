{
  "nbformat": 4,
  "nbformat_minor": 0,
  "metadata": {
    "colab": {
      "provenance": [],
      "authorship_tag": "ABX9TyPHV20JGq1m9scp7qRKvw9+",
      "include_colab_link": true
    },
    "kernelspec": {
      "name": "python3",
      "display_name": "Python 3"
    },
    "language_info": {
      "name": "python"
    }
  },
  "cells": [
    {
      "cell_type": "markdown",
      "metadata": {
        "id": "view-in-github",
        "colab_type": "text"
      },
      "source": [
        "<a href=\"https://colab.research.google.com/github/minh-chaudang/IntroAI/blob/main/WaterSort.ipynb\" target=\"_parent\"><img src=\"https://colab.research.google.com/assets/colab-badge.svg\" alt=\"Open In Colab\"/></a>"
      ]
    },
    {
      "cell_type": "code",
      "source": [
        "import itertools\n",
        "import copy"
      ],
      "metadata": {
        "id": "mHqGaehJbuto"
      },
      "execution_count": null,
      "outputs": []
    },
    {
      "cell_type": "code",
      "execution_count": null,
      "metadata": {
        "id": "A_1zlTnekUrN"
      },
      "outputs": [],
      "source": [
        "class State:\n",
        "  def __init__(self, bottles, parent = None, capactity = 0):\n",
        "    self.bottles = bottles\n",
        "    self.parent = parent\n",
        "    self.capacity =  max(len(bottle) for bottle in self.bottles)\n",
        "\n",
        "\n",
        "  # Check if this is the goal\n",
        "  def is_goal(self):\n",
        "    return all(len(set(bottle)) <= 1 for bottle in self.bottles)\n",
        "\n",
        "  # Find all pourable bottle pairs\n",
        "  def pourable_pairs(self):\n",
        "    result = []\n",
        "    for i in range(len(self.bottles)):\n",
        "      for j in range(len(self.bottles)):\n",
        "        if i != j:\n",
        "          # One is containing and one is empty\n",
        "          if len(self.bottles[i]) > 0 and len(self.bottles[j]) == 0: \n",
        "            result.append((i,j))\n",
        "          # Two have the same tops\n",
        "          if len(self.bottles[i]) > 0 and len(self.bottles[j]) > 0 and self.bottles[i][-1] == self.bottles[j][-1] and len(self.bottles[j]) < self.capacity:\n",
        "            result.append((i,j))\n",
        "    return result\n",
        "\n",
        "  # Expand a state\n",
        "  def expand(self):\n",
        "    # If this state is expandible\n",
        "    for pair in self.pourable_pairs():\n",
        "      child = State(copy.deepcopy(self.bottles), self)\n",
        "      top = child.bottles[pair[0]][-1]\n",
        "      while len(child.bottles[pair[0]]) > 0 and child.bottles[pair[0]][-1] == top and len(child.bottles[pair[1]]) < self.capacity:\n",
        "        child.bottles[pair[0]].pop()\n",
        "        child.bottles[pair[1]].append(top)\n",
        "      self.children.append(child)\n",
        "\n",
        "  # Breadth first search\n",
        "  def DFS(self, distance, visited):\n",
        "      if self.is_goal(): \n",
        "        return self\n",
        "      else:\n",
        "        visited.append(self.bottles)\n",
        "        print(\"Distance from root\", distance, \":\", self.bottles)\n",
        "        self.expand()\n",
        "        if len(self.children) > 0:\n",
        "          for child in self.children: \n",
        "            if child.bottles not in visited:\n",
        "              child.DFS(distance + 1, visited)\n",
        "        else: return \"No solutions\"\n",
        "      "
      ]
    },
    {
      "cell_type": "code",
      "source": [
        "from typing_extensions import Final\n",
        "state = State([['C', 'C', 'D', 'X'], ['X', 'C', 'D', 'X'], ['D','X','C','D'],[],[]], None)\n",
        "visited = []\n",
        "final = state.DFS(0, visited)\n",
        "print(\"Solution:\")\n",
        "print(final.bottles)"
      ],
      "metadata": {
        "id": "pviKWMryVe8G"
      },
      "execution_count": null,
      "outputs": []
    },
    {
      "cell_type": "code",
      "source": [
        "another = State([['C', 'C', 'D'], ['X', 'C', 'D', 'X'], ['D', 'X', 'C', 'D'], ['X'], []], None)\n",
        "another.expand()\n",
        "print(child.bottles for child in another.children)"
      ],
      "metadata": {
        "id": "vtPzzuu29_VI"
      },
      "execution_count": null,
      "outputs": []
    },
    {
      "cell_type": "code",
      "source": [
        "a = [[], [['C', 'C', 'C'], ['D', 'X', 'C', 'D'], ['X', 'X', 'X'], ['D', 'D']],[['C', 'C', 'C'], [], ['D', 'X', 'C', 'D'], ['X', 'X', 'X'], ['D', 'D']]]\n",
        "print([['C', 'C', 'C'], ['D', 'X', 'C', 'D'], ['X', 'X', 'X'], ['D', 'D']] not in a)"
      ],
      "metadata": {
        "colab": {
          "base_uri": "https://localhost:8080/"
        },
        "id": "yjOixbZRB6WZ",
        "outputId": "719cc6d4-b4dd-46d1-fa9d-27cc6439b70c"
      },
      "execution_count": null,
      "outputs": [
        {
          "output_type": "stream",
          "name": "stdout",
          "text": [
            "False\n"
          ]
        }
      ]
    }
  ]
}