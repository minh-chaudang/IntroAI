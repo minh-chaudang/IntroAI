{
  "cells": [
    {
      "cell_type": "markdown",
      "metadata": {
        "id": "view-in-github",
        "colab_type": "text"
      },
      "source": [
        "<a href=\"https://colab.research.google.com/github/minh-chaudang/IntroAI/blob/main/Bloxorz_full_button.ipynb\" target=\"_parent\"><img src=\"https://colab.research.google.com/assets/colab-badge.svg\" alt=\"Open In Colab\"/></a>"
      ]
    },
    {
      "cell_type": "code",
      "execution_count": 2,
      "metadata": {
        "id": "EQvZfIEXYpJS"
      },
      "outputs": [],
      "source": [
        "import copy\n",
        "import time\n",
        "import os\n",
        "import random\n",
        "import numpy as np"
      ]
    },
    {
      "cell_type": "code",
      "source": [
        "# Create a dictionary to save memory later\n",
        "move = {None: \"Initial Block\", 0 : \"NONE\", -1 : \"UP\", 1 : \"DOWN\", -2 : \"LEFT\", 2 : \"RIGHT\"}\n",
        "state = {0 : \"STANDING\", 1 : \"LYING_HORIZONTALLY\", 2 : \"LYING_VERTICALLY\", 3 : \"SPLIT\"}\n",
        "square = {0 : \"NONE\", 1 : \"WEAK\", 2 : \"STRONG\", 3 : \"WEAK_SWITCH\", 4 : \"STRONG_SWITCH\", 5 : \"TELEPORT\"}"
      ],
      "metadata": {
        "id": "kT_MnqgDzpfd"
      },
      "execution_count": null,
      "outputs": []
    },
    {
      "cell_type": "code",
      "source": [
        "class Position:\n",
        "  def __init__(self, x, y):\n",
        "    self.x = x\n",
        "    self.y = y\n",
        "\n",
        "  # Overide the comparator\n",
        "  def __eq__(self, other):\n",
        "    return self.x == other.x and self.y == other.y\n",
        "  def __lt__(self, other):\n",
        "    return self.x**2 + self.y**2 < other.x**2 + other.y**2"
      ],
      "metadata": {
        "id": "srQVSx91ca-J"
      },
      "execution_count": 9,
      "outputs": []
    },
    {
      "cell_type": "code",
      "execution_count": null,
      "metadata": {
        "id": "j136GR83Y9uH"
      },
      "outputs": [],
      "source": [
        "# Position of the block in the map\n",
        "class Block:\n",
        "  def __init__(self, parts, parent = None, move_from_parent = None):\n",
        "    self.parts = sorted(parts)\n",
        "    self.parent = parent\n",
        "    self.move_from_parent = move_from_parent\n",
        "    self.state = self.get_state()\n",
        "\n",
        "  def get_state(self):\n",
        "    row_diff = abs(self.parts[0][0] - self.parts[1][0])\n",
        "    col_diff = abs(self.parts[0][1] - self.parts[1][1])\n",
        "\n",
        "    if row_diff == 0 and col_diff == 0: return 0\n",
        "    elif row_diff == 0 and col_diff == 1: return 1\n",
        "    elif row_diff == 1 and col_diff == 0: return 2\n",
        "    else: return 3\n",
        "  \n",
        "  def move(self, instruction, movable_part = None):\n",
        "    if instruction == 0: return copy.copy(self)\n",
        "    else: \n",
        "      affected_axis = abs(instruction)-1\n",
        "      parts = copy.deepcopy(self.parts)\n",
        "      product = abs(instruction*self.state)\n",
        "\n",
        "      if self.state == 3:\n",
        "        parts[movable_part][affected_axis] += np.sign(instruction)\n",
        "      else:\n",
        "        if product == 0:\n",
        "        # Standing\n",
        "          parts[0][affected_axis] += np.sign(instruction)*2\n",
        "          parts[1][affected_axis] += np.sign(instruction)\n",
        "        elif product == 2:\n",
        "        # Apply max/min\n",
        "          if instruction < 0: \n",
        "            parts[0][affected_axis] = min(parts[0][affected_axis], parts[1][affected_axis]) - 1\n",
        "            parts[1][affected_axis] = parts[0][affected_axis]\n",
        "          else:\n",
        "            parts[0][affected_axis] = max(parts[0][affected_axis], parts[1][affected_axis]) + 1\n",
        "            parts[1][affected_axis] = parts[0][affected_axis]\n",
        "        else:\n",
        "          parts[0][affected_axis] += np.sign(instruction)\n",
        "          parts[1][affected_axis] += np.sign(instruction)\n",
        "        \n",
        "      if self.state == 3: return Block(parts, self, (instruction, movable_part))\n",
        "      else: return Block(parts, self, instruction)"
      ]
    },
    {
      "cell_type": "code",
      "source": [
        "class Special_button:\n",
        "  def __init__ (self, name, position, effect_positions):\n",
        "    self.name = name\n",
        "    self.postion = position\n",
        "    self.affects = affects"
      ],
      "metadata": {
        "id": "3y7nuZOIe7Q7"
      },
      "execution_count": null,
      "outputs": []
    },
    {
      "cell_type": "code",
      "source": [
        "class State:\n",
        "  def __init__(self, block, special_button_state):\n",
        "    self.block = block\n",
        "    self.special_button_state = special_button_state\n",
        "\n",
        "  # two state is considered equal if their parts and special_button_state array are equal\n",
        "  def __eq__(self, other):\n",
        "    return self.block.parts == other.block.parts and self.special_button_state == other.special_button_state"
      ],
      "metadata": {
        "id": "NB2sVXMNcN82"
      },
      "execution_count": null,
      "outputs": []
    },
    {
      "cell_type": "code",
      "source": [
        "class BLOXORZ:\n",
        "  def __init__(self, map, initial_block, special_buttons, current_state = None):\n",
        "    self.map = map\n",
        "    self.special_buttons = special_buttons\n",
        "    self.initial_state = State(block, [0]*len(special_buttons))\n",
        "  \n",
        "    self.goal = [(index, row.index(10)) for index, row in enumerate(map) if 10 in row][0]\n",
        "    self.current =self.initial_state\n",
        "\n",
        "  def update_state(self, current = None):\n",
        "    if current == None: current = self.current\n",
        "\n",
        "  def expand(self, current = None):\n",
        "    if current == None: current = self.current\n",
        "    children = []\n",
        "    for instruction in [-1,1,-2,2]:\n",
        "      child = current.move(instruction)\n",
        "      if self.is_valid(child): children.append(child)\n",
        "    return children\n"
      ],
      "metadata": {
        "id": "TvI19U3ea_ZW"
      },
      "execution_count": null,
      "outputs": []
    },
    {
      "cell_type": "code",
      "source": [
        " # This is the original DFS\n",
        "def helper(game, stack, visited, loop):\n",
        "  while len(stack) > 0:\n",
        "    game.current = stack.pop()\n",
        "    visited.append(game.current.parts)\n",
        "    children = game.expand() \n",
        "    # if game.current.parent != None and game.current.parent.parts == [[0, 9], [1, 9]]: \n",
        "    # if game.current.parent != None:\n",
        "    #   print(game.current.parent.parts, move[game.current.move_from_parent], game.current.parts)\n",
        "    for child in children:\n",
        "      \n",
        "      if game.is_goal(child): \n",
        "        print(\"Goal:\", child.parts)\n",
        "        return child, loop\n",
        "      if child.parts not in visited: stack.append(child)\n",
        "\n",
        "    loop = loop + 1\n",
        "  return -1, loop\n",
        "\n",
        "#This is used to call DFS more conveniently\n",
        "def DFS(game):\n",
        "  index = 0;\n",
        "  goal, loop = helper(game, [game.initial_block], [], 0)\n",
        "  if goal == -1: print(\"No solutions\")\n",
        "  else:\n",
        "    path = [goal]\n",
        "    while path[-1].parent != None: path.append(path[-1].parent)\n",
        "    path.reverse()\n",
        "    print(\"Goal reached after\", loop, \"loops\")\n",
        "    for position in path: \n",
        "      print(\"Steps\", index, move[position.move_from_parent],\":\", position.parts)\n",
        "      index = index + 1"
      ],
      "metadata": {
        "id": "kzrvwc_ObDK_"
      },
      "execution_count": null,
      "outputs": []
    },
    {
      "cell_type": "code",
      "source": [
        "level1 = BLOXORZ([[2,2,2,0,0,0,0,0,0,0],\n",
        "                  [2,2,2,2,2,2,0,0,0,0],\n",
        "                  [2,2,2,2,2,2,2,2,2,0],\n",
        "                  [0,2,2,2,2,2,2,2,2,2], \n",
        "                  [0,0,0,0,0,2,2,10,2,2], \n",
        "                  [0,0,0,0,0,0,2,2,2,0]], Block([[1,1],[1,1]]))\n",
        "\n",
        "level2 = BLOXORZ([[0,0,0,0,0,0,2,2,2,2,0,0,2,2,2],\n",
        "                  [2,2,2,2,0,0,2,2,2,2,0,0,2,10,2],\n",
        "                  [2,2,2,2,0,0,2,2,2,2,0,0,2,2,2],\n",
        "                  [2,2,2,2,0,0,2,2,2,2,0,0,2,2,2],\n",
        "                  [2,2,2,2,2,2,2,2,2,2,2,2,2,2,2],\n",
        "                  [2,2,2,2,0,0,2,2,2,2,0,0,0,0,0]], Block([[3,1],[3,1]]))\n",
        "\n",
        "level3 = BLOXORZ([[0,0,0,0,0,0,2,2,2,2,2,2,2,0,0],\n",
        "                  [2,2,2,2,0,0,2,2,2,0,0,2,2,0,0],\n",
        "                  [2,2,2,2,2,2,2,2,2,0,0,2,2,10,2],\n",
        "                  [2,2,2,2,0,0,0,0,0,0,0,2,2,2,2],\n",
        "                  [0,0,0,0,0,0,0,0,0,0,0,0,2,2,2]], Block([[2,1],[2,1]]))\n",
        "\n",
        "level4 = BLOXORZ([[0,0,0,1,1,1,1,1,1,1,0,0,0,0],\n",
        "                  [0,0,0,1,1,1,1,1,1,1,0,0,0,0],\n",
        "                  [2,2,2,2,0,0,0,0,0,2,2,2,0,0],\n",
        "                  [2,2,2,0,0,0,0,0,0,0,2,2,0,0],\n",
        "                  [2,2,2,0,0,0,0,0,0,0,2,2,0,0],\n",
        "                  [2,2,2,0,0,2,2,2,2,1,1,1,1,1],\n",
        "                  [2,2,2,0,0,2,2,2,2,1,1,1,1,1],\n",
        "                  [0,0,0,0,0,2,10,2,0,0,1,1,2,1],\n",
        "                  [0,0,0,0,0,2,2,2,0,0,1,1,1,1]], Block([[5,1],[5,1]]))\n",
        "\n",
        "level5 = BLOXORZ([[0,0,0,0,0,0,0,0,0,0,0,2,2,2,2],\n",
        "                  [0,2,2,2,2,2,2,2,2,2,2,2,2,2,2],\n",
        "                  [0,2,2,2,2,0,0,0,0,0,0,0,2,2,2],\n",
        "                  [0,2,2,2,2,0,0,0,0,0,0,0,0,0,0],\n",
        "                  [0,2,2,2,2,0,0,0,0,0,0,0,0,0,0],\n",
        "                  [0,0,0,2,2,2,2,2,2,2,2,2,2,0,0],\n",
        "                  [0,0,0,0,0,0,0,0,0,0,2,2,2,2,2],\n",
        "                  [2,2,2,0,0,0,0,0,0,0,2,2,2,2,2],\n",
        "                  [2,10,2,2,2,2,2,2,2,2,2,2,2,0,0],\n",
        "                  [2,2,2,2,2,0,0,0,0,0,0,0,0,0,0]], Block([[1,12],[1,12]]))\n",
        "\n",
        "level6 = BLOXORZ([[0,0,0,0,0,2,2,2,2,2,2,0,0,0,0],\n",
        "                  [0,0,0,0,0,2,0,0,2,2,2,0,0,0,0],\n",
        "                  [0,0,0,0,0,2,0,0,2,2,2,2,2,0,0],\n",
        "                  [2,2,2,2,2,2,0,0,0,0,0,2,2,2,2],\n",
        "                  [0,0,0,0,2,2,2,0,0,0,0,2,2,10,2],\n",
        "                  [0,0,0,0,2,2,2,0,0,0,0,0,2,2,2],\n",
        "                  [0,0,0,0,0,0,2,0,0,2,2,0,0,0,0],\n",
        "                  [0,0,0,0,0,0,2,2,2,2,2,0,0,0,0],\n",
        "                  [0,0,0,0,0,0,2,2,2,2,2,0,0,0,0],\n",
        "                  [0,0,0,0,0,0,0,2,2,2,0,0,0,0,0]], Block([[3,0],[3,0]]))\n"
      ],
      "metadata": {
        "id": "Q3kO64Txa23N"
      },
      "execution_count": null,
      "outputs": []
    },
    {
      "cell_type": "code",
      "source": [
        "DFS(level6)"
      ],
      "metadata": {
        "id": "jRhO7tYzHSWB"
      },
      "execution_count": null,
      "outputs": []
    },
    {
      "cell_type": "code",
      "source": [
        "print(level4.map[0][2])\n",
        "print(level4.is_valid(Block([[0,2],[1,2]])))"
      ],
      "metadata": {
        "colab": {
          "base_uri": "https://localhost:8080/"
        },
        "id": "pIk9tAVMVjrA",
        "outputId": "c5d6e3b8-9830-4738-c948-a5a0dee5dcf3"
      },
      "execution_count": null,
      "outputs": [
        {
          "output_type": "stream",
          "name": "stdout",
          "text": [
            "0\n",
            "False\n"
          ]
        }
      ]
    },
    {
      "cell_type": "code",
      "source": [
        "block = Block([[5,1],[5,1]])\n",
        "print(block.move(-1).parts)"
      ],
      "metadata": {
        "colab": {
          "base_uri": "https://localhost:8080/"
        },
        "id": "8bWa_cjsUJC9",
        "outputId": "2614371b-99e3-42a9-b626-039d0b80c81b"
      },
      "execution_count": null,
      "outputs": [
        {
          "output_type": "stream",
          "name": "stdout",
          "text": [
            "[[3, 1], [4, 1]]\n"
          ]
        }
      ]
    },
    {
      "cell_type": "code",
      "source": [
        "level4.is_valid(Block([[3,1],[4,1]]))"
      ],
      "metadata": {
        "colab": {
          "base_uri": "https://localhost:8080/"
        },
        "id": "U6TH-VnlT1jg",
        "outputId": "b2ab0305-0181-43de-cc5d-b4fbda5eaf68"
      },
      "execution_count": null,
      "outputs": [
        {
          "output_type": "execute_result",
          "data": {
            "text/plain": [
              "True"
            ]
          },
          "metadata": {},
          "execution_count": 98
        }
      ]
    },
    {
      "cell_type": "code",
      "source": [],
      "metadata": {
        "id": "fplPHzzbMTrd"
      },
      "execution_count": null,
      "outputs": []
    },
    {
      "cell_type": "code",
      "source": [
        "print(level2.initial_block.parts)"
      ],
      "metadata": {
        "colab": {
          "base_uri": "https://localhost:8080/"
        },
        "id": "DlfkfXj7H82m",
        "outputId": "284173b0-12cf-4826-e2f7-4ab69219d149"
      },
      "execution_count": null,
      "outputs": [
        {
          "output_type": "stream",
          "name": "stdout",
          "text": [
            "[[3, 1], [3, 1]]\n"
          ]
        }
      ]
    },
    {
      "cell_type": "code",
      "source": [
        "class Genetic():\n",
        "  population = []\n",
        "  prob = []\n",
        "  def __init__(self, game, chromosome_length, population_capacity):\n",
        "    self.game = game\n",
        "    self.chromosome_length = chromosome_length\n",
        "    self.population_capacity = population_capacity\n",
        "    self.initPopulation()\n",
        "    self.probCal()\n",
        "\n",
        "  def initIndividual(self):\n",
        "    chromosome = []\n",
        "    for i in range(self.chromosome_length):\n",
        "      # if chromosome is empty or having NONE as the last gen, add an arbitrary\n",
        "      if len(chromosome) == 0 or chromosome[-1] == 0: chromosome.append(random.choice((0,1,2,3,4)))\n",
        "      # if the last gen is UP, avoid DOWN\n",
        "      elif chromosome[-1] == 1: chromosome.append(random.choice((0,1,3,4)))\n",
        "      # if the last gen is DOWN, avoid UP\n",
        "      elif chromosome[-1] == 2: chromosome.append(random.choice((0,2,3,4)))\n",
        "      # if the last gen is LEFT, avoid RIGHT\n",
        "      elif chromosome[-1] == 3: chromosome.append(random.choice((0,1,2,3)))\n",
        "      # if the last gen is LEFT, avoid RIGHT\n",
        "      else: chromosome.append(random.choice((0,1,2,4)))\n",
        "    return chromosome\n",
        "  \n",
        "  def initPopulation(self):\n",
        "    while len(self.population) < self.population_capacity:\n",
        "      individual = self.initIndividual()\n",
        "      final = self.game.move_process(individual)\n",
        "      if final != -1: self.population.append(individual)\n",
        "\n",
        "  def probCal(self):\n",
        "    for individual in self.population:\n",
        "      final = self.game.move_process(individual)\n",
        "      self.prob.append(self.game.cost_to_goal(final))\n",
        "    _sum = sum(self.prob)\n",
        "    for i in range(len(self.prob)): self.prob[i] = self.prob[i] / _sum;\n",
        "\n",
        "  #Seclect a parent in population\n",
        "  def select(self):\n",
        "    rannum = random.uniform(0, 1)\n",
        "    for i in range (self.population_capacity):\n",
        "      rannum = rannum - self.prob[i]\n",
        "      if rannum < 0: return self.population[i-1]\n",
        "\n",
        "  def cross_over(self):\n",
        "    parent1 = self.select()\n",
        "    parent2 = self.select()\n",
        "\n",
        "    ran_index = random.ranint(0, self.chromosome_length)\n",
        "\n",
        "    for i in range(ran_index, self.chromosome_length): parent1[i] = parent2[i]\n",
        "\n",
        "    return parent1\n",
        "\n",
        "  def mutate(self, chromosome):\n",
        "     ran_index = random.ranint(0, self.chromosome_length)\n",
        "     chromosome[ran_index] = random.choice((0,1,2,3,4))\n",
        "\n",
        "  def populationUpdate(self):\n",
        "    next_population = []\n",
        "\n",
        "    # Cross over\n",
        "    while (len(next_population) < self.population_capacity):\n",
        "      child = self.cross_over()\n",
        "      if self.game.move_process(child) != -1: next_population.append(child)\n",
        "    # It is better no mutation\n",
        "    \n",
        "    for child in next_population: self.mutate(child)\n",
        "\n",
        "    self.population = next_population\n",
        "    self.probCal\n",
        "\n",
        "  # Loop for 100 times\n",
        "  def go(self):\n",
        "    for i in range(100):\n",
        "      for individual in self.population:\n",
        "        if self.game.move_process(individual).is_goal(): return individual\n",
        "      self.populationUpdate()\n",
        "\n",
        "    return \"Cannot find Solution\""
      ],
      "metadata": {
        "id": "AKOiTeC9yz6E"
      },
      "execution_count": null,
      "outputs": []
    },
    {
      "cell_type": "code",
      "source": [
        "a = [1,2,3,4,5]\n",
        "b = [1,2,3,4,5]\n",
        "\n",
        "print(a == b)"
      ],
      "metadata": {
        "colab": {
          "base_uri": "https://localhost:8080/"
        },
        "id": "3LxAbGKx0koE",
        "outputId": "c3acbaed-314f-4577-b365-d1ce9755a314"
      },
      "execution_count": 15,
      "outputs": [
        {
          "output_type": "stream",
          "name": "stdout",
          "text": [
            "True\n"
          ]
        }
      ]
    }
  ],
  "metadata": {
    "colab": {
      "provenance": [],
      "name": "Bloxorz-full-button.ipynb",
      "include_colab_link": true
    },
    "kernelspec": {
      "display_name": "Python 3.10.4 64-bit",
      "language": "python",
      "name": "python3"
    },
    "language_info": {
      "codemirror_mode": {
        "name": "ipython",
        "version": 3
      },
      "file_extension": ".py",
      "mimetype": "text/x-python",
      "name": "python",
      "nbconvert_exporter": "python",
      "pygments_lexer": "ipython3",
      "version": "3.10.4"
    },
    "vscode": {
      "interpreter": {
        "hash": "aee8b7b246df8f9039afb4144a1f6fd8d2ca17a180786b69acc140d282b71a49"
      }
    }
  },
  "nbformat": 4,
  "nbformat_minor": 0
}