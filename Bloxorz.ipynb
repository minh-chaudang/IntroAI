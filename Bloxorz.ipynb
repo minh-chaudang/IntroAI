{
  "cells": [
    {
      "cell_type": "markdown",
      "metadata": {
        "id": "view-in-github",
        "colab_type": "text"
      },
      "source": [
        "<a href=\"https://colab.research.google.com/github/minh-chaudang/IntroAI/blob/main/Bloxorz.ipynb\" target=\"_parent\"><img src=\"https://colab.research.google.com/assets/colab-badge.svg\" alt=\"Open In Colab\"/></a>"
      ]
    },
    {
      "cell_type": "code",
      "execution_count": 1,
      "metadata": {
        "id": "EQvZfIEXYpJS"
      },
      "outputs": [],
      "source": [
        "import copy\n",
        "import time\n",
        "import os\n",
        "import random"
      ]
    },
    {
      "cell_type": "code",
      "source": [
        "class color:\n",
        "   PURPLE = '\\033[95m'\n",
        "   CYAN = '\\033[96m'\n",
        "   DARKCYAN = '\\033[36m'\n",
        "   BLUE = '\\033[94m'\n",
        "   GREEN = '\\033[92m'\n",
        "   YELLOW = '\\033[93m'\n",
        "   RED = '\\033[91m'\n",
        "   BOLD = '\\033[1m'\n",
        "   UNDERLINE = '\\033[4m'\n",
        "   END = '\\033[0m'"
      ],
      "metadata": {
        "id": "LHGWlKpP0W1W"
      },
      "execution_count": 2,
      "outputs": []
    },
    {
      "cell_type": "code",
      "source": [
        "# Create a dictionary to save memory later\n",
        "move = {0 : \"NONE\", 1 : \"UP\", 2 : \"DOWN\", 3 : \"LEFT\", 4 : \"RIGHT\"}\n",
        "state = {0 : \"STANDING\", 1 : \"LYING_HORIZONTALLY\", 2 : \"LYING_VERTICALLY\", 3 : \"SPLIT\"}"
      ],
      "metadata": {
        "id": "kT_MnqgDzpfd"
      },
      "execution_count": 3,
      "outputs": []
    },
    {
      "cell_type": "code",
      "source": [
        "level1 = "
      ],
      "metadata": {
        "id": "PROFUPuXYbfM"
      },
      "execution_count": null,
      "outputs": []
    },
    {
      "cell_type": "code",
      "execution_count": 2,
      "metadata": {
        "id": "j136GR83Y9uH"
      },
      "outputs": [],
      "source": [
        "# Position of the block in the map\n",
        "class Position:\n",
        "  def __init__(self, i1, j1, i2, j2, parent = None, move_from_parent = None):\n",
        "    self.i1 = i1\n",
        "    self.j1 = j1\n",
        "    self.i2 = i2\n",
        "    self.j2 = j2\n",
        "    self.parent = parent\n",
        "    self.move_from_parent = move_from_parent\n",
        "\n",
        "  def print(self):\n",
        "    print(\"(\", self.i1, self.j1, \")\",  \"(\", self.i2, self.j2, \")\")\n",
        "\n",
        "  def get_state(self):\n",
        "    if self.i1 == self.i2 and self.j1 == self.j2: return 0\n",
        "    elif (self.j1 == self.j2+1 or self.j1 == self.j2-1) and self.i1 == self.i2: return 1\n",
        "    elif (self.i1 == self.i2+1 or self.i1 == self.i2-1) and self.j1 == self.j2: return 2\n",
        "    else: return 3\n",
        "  \n",
        "  def move(self, instruction):\n",
        "    state = self.get_state()\n",
        "    if instruction == 0: return copy.copy(self)\n",
        "    elif instruction == 1:\n",
        "      if state == 0: return Position(self.i1-2, self.j1, self.i2-1, self.j2, self, 1)\n",
        "      elif state == 1: return Position(self.i1-1, self.j1, self.i2-1, self.j2, self, 1)\n",
        "      elif state == 2: return Position(min(self.i1, self.i2)-1, self.j1, min(self.i1, self.i2)-1, self.j2, self, 1)\n",
        "    elif instruction == 2: \n",
        "      if state == 0: return Position(self.i1+2, self.j1, self.i2+1, self.j2, self, 2)\n",
        "      elif state == 1: return Position(self.i1+1, self.j1, self.i2+1, self.j2, self, 2)\n",
        "      elif state == 2: return Position(max(self.i1, self.i2)+1, self.j1, max(self.i1, self.i2)+1, self.j2, self, 2)\n",
        "    elif instruction == 3:\n",
        "      if state == 0: return Position(self.i1, self.j1-2, self.i2, self.j2-1, self, 3)\n",
        "      elif state == 1: return Position(self.i1, min(self.j1, self.j2)-1, self.i2, min(self.j1, self.j2)-1, self, 3)\n",
        "      elif state == 2: return Position(self.i1, self.j1-1, self.i2, self.j2-1, self, 3)\n",
        "    elif instruction == 4:\n",
        "      if state == 0: return Position(self.i1, self.j1+2, self.i2, self.j2+1, self, 4)\n",
        "      elif state == 1: return Position(self.i1, max(self.j1, self.j2)+1, self.i2, max(self.j1, self.j2)+1, self, 4)\n",
        "      elif state == 2: return Position(self.i1, self.j1+1, self.i2, self.j2+1, self, 4)\n",
        "  def is_visited(self, visited):\n",
        "        return ([self.i1, self.j1, self.i2, self.j2] in visited) or ([self.i2, self.j1, self.i1, self.j2] in visited) or ([self.i1, self.j2, self.i2, self.j1] in visited) or ([self.i2, self.j2, self.i1, self.j1] in visited)\n",
        "  def expand(self):\n",
        "    return [self.move(1), self.move(2), self.move(3), self.move(4)]"
      ]
    },
    {
      "cell_type": "code",
      "execution_count": 3,
      "metadata": {
        "id": "qLwkTwJsZ3eu"
      },
      "outputs": [],
      "source": [
        "class BLOXORZ:\n",
        "  def __init__(self, map, initial_position):\n",
        "    self.map = map\n",
        "    self.initial_position = initial_position\n",
        "    self.goal = [(index, row.index(10)) for index, row in enumerate(map) if 10 in row][0]\n",
        "\n",
        "  def is_goal(self, current_position):\n",
        "    return current_position.get_state() == 0 and self.map[current_position.i1][current_position.j1] == 10\n",
        "\n",
        "  def is_valid_position(self, current_position):\n",
        "    if current_position.i1 < 0 or current_position.i2 < 0 or current_position.j1 < 0 or current_position.j2 < 0: return False\n",
        "    if current_position.i1 >= len(self.map) or current_position.i2 >= len(self.map) or current_position.j1 >= len(self.map[0]) or current_position.j2 >= len(self.map[0]): return False\n",
        "\n",
        "    if current_position.get_state() == 0: return self.map[current_position.i1][current_position.j1] > 1\n",
        "    else: return self.map[current_position.i1][current_position.j1] > 0 and self.map[current_position.i2][current_position.j2] > 0\n",
        "  \n",
        "  # Estimate cost to goal, calculated my average of Manhattan distances of 2 part of the block\n",
        "  # Or Chebychev\n",
        "  def cost_to_goal(self, current_position):\n",
        "    #Average Manhattan\n",
        "    average = 1/2 * (abs(current_position.i1 - self.goal[0]) + abs(current_position.i2 - self.goal[0]) + abs(current_position.j1 - self.goal[1]) + abs(current_position.j2 - self.goal[1]))\n",
        "    return 1/average\n",
        "    #Chebychev\n",
        "    # max1 = max(abs(current_position.i1 - self.goal[0]), abs(current_position.j1 - self.goal[1]))\n",
        "    # max2 = max(abs(current_position.i2 - self.goal[0]), abs(current_position.j2 - self.goal[1]))\n",
        "    # return 1/max(max1, max2)\n",
        "\n",
        "\n",
        "  def move_process(self, process):\n",
        "    current = copy.copy(self.initial_position)\n",
        "    for move in process: \n",
        "      current = current.move(move)\n",
        "      if not self.is_valid_position(current): \n",
        "        return -1\n",
        "\n",
        "    return current\n",
        "\n",
        "  def draw_map_2D(self,current_position):\n",
        "    # Clear screen in Windows systems\n",
        "    # os.system('cls')\n",
        "    # Clear screen in Mac/Linux systems\n",
        "    os.system('clear')\n",
        "    print(\"-\"*len(map[0])*4)\n",
        "    for i in range(len(map)):\n",
        "      print('|',end='')\n",
        "      for j in range(len(map[0])):\n",
        "          if current_position.get_state() == \"STANDING\" and i == current_position.i1 and j == current_position.j1:\n",
        "              print(\"\", \"\\033[1;34;47m x\", \"|\", end='')\n",
        "          elif (current_position.get_state() == \"LYING_HORIZONTALLY\" or current_position.get_state() == \"LYING_VERTICALLY\") and (i == current_position.i1 and j == current_position.j1) or (i == current_position.i2 and j == current_position.j2):\n",
        "              print(\"\", \"\\033[1;34;47m x\", \"|\", end='')\n",
        "          else:\n",
        "              print(\"\",map[i][j], \"|\", end='')\n",
        "      print()\n",
        "      print(\"-\"*len(map[0])*4)\n",
        "    \n",
        "    time.sleep(1)"
      ]
    },
    {
      "cell_type": "code",
      "source": [
        "class DFS:\n",
        "  def __init__(self, game):\n",
        "    self.game = game\n",
        "\n",
        "  # This is the original DFS\n",
        "  def helper(self, stack, visited, loop):\n",
        "    while len(stack) > 0:\n",
        "      this_position = stack.pop()\n",
        "      visited.append([this_position.i1, this_position.j1, this_position.i2, this_position.j2])\n",
        "      exp_list = this_position.expand()\n",
        "      for pos in exp_list:\n",
        "          if self.game.is_valid_position(pos):\n",
        "            if not pos.is_visited(visited):\n",
        "              stack.append(pos)\n",
        "              # self.draw_map_2D(pos)\n",
        "            if self.game.is_goal(pos): return pos, loop    \n",
        "      loop = loop + 1\n",
        "    \n",
        "    return -1\n",
        "  \n",
        "  #This is use to call DFS more conveniently\n",
        "  def go(self):\n",
        "    index = 0;\n",
        "    goal, loop = self.helper([self.game.initial_position], [], 0)\n",
        "    if goal == -1: print(\"No solutions\")\n",
        "    else:\n",
        "      path = [goal]\n",
        "      while path[-1].parent != None: path.append(path[-1].parent)\n",
        "      path.reverse()\n",
        "      print(\"Goal reached after\", loop, \"loops\")\n",
        "      print(\"Steps: \")\n",
        "      for position in path: \n",
        "        print(index,\": (\", position.i1, position.i2, \")\", \"(\", position.j1, position.j2, \")\")\n",
        "        index = index + 1"
      ],
      "metadata": {
        "id": "hdxk0p1EVHtR"
      },
      "execution_count": 14,
      "outputs": []
    },
    {
      "cell_type": "code",
      "source": [
        "class Genetic():\n",
        "  population = []\n",
        "  prob = []\n",
        "  def __init__(self, game, chromosome_length, population_capacity):\n",
        "    self.game = game\n",
        "    self.chromosome_length = chromosome_length\n",
        "    self.population_capacity = population_capacity\n",
        "    self.initPopulation()\n",
        "\n",
        "  def initIndividual(self):\n",
        "    chromosome = []\n",
        "    for i in range(self.chromosome_length):\n",
        "      # if chromosome is empty or having NONE as the last gen, add an arbitrary\n",
        "      if len(chromosome) == 0 or chromosome[-1] == 0: chromosome.append(random.choice((0,1,2,3,4)))\n",
        "      # if the last gen is UP, avoid DOWN\n",
        "      elif chromosome[-1] == 1: chromosome.append(random.choice((0,1,3,4)))\n",
        "      # if the last gen is DOWN, avoid UP\n",
        "      elif chromosome[-1] == 2: chromosome.append(random.choice((0,2,3,4)))\n",
        "      # if the last gen is LEFT, avoid RIGHT\n",
        "      elif chromosome[-1] == 3: chromosome.append(random.choice((0,1,2,3)))\n",
        "      # if the last gen is LEFT, avoid RIGHT\n",
        "      else: chromosome.append(random.choice((0,1,2,4)))\n",
        "    return chromosome\n",
        "  \n",
        "  def initPopulation(self):\n",
        "    while len(self.population) < self.population_capacity:\n",
        "      individual = self.initIndividual()\n",
        "      final = self.game.move_process(individual)\n",
        "      if final != -1: \n",
        "        self.population.append(individual)\n",
        "        self.prob.append(self.game.cost_to_goal(final))\n",
        "    _sum = sum(self.prob)\n",
        "    for i in range(len(self.prob)): self.prob[i] = self.prob[i] / _sum;"
      ],
      "metadata": {
        "id": "AKOiTeC9yz6E"
      },
      "execution_count": 16,
      "outputs": []
    },
    {
      "cell_type": "code",
      "execution_count": 15,
      "metadata": {
        "id": "ByqLbujtYn-D",
        "outputId": "f81b2ee1-9ab5-4b5e-9b9e-3c45c8bede44",
        "colab": {
          "base_uri": "https://localhost:8080/"
        }
      },
      "outputs": [
        {
          "output_type": "stream",
          "name": "stdout",
          "text": [
            "Goal reached after 31 loops\n",
            "Steps: \n",
            "0 : ( 3 3 ) ( 1 1 )\n",
            "1 : ( 3 3 ) ( 3 2 )\n",
            "2 : ( 4 4 ) ( 3 2 )\n",
            "3 : ( 4 4 ) ( 1 1 )\n",
            "4 : ( 2 3 ) ( 1 1 )\n",
            "5 : ( 2 3 ) ( 2 2 )\n",
            "6 : ( 2 3 ) ( 3 3 )\n",
            "7 : ( 4 4 ) ( 3 3 )\n",
            "8 : ( 4 4 ) ( 1 2 )\n",
            "9 : ( 4 4 ) ( 0 0 )\n",
            "10 : ( 2 3 ) ( 0 0 )\n",
            "11 : ( 1 1 ) ( 0 0 )\n",
            "12 : ( 1 1 ) ( 2 1 )\n",
            "13 : ( 2 2 ) ( 2 1 )\n",
            "14 : ( 2 2 ) ( 3 3 )\n",
            "15 : ( 2 2 ) ( 5 4 )\n",
            "16 : ( 2 2 ) ( 6 6 )\n",
            "17 : ( 2 2 ) ( 8 7 )\n",
            "18 : ( 1 1 ) ( 8 7 )\n",
            "19 : ( 0 0 ) ( 8 7 )\n",
            "20 : ( 0 0 ) ( 9 9 )\n",
            "21 : ( 0 0 ) ( 11 10 )\n",
            "22 : ( 0 0 ) ( 12 12 )\n",
            "23 : ( 2 1 ) ( 12 12 )\n",
            "24 : ( 2 1 ) ( 11 11 )\n",
            "25 : ( 3 3 ) ( 11 11 )\n",
            "26 : ( 3 3 ) ( 13 12 )\n",
            "27 : ( 3 3 ) ( 14 14 )\n",
            "28 : ( 5 4 ) ( 14 14 )\n",
            "29 : ( 5 4 ) ( 13 13 )\n",
            "30 : ( 3 3 ) ( 13 13 )\n"
          ]
        }
      ],
      "source": [
        "initBlock = Position(3,1,3,1)\n",
        "map = [[0,0,0,0,0,0,2,2,2,2,2,2,2,0,0],\n",
        "        [2,2,2,2,0,0,2,2,2,0,0,2,2,0,0],\n",
        "        [2,2,2,2,2,2,2,2,2,0,0,2,2,2,2],\n",
        "        [2,2,2,2,0,0,0,0,0,0,0,2,2,10,2],\n",
        "        [2,2,2,2,0,0,0,0,0,0,0,2,2,2,2],\n",
        "        [0,0,0,0,0,0,0,0,0,0,0,0,2,2,2]]\n",
        "game = BLOXORZ(map, initBlock)\n",
        "\n",
        "dfs = DFS(game)\n",
        "\n",
        "dfs.go()\n",
        "\n",
        "# game.move_process([1,2,0,3,2])\n",
        "\n",
        "# for move in [1,2,0,3,2]:\n",
        "#   initBlock = initBlock.move(move)\n",
        "#   initBlock.print()\n",
        "\n",
        "# GA = GeneticAlgorithm(game, 20, 10)\n",
        "# print(GA.population)\n",
        "# print(GA.prob)\n",
        "# print(sum(GA.prob))\n",
        "\n"
      ]
    }
  ],
  "metadata": {
    "colab": {
      "provenance": [],
      "include_colab_link": true
    },
    "kernelspec": {
      "display_name": "Python 3.10.4 64-bit",
      "language": "python",
      "name": "python3"
    },
    "language_info": {
      "codemirror_mode": {
        "name": "ipython",
        "version": 3
      },
      "file_extension": ".py",
      "mimetype": "text/x-python",
      "name": "python",
      "nbconvert_exporter": "python",
      "pygments_lexer": "ipython3",
      "version": "3.10.4"
    },
    "vscode": {
      "interpreter": {
        "hash": "aee8b7b246df8f9039afb4144a1f6fd8d2ca17a180786b69acc140d282b71a49"
      }
    }
  },
  "nbformat": 4,
  "nbformat_minor": 0
}