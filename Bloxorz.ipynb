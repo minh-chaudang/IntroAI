{
  "cells": [
    {
      "cell_type": "markdown",
      "metadata": {
        "id": "view-in-github",
        "colab_type": "text"
      },
      "source": [
        "<a href=\"https://colab.research.google.com/github/minh-chaudang/IntroAI/blob/main/Bloxorz.ipynb\" target=\"_parent\"><img src=\"https://colab.research.google.com/assets/colab-badge.svg\" alt=\"Open In Colab\"/></a>"
      ]
    },
    {
      "cell_type": "code",
      "execution_count": 2,
      "metadata": {
        "id": "EQvZfIEXYpJS"
      },
      "outputs": [],
      "source": [
        "import copy\n",
        "import time\n",
        "import os\n",
        "import random"
      ]
    },
    {
      "cell_type": "code",
      "source": [
        "class color:\n",
        "   PURPLE = '\\033[95m'\n",
        "   CYAN = '\\033[96m'\n",
        "   DARKCYAN = '\\033[36m'\n",
        "   BLUE = '\\033[94m'\n",
        "   GREEN = '\\033[92m'\n",
        "   YELLOW = '\\033[93m'\n",
        "   RED = '\\033[91m'\n",
        "   BOLD = '\\033[1m'\n",
        "   UNDERLINE = '\\033[4m'\n",
        "   END = '\\033[0m'"
      ],
      "metadata": {
        "id": "LHGWlKpP0W1W"
      },
      "execution_count": null,
      "outputs": []
    },
    {
      "cell_type": "code",
      "source": [
        "# Create a dictionary to save memory later\n",
        "move = {0 : \"NONE\", 1 : \"UP\", 2 : \"DOWN\", 3 : \"LEFT\", 4 : \"RIGHT\"}"
      ],
      "metadata": {
        "id": "kT_MnqgDzpfd"
      },
      "execution_count": 1,
      "outputs": []
    },
    {
      "cell_type": "code",
      "execution_count": null,
      "metadata": {
        "id": "j136GR83Y9uH"
      },
      "outputs": [],
      "source": [
        "# Position of the block in the map\n",
        "class Position:\n",
        "  def __init__(self, i1, j1, i2, j2, parent = None, move_from_parent = None):\n",
        "    self.i1 = i1\n",
        "    self.j1 = j1\n",
        "    self.i2 = i2\n",
        "    self.j2 = j2\n",
        "    self.parent = parent\n",
        "    self.move_from_parent = move_from_parent\n",
        "\n",
        "  def print(self):\n",
        "    print(\"(\", self.i1, self.j1, \")\",  \"(\", self.i2, self.j2, \")\")\n",
        "\n",
        "  def get_state(self):\n",
        "    if self.i1 == self.i2 and self.j1 == self.j2: return \"STANDING\"\n",
        "    elif (self.j1 == self.j2+1 or self.j1 == self.j2-1) and self.i1 == self.i2: return \"LYING_HORIZONTALLY\"\n",
        "    elif (self.i1 == self.i2+1 or self.i1 == self.i2-1) and self.j1 == self.j2: return \"LYING_VERTICALLY\"\n",
        "    else: return \"SPLIT\"\n",
        "  \n",
        "  def move(self, instruction):\n",
        "    state = self.get_state()\n",
        "    if instruction == \"UP\": \n",
        "      if state == \"STANDING\": return Position(self.i1-2, self.j1, self.i2-1, self.j2, self, \"UP\")\n",
        "      elif state == \"LYING_HORIZONTALLY\": return Position(self.i1-1, self.j1, self.i2-1, self.j2, self, \"UP\")\n",
        "      elif state == \"LYING_VERTICALLY\": return Position(min(self.i1, self.i2)-1, self.j1, min(self.i1, self.i2)-1, self.j2, self, \"UP\")\n",
        "    elif instruction == \"DOWN\": \n",
        "      if state == \"STANDING\": return Position(self.i1+2, self.j1, self.i2+1, self.j2, self, \"DOWN\")\n",
        "      elif state == \"LYING_HORIZONTALLY\": return Position(self.i1+1, self.j1, self.i2+1, self.j2, self, \"DOWN\")\n",
        "      elif state == \"LYING_VERTICALLY\": return Position(max(self.i1, self.i2)+1, self.j1, max(self.i1, self.i2)+1, self.j2, self, \"DOWN\")\n",
        "    elif instruction == \"LEFT\":\n",
        "      if state == \"STANDING\": return Position(self.i1, self.j1-2, self.i2, self.j2-1, self, \"LEFT\")\n",
        "      elif state == \"LYING_HORIZONTALLY\": return Position(self.i1, min(self.j1, self.j2)-1, self.i2, min(self.j1, self.j2)-1, self, \"LEFT\")\n",
        "      elif state == \"LYING_VERTICALLY\": return Position(self.i1, self.j1-1, self.i2, self.j2-1, self, \"LEFT\")\n",
        "    elif instruction == \"RIGHT\":\n",
        "      if state == \"STANDING\": return Position(self.i1, self.j1+2, self.i2, self.j2+1, self, \"RIGHT\")\n",
        "      elif state == \"LYING_HORIZONTALLY\": return Position(self.i1, max(self.j1, self.j2)+1, self.i2, max(self.j1, self.j2)+1, self, \"RIGHT\")\n",
        "      elif state == \"LYING_VERTICALLY\": return Position(self.i1, self.j1+1, self.i2, self.j2+1, self, \"RIGHT\")\n",
        "    else: return \"INVALID INPUT\"\n",
        "  def is_visited(self, visited):\n",
        "        return ([self.i1, self.j1, self.i2, self.j2] in visited) or ([self.i2, self.j1, self.i1, self.j2] in visited) or ([self.i1, self.j2, self.i2, self.j1] in visited) or ([self.i2, self.j2, self.i1, self.j1] in visited)\n",
        "  def expand(self):\n",
        "    return [self.move(\"UP\"), self.move(\"DOWN\"), self.move(\"LEFT\"), self.move(\"RIGHT\")]"
      ]
    },
    {
      "cell_type": "code",
      "execution_count": null,
      "metadata": {
        "id": "qLwkTwJsZ3eu"
      },
      "outputs": [],
      "source": [
        "class BLOXORZ:\n",
        "  def __init__(self, map, initial_position):\n",
        "    self.map = map\n",
        "    self.initial_position = initial_position\n",
        "\n",
        "  def is_goal(self, current_position):\n",
        "    return current_position.get_state() == \"STANDING\" and self.map[current_position.i1][current_position.j1] == 10\n",
        "\n",
        "  def is_valid_position(self, current_position):\n",
        "    if current_position.i1 < 0 or current_position.i2 < 0 or current_position.j1 < 0 or current_position.j2 < 0: return False\n",
        "    if current_position.i1 >= len(self.map) or current_position.i2 >= len(self.map) or current_position.j1 >= len(self.map[0]) or current_position.j2 >= len(self.map[0]): return False\n",
        "\n",
        "    if current_position.get_state() == \"STANDING\": return self.map[current_position.i1][current_position.j1] > 1\n",
        "    else: return self.map[current_position.i1][current_position.j1] > 0 and self.map[current_position.i2][current_position.j2] > 0\n",
        "  \n",
        "  def DFS(self, stack, visited, loop):\n",
        "      while len(stack) > 0:\n",
        "          this_position = stack.pop()\n",
        "          visited.append([this_position.i1, this_position.j1, this_position.i2, this_position.j2])\n",
        "          exp_list = this_position.expand()\n",
        "          for pos in exp_list:\n",
        "              if self.is_valid_position(pos):\n",
        "                  if not pos.is_visited(visited):\n",
        "                      stack.append(pos)\n",
        "                      # self.draw_map_2D(pos)\n",
        "                  if self.is_goal(pos): \n",
        "                      path = [pos]\n",
        "                      while path[-1].parent != None: path.append(path[-1].parent)\n",
        "                      path.reverse()\n",
        "                      print(\"Goal reached after\", loop, \"loops\")\n",
        "                      return path\n",
        "          loop = loop + 1\n",
        "      if len(stack) == 0:\n",
        "          print(\"No solutions\")\n",
        "          exit()\n",
        "  def draw_map_2D(self,current_position):\n",
        "    # Clear screen in Windows systems\n",
        "    # os.system('cls')\n",
        "    # Clear screen in Mac/Linux systems\n",
        "    os.system('clear')\n",
        "    print(\"-\"*len(map[0])*4)\n",
        "    for i in range(len(map)):\n",
        "      print('|',end='')\n",
        "      for j in range(len(map[0])):\n",
        "          if current_position.get_state() == \"STANDING\" and i == current_position.i1 and j == current_position.j1:\n",
        "              print(\"\", \"\\033[1;34;47m x\", \"|\", end='')\n",
        "          elif (current_position.get_state() == \"LYING_HORIZONTALLY\" or current_position.get_state() == \"LYING_VERTICALLY\") and (i == current_position.i1 and j == current_position.j1) or (i == current_position.i2 and j == current_position.j2):\n",
        "              print(\"\", \"\\033[1;34;47m x\", \"|\", end='')\n",
        "          else:\n",
        "              print(\"\",map[i][j], \"|\", end='')\n",
        "      print()\n",
        "      print(\"-\"*len(map[0])*4)\n",
        "    \n",
        "    time.sleep(1)"
      ]
    },
    {
      "cell_type": "code",
      "source": [
        "class GeneticAlgorithm:\n",
        "\n",
        "  def __init__(self, chromosome_length, population_capacity):\n",
        "    self.chromosome_length = chromosome_length\n",
        "    self.population_capacity = population_capacity\n",
        "\n",
        "  def initIndivitual(self):\n",
        "    chromosome = []\n",
        "    for i in range(self.chromosome_length):\n",
        "      # if chromosome is empty or having NONE as the last gen, add an arbitrary\n",
        "      if len(chromosome) == 0 or chromosome[-1] == 0: chromosome.append(random.choice(0,1,2,3,4))\n",
        "      # if the last gen is UP, avoid DOWN\n",
        "      elif chromosome[-1] == 1: chromosome.append(random.choice(0,1,3,4))\n",
        "      # if the last gen is DOWN, avoid UP\n",
        "      elif chromosome[-1] == 2: chromosome.append(random.choice(0,2,3,4))\n",
        "      # if the last gen is LEFT, avoid RIGHT\n",
        "      elif chromosome[-1] == 3: chromosome.append(random.choice(0,1,2,3))\n",
        "      # if the last gen is LEFT, avoid RIGHT\n",
        "      else: chromosome.append(random.choice(0,1,2,4))\n",
        "    return chromosome\n",
        "  "
      ],
      "metadata": {
        "id": "AKOiTeC9yz6E"
      },
      "execution_count": 7,
      "outputs": []
    },
    {
      "cell_type": "code",
      "source": [
        "GA = GeneticAlgorithm(50, 100)\n",
        "\n",
        "print(GA.initIndivitual())"
      ],
      "metadata": {
        "id": "JmNdRGck1W3P",
        "outputId": "7cbbd722-cbff-47fc-8e20-5b91818649c2",
        "colab": {
          "base_uri": "https://localhost:8080/",
          "height": 347
        }
      },
      "execution_count": 8,
      "outputs": [
        {
          "output_type": "error",
          "ename": "TypeError",
          "evalue": "ignored",
          "traceback": [
            "\u001b[0;31m---------------------------------------------------------------------------\u001b[0m",
            "\u001b[0;31mTypeError\u001b[0m                                 Traceback (most recent call last)",
            "\u001b[0;32m<ipython-input-8-ac3eaffe1788>\u001b[0m in \u001b[0;36m<module>\u001b[0;34m\u001b[0m\n\u001b[1;32m      1\u001b[0m \u001b[0mGA\u001b[0m \u001b[0;34m=\u001b[0m \u001b[0mGeneticAlgorithm\u001b[0m\u001b[0;34m(\u001b[0m\u001b[0;36m50\u001b[0m\u001b[0;34m,\u001b[0m \u001b[0;36m100\u001b[0m\u001b[0;34m)\u001b[0m\u001b[0;34m\u001b[0m\u001b[0;34m\u001b[0m\u001b[0m\n\u001b[1;32m      2\u001b[0m \u001b[0;34m\u001b[0m\u001b[0m\n\u001b[0;32m----> 3\u001b[0;31m \u001b[0mprint\u001b[0m\u001b[0;34m(\u001b[0m\u001b[0mGA\u001b[0m\u001b[0;34m.\u001b[0m\u001b[0minitIndivitual\u001b[0m\u001b[0;34m(\u001b[0m\u001b[0;34m)\u001b[0m\u001b[0;34m)\u001b[0m\u001b[0;34m\u001b[0m\u001b[0;34m\u001b[0m\u001b[0m\n\u001b[0m",
            "\u001b[0;32m<ipython-input-7-f58ca9e16596>\u001b[0m in \u001b[0;36minitIndivitual\u001b[0;34m(self)\u001b[0m\n\u001b[1;32m      9\u001b[0m     \u001b[0;32mfor\u001b[0m \u001b[0mi\u001b[0m \u001b[0;32min\u001b[0m \u001b[0mrange\u001b[0m\u001b[0;34m(\u001b[0m\u001b[0mself\u001b[0m\u001b[0;34m.\u001b[0m\u001b[0mchromosome_length\u001b[0m\u001b[0;34m)\u001b[0m\u001b[0;34m:\u001b[0m\u001b[0;34m\u001b[0m\u001b[0;34m\u001b[0m\u001b[0m\n\u001b[1;32m     10\u001b[0m       \u001b[0;31m# if chromosome is empty or having NONE as the last gen, add an arbitrary\u001b[0m\u001b[0;34m\u001b[0m\u001b[0;34m\u001b[0m\u001b[0;34m\u001b[0m\u001b[0m\n\u001b[0;32m---> 11\u001b[0;31m       \u001b[0;32mif\u001b[0m \u001b[0mlen\u001b[0m\u001b[0;34m(\u001b[0m\u001b[0mchromosome\u001b[0m\u001b[0;34m)\u001b[0m \u001b[0;34m==\u001b[0m \u001b[0;36m0\u001b[0m \u001b[0;32mor\u001b[0m \u001b[0mchromosome\u001b[0m\u001b[0;34m[\u001b[0m\u001b[0;34m-\u001b[0m\u001b[0;36m1\u001b[0m\u001b[0;34m]\u001b[0m \u001b[0;34m==\u001b[0m \u001b[0;36m0\u001b[0m\u001b[0;34m:\u001b[0m \u001b[0mchromosome\u001b[0m\u001b[0;34m.\u001b[0m\u001b[0mappend\u001b[0m\u001b[0;34m(\u001b[0m\u001b[0mrandom\u001b[0m\u001b[0;34m.\u001b[0m\u001b[0mchoice\u001b[0m\u001b[0;34m(\u001b[0m\u001b[0;36m0\u001b[0m\u001b[0;34m,\u001b[0m\u001b[0;36m1\u001b[0m\u001b[0;34m,\u001b[0m\u001b[0;36m2\u001b[0m\u001b[0;34m,\u001b[0m\u001b[0;36m3\u001b[0m\u001b[0;34m,\u001b[0m\u001b[0;36m4\u001b[0m\u001b[0;34m)\u001b[0m\u001b[0;34m)\u001b[0m\u001b[0;34m\u001b[0m\u001b[0;34m\u001b[0m\u001b[0m\n\u001b[0m\u001b[1;32m     12\u001b[0m       \u001b[0;31m# if the last gen is UP, avoid DOWN\u001b[0m\u001b[0;34m\u001b[0m\u001b[0;34m\u001b[0m\u001b[0;34m\u001b[0m\u001b[0m\n\u001b[1;32m     13\u001b[0m       \u001b[0;32melif\u001b[0m \u001b[0mchromosome\u001b[0m\u001b[0;34m[\u001b[0m\u001b[0;34m-\u001b[0m\u001b[0;36m1\u001b[0m\u001b[0;34m]\u001b[0m \u001b[0;34m==\u001b[0m \u001b[0;36m1\u001b[0m\u001b[0;34m:\u001b[0m \u001b[0mchromosome\u001b[0m\u001b[0;34m.\u001b[0m\u001b[0mappend\u001b[0m\u001b[0;34m(\u001b[0m\u001b[0mrandom\u001b[0m\u001b[0;34m.\u001b[0m\u001b[0mchoice\u001b[0m\u001b[0;34m(\u001b[0m\u001b[0;36m0\u001b[0m\u001b[0;34m,\u001b[0m\u001b[0;36m1\u001b[0m\u001b[0;34m,\u001b[0m\u001b[0;36m3\u001b[0m\u001b[0;34m,\u001b[0m\u001b[0;36m4\u001b[0m\u001b[0;34m)\u001b[0m\u001b[0;34m)\u001b[0m\u001b[0;34m\u001b[0m\u001b[0;34m\u001b[0m\u001b[0m\n",
            "\u001b[0;31mTypeError\u001b[0m: choice() takes 2 positional arguments but 6 were given"
          ]
        }
      ]
    },
    {
      "cell_type": "code",
      "execution_count": null,
      "metadata": {
        "id": "ByqLbujtYn-D"
      },
      "outputs": [],
      "source": [
        "initBlock = Position(3,1,3,1)\n",
        "map = [[0,0,0,0,0,0,2,2,2,2,2,2,2,0,0],\n",
        "        [2,2,2,2,0,0,2,2,2,0,0,2,2,0,0],\n",
        "        [2,2,2,2,2,2,2,2,2,0,0,2,2,2,2],\n",
        "        [2,2,2,2,0,0,0,0,0,0,0,2,2,10,2],\n",
        "        [2,2,2,2,0,0,0,0,0,0,0,2,2,2,2],\n",
        "        [0,0,0,0,0,0,0,0,0,0,0,0,2,2,2]]\n",
        "game = BLOXORZ(map, initBlock)\n",
        "path = game.DFS([initBlock], [], 0)\n",
        "game.initial_position.print()\n",
        "for position in path: \n",
        "  if position.move_from_parent != None:\n",
        "    print(\"Move\", position.move_from_parent, \"to\", \"(\", position.i1, position.j1, \")\",  \"(\", position.i2, position.j2, \")\" )"
      ]
    }
  ],
  "metadata": {
    "colab": {
      "provenance": [],
      "include_colab_link": true
    },
    "kernelspec": {
      "display_name": "Python 3.10.4 64-bit",
      "language": "python",
      "name": "python3"
    },
    "language_info": {
      "codemirror_mode": {
        "name": "ipython",
        "version": 3
      },
      "file_extension": ".py",
      "mimetype": "text/x-python",
      "name": "python",
      "nbconvert_exporter": "python",
      "pygments_lexer": "ipython3",
      "version": "3.10.4"
    },
    "vscode": {
      "interpreter": {
        "hash": "aee8b7b246df8f9039afb4144a1f6fd8d2ca17a180786b69acc140d282b71a49"
      }
    }
  },
  "nbformat": 4,
  "nbformat_minor": 0
}