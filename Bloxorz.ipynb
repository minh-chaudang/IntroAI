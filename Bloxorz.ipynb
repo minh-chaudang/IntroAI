{
  "cells": [
    {
      "cell_type": "markdown",
      "metadata": {
        "id": "view-in-github",
        "colab_type": "text"
      },
      "source": [
        "<a href=\"https://colab.research.google.com/github/minh-chaudang/IntroAI/blob/main/Bloxorz.ipynb\" target=\"_parent\"><img src=\"https://colab.research.google.com/assets/colab-badge.svg\" alt=\"Open In Colab\"/></a>"
      ]
    },
    {
      "cell_type": "code",
      "execution_count": 2,
      "metadata": {
        "id": "EQvZfIEXYpJS"
      },
      "outputs": [],
      "source": [
        "import copy\n",
        "import time\n",
        "import os\n",
        "import random"
      ]
    },
    {
      "cell_type": "code",
      "source": [
        "class color:\n",
        "   PURPLE = '\\033[95m'\n",
        "   CYAN = '\\033[96m'\n",
        "   DARKCYAN = '\\033[36m'\n",
        "   BLUE = '\\033[94m'\n",
        "   GREEN = '\\033[92m'\n",
        "   YELLOW = '\\033[93m'\n",
        "   RED = '\\033[91m'\n",
        "   BOLD = '\\033[1m'\n",
        "   UNDERLINE = '\\033[4m'\n",
        "   END = '\\033[0m'"
      ],
      "metadata": {
        "id": "LHGWlKpP0W1W"
      },
      "execution_count": 3,
      "outputs": []
    },
    {
      "cell_type": "code",
      "source": [
        "# Create a dictionary to save memory later\n",
        "move = {0 : \"NONE\", 1 : \"UP\", 2 : \"DOWN\", 3 : \"LEFT\", 4 : \"RIGHT\"}\n",
        "state = {0 : \"STANDING\", 1 : \"LYING_HORIZONTALLY\", 2 : \"LYING_VERTICALLY\", 3 : \"SPLIT\"}"
      ],
      "metadata": {
        "id": "kT_MnqgDzpfd"
      },
      "execution_count": 5,
      "outputs": []
    },
    {
      "cell_type": "code",
      "execution_count": 6,
      "metadata": {
        "id": "j136GR83Y9uH"
      },
      "outputs": [],
      "source": [
        "# Position of the block in the map\n",
        "class Position:\n",
        "  def __init__(self, i1, j1, i2, j2, parent = None, move_from_parent = None):\n",
        "    self.i1 = i1\n",
        "    self.j1 = j1\n",
        "    self.i2 = i2\n",
        "    self.j2 = j2\n",
        "    self.parent = parent\n",
        "    self.move_from_parent = move_from_parent\n",
        "\n",
        "  def print(self):\n",
        "    print(\"(\", self.i1, self.j1, \")\",  \"(\", self.i2, self.j2, \")\")\n",
        "\n",
        "  def get_state(self):\n",
        "    if self.i1 == self.i2 and self.j1 == self.j2: return 0\n",
        "    elif (self.j1 == self.j2+1 or self.j1 == self.j2-1) and self.i1 == self.i2: return 1\n",
        "    elif (self.i1 == self.i2+1 or self.i1 == self.i2-1) and self.j1 == self.j2: return 2\n",
        "    else: return 3\n",
        "  \n",
        "  def move(self, instruction):\n",
        "    state = self.get_state()\n",
        "    if instruction == 0: return copy.copy(self)\n",
        "    elif instruction == 1:\n",
        "      if state == 0: return Position(self.i1-2, self.j1, self.i2-1, self.j2, self, 1)\n",
        "      elif state == 1: return Position(self.i1-1, self.j1, self.i2-1, self.j2, self, 1)\n",
        "      elif state == 2: return Position(min(self.i1, self.i2)-1, self.j1, min(self.i1, self.i2)-1, self.j2, self, 1)\n",
        "    elif instruction == 2: \n",
        "      if state == 0: return Position(self.i1+2, self.j1, self.i2+1, self.j2, self, 2)\n",
        "      elif state == 1: return Position(self.i1+1, self.j1, self.i2+1, self.j2, self, 2)\n",
        "      elif state == 2: return Position(max(self.i1, self.i2)+1, self.j1, max(self.i1, self.i2)+1, self.j2, self, 2)\n",
        "    elif instruction == 3:\n",
        "      if state == 0: return Position(self.i1, self.j1-2, self.i2, self.j2-1, self, 3)\n",
        "      elif state == 1: return Position(self.i1, min(self.j1, self.j2)-1, self.i2, min(self.j1, self.j2)-1, self, 3)\n",
        "      elif state == 2: return Position(self.i1, self.j1-1, self.i2, self.j2-1, self, 3)\n",
        "    elif instruction == 4:\n",
        "      if state == 0: return Position(self.i1, self.j1+2, self.i2, self.j2+1, self, 4)\n",
        "      elif state == 1: return Position(self.i1, max(self.j1, self.j2)+1, self.i2, max(self.j1, self.j2)+1, self, 4)\n",
        "      elif state == 2: return Position(self.i1, self.j1+1, self.i2, self.j2+1, self, 4)\n",
        "  def is_visited(self, visited):\n",
        "        return ([self.i1, self.j1, self.i2, self.j2] in visited) or ([self.i2, self.j1, self.i1, self.j2] in visited) or ([self.i1, self.j2, self.i2, self.j1] in visited) or ([self.i2, self.j2, self.i1, self.j1] in visited)\n",
        "  def expand(self):\n",
        "    return [self.move(\"UP\"), self.move(\"DOWN\"), self.move(\"LEFT\"), self.move(\"RIGHT\")]"
      ]
    },
    {
      "cell_type": "code",
      "execution_count": 36,
      "metadata": {
        "id": "qLwkTwJsZ3eu"
      },
      "outputs": [],
      "source": [
        "class BLOXORZ:\n",
        "  def __init__(self, map, initial_position):\n",
        "    self.map = map\n",
        "    self.initial_position = initial_position\n",
        "    self.goal = [(index, row.index(10)) for index, row in enumerate(map) if 10 in row][0]\n",
        "\n",
        "  def is_goal(self, current_position):\n",
        "    return current_position.get_state() == 0 and self.map[current_position.i1][current_position.j1] == 10\n",
        "\n",
        "  def is_valid_position(self, current_position):\n",
        "    if current_position.i1 < 0 or current_position.i2 < 0 or current_position.j1 < 0 or current_position.j2 < 0: return False\n",
        "    if current_position.i1 >= len(self.map) or current_position.i2 >= len(self.map) or current_position.j1 >= len(self.map[0]) or current_position.j2 >= len(self.map[0]): return False\n",
        "\n",
        "    if current_position.get_state() == 0: return self.map[current_position.i1][current_position.j1] > 1\n",
        "    else: return self.map[current_position.i1][current_position.j1] > 0 and self.map[current_position.i2][current_position.j2] > 0\n",
        "  \n",
        "  # Estimate cost to goal, calculated my average of Manhattan distances of 2 part of the block\n",
        "  # Or Chebychev\n",
        "  def cost_to_goal(self, current_position):\n",
        "    # return 1/2 * (abs(current_position.i1 - self.goal[0]) + abs(current_position.i2 - self.goal[0]) + abs(current_position.j1 - self.goal[1]) + abs(current_position.j2 - self.goal[1]))\n",
        "    max1 = max(abs(current_position.i1 - self.goal[0]), abs(current_position.j1 - self.goal[1]))\n",
        "    max2 = max(abs(current_position.i2 - self.goal[0]), abs(current_position.j2 - self.goal[1]))\n",
        "    return max(max1, max2)\n",
        "  def move_process(self, process):\n",
        "    current = copy.copy(self.initial_position)\n",
        "    for move in process: \n",
        "      current = current.move(move)\n",
        "      if not self.is_valid_position(current): \n",
        "        return -1\n",
        "\n",
        "    return current\n",
        "\n",
        "\n",
        "  def DFS(self, stack, visited, loop):\n",
        "      while len(stack) > 0:\n",
        "          this_position = stack.pop()\n",
        "          visited.append([this_position.i1, this_position.j1, this_position.i2, this_position.j2])\n",
        "          exp_list = this_position.expand()\n",
        "          for pos in exp_list:\n",
        "              if self.is_valid_position(pos):\n",
        "                  if not pos.is_visited(visited):\n",
        "                      stack.append(pos)\n",
        "                      # self.draw_map_2D(pos)\n",
        "                  if self.is_goal(pos): \n",
        "                      path = [pos]\n",
        "                      while path[-1].parent != None: path.append(path[-1].parent)\n",
        "                      path.reverse()\n",
        "                      print(\"Goal reached after\", loop, \"loops\")\n",
        "                      return path\n",
        "          loop = loop + 1\n",
        "      if len(stack) == 0:\n",
        "          print(\"No solutions\")\n",
        "          exit()\n",
        "  def draw_map_2D(self,current_position):\n",
        "    # Clear screen in Windows systems\n",
        "    # os.system('cls')\n",
        "    # Clear screen in Mac/Linux systems\n",
        "    os.system('clear')\n",
        "    print(\"-\"*len(map[0])*4)\n",
        "    for i in range(len(map)):\n",
        "      print('|',end='')\n",
        "      for j in range(len(map[0])):\n",
        "          if current_position.get_state() == \"STANDING\" and i == current_position.i1 and j == current_position.j1:\n",
        "              print(\"\", \"\\033[1;34;47m x\", \"|\", end='')\n",
        "          elif (current_position.get_state() == \"LYING_HORIZONTALLY\" or current_position.get_state() == \"LYING_VERTICALLY\") and (i == current_position.i1 and j == current_position.j1) or (i == current_position.i2 and j == current_position.j2):\n",
        "              print(\"\", \"\\033[1;34;47m x\", \"|\", end='')\n",
        "          else:\n",
        "              print(\"\",map[i][j], \"|\", end='')\n",
        "      print()\n",
        "      print(\"-\"*len(map[0])*4)\n",
        "    \n",
        "    time.sleep(1)"
      ]
    },
    {
      "cell_type": "code",
      "source": [
        "class GeneticAlgorithm(BLOXORZ):\n",
        "  population = []\n",
        "  prob = []\n",
        "  def __init__(self, game, chromosome_length, population_capacity):\n",
        "    self.game = game\n",
        "    self.chromosome_length = chromosome_length\n",
        "    self.population_capacity = population_capacity\n",
        "    self.initPopulation()\n",
        "\n",
        "  def initIndividual(self):\n",
        "    chromosome = []\n",
        "    for i in range(self.chromosome_length):\n",
        "      # if chromosome is empty or having NONE as the last gen, add an arbitrary\n",
        "      if len(chromosome) == 0 or chromosome[-1] == 0: chromosome.append(random.choice((0,1,2,3,4)))\n",
        "      # if the last gen is UP, avoid DOWN\n",
        "      elif chromosome[-1] == 1: chromosome.append(random.choice((0,1,3,4)))\n",
        "      # if the last gen is DOWN, avoid UP\n",
        "      elif chromosome[-1] == 2: chromosome.append(random.choice((0,2,3,4)))\n",
        "      # if the last gen is LEFT, avoid RIGHT\n",
        "      elif chromosome[-1] == 3: chromosome.append(random.choice((0,1,2,3)))\n",
        "      # if the last gen is LEFT, avoid RIGHT\n",
        "      else: chromosome.append(random.choice((0,1,2,4)))\n",
        "    return chromosome\n",
        "  \n",
        "  def initPopulation(self):\n",
        "    while len(self.population) < self.population_capacity:\n",
        "      individual = self.initIndividual()\n",
        "      final = self.game.move_process(individual)\n",
        "      if final != -1: \n",
        "        self.population.append(individual)\n",
        "        self.prob.append(self.game.cost_to_goal(final))\n",
        "\n",
        "    _sum = sum(self.prob)\n",
        "    for i in range(len(self.prob)): self.prob[i] = self.prob[i] / _sum;"
      ],
      "metadata": {
        "id": "AKOiTeC9yz6E"
      },
      "execution_count": 37,
      "outputs": []
    },
    {
      "cell_type": "code",
      "execution_count": 44,
      "metadata": {
        "id": "ByqLbujtYn-D",
        "outputId": "e89c9ee9-999d-4be8-f72f-675f2da953ac",
        "colab": {
          "base_uri": "https://localhost:8080/"
        }
      },
      "outputs": [
        {
          "output_type": "stream",
          "name": "stdout",
          "text": [
            "[[0, 1, 4, 0, 3], [4, 2, 0, 1, 3], [4, 1, 1, 3, 2], [0, 4, 0, 1, 4], [4, 0, 1, 4, 0], [4, 0, 1, 4, 0], [1, 3, 0, 2, 0], [1, 0, 3, 0, 0], [0, 1, 3, 2, 0], [1, 0, 3, 2, 4]]\n",
            "[0.10526315789473684, 0.10526315789473684, 0.10526315789473684, 0.07894736842105263, 0.07894736842105263, 0.07894736842105263, 0.11403508771929824, 0.11403508771929824, 0.11403508771929824, 0.10526315789473684]\n"
          ]
        }
      ],
      "source": [
        "initBlock = Position(3,1,3,1)\n",
        "map = [[0,0,0,0,0,0,2,2,2,2,2,2,2,0,0],\n",
        "        [2,2,2,2,0,0,2,2,2,0,0,2,2,0,0],\n",
        "        [2,2,2,2,2,2,2,2,2,0,0,2,2,2,2],\n",
        "        [2,2,2,2,0,0,0,0,0,0,0,2,2,10,2],\n",
        "        [2,2,2,2,0,0,0,0,0,0,0,2,2,2,2],\n",
        "        [0,0,0,0,0,0,0,0,0,0,0,0,2,2,2]]\n",
        "game = BLOXORZ(map, initBlock)\n",
        "\n",
        "game.move_process([1,2,0,3,2])\n",
        "\n",
        "# for move in [1,2,0,3,2]:\n",
        "#   initBlock = initBlock.move(move)\n",
        "#   initBlock.print()\n",
        "\n",
        "GA = GeneticAlgorithm(game, 5, 10)\n",
        "print(GA.population)\n",
        "print(GA.prob)\n",
        "\n"
      ]
    },
    {
      "cell_type": "code",
      "source": [
        "array = [[1,2,3],[4,5,6],[7,8,9]]\n",
        "print([(index, row.index(5)) for index, row in enumerate(array) if 5 in row][0])"
      ],
      "metadata": {
        "id": "v4UeY_vH9Qao",
        "outputId": "2992ae9b-e903-4f48-87cf-718daf463ecc",
        "colab": {
          "base_uri": "https://localhost:8080/"
        }
      },
      "execution_count": 1,
      "outputs": [
        {
          "output_type": "stream",
          "name": "stdout",
          "text": [
            "(1, 1)\n"
          ]
        }
      ]
    },
    {
      "cell_type": "code",
      "source": [
        "p1 = Position(1,2,3,4)\n",
        "p2 = copy.copy(p1)\n",
        "\n",
        "print(id(p1), id(p2))\n",
        "p2.i1 = 2\n",
        "print(p1.i1)\n",
        "print(id(p1.i1), id(p2.i1))"
      ],
      "metadata": {
        "id": "02fgKiN0AR6j",
        "outputId": "5df864c7-586c-487f-a805-ac34ddb5d701",
        "colab": {
          "base_uri": "https://localhost:8080/"
        }
      },
      "execution_count": null,
      "outputs": [
        {
          "output_type": "stream",
          "name": "stdout",
          "text": [
            "140368414447888 140368414448592\n",
            "1\n",
            "11126688 11126720\n"
          ]
        }
      ]
    }
  ],
  "metadata": {
    "colab": {
      "provenance": [],
      "include_colab_link": true
    },
    "kernelspec": {
      "display_name": "Python 3.10.4 64-bit",
      "language": "python",
      "name": "python3"
    },
    "language_info": {
      "codemirror_mode": {
        "name": "ipython",
        "version": 3
      },
      "file_extension": ".py",
      "mimetype": "text/x-python",
      "name": "python",
      "nbconvert_exporter": "python",
      "pygments_lexer": "ipython3",
      "version": "3.10.4"
    },
    "vscode": {
      "interpreter": {
        "hash": "aee8b7b246df8f9039afb4144a1f6fd8d2ca17a180786b69acc140d282b71a49"
      }
    }
  },
  "nbformat": 4,
  "nbformat_minor": 0
}