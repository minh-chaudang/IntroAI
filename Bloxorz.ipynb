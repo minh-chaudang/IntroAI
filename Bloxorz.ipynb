{
  "cells": [
    {
      "cell_type": "markdown",
      "metadata": {
        "id": "view-in-github",
        "colab_type": "text"
      },
      "source": [
        "<a href=\"https://colab.research.google.com/github/minh-chaudang/IntroAI/blob/main/Bloxorz.ipynb\" target=\"_parent\"><img src=\"https://colab.research.google.com/assets/colab-badge.svg\" alt=\"Open In Colab\"/></a>"
      ]
    },
    {
      "cell_type": "code",
      "execution_count": null,
      "metadata": {
        "id": "EQvZfIEXYpJS"
      },
      "outputs": [],
      "source": [
        "import copy\n",
        "import time\n",
        "import os\n",
        "class color:\n",
        "   PURPLE = '\\033[95m'\n",
        "   CYAN = '\\033[96m'\n",
        "   DARKCYAN = '\\033[36m'\n",
        "   BLUE = '\\033[94m'\n",
        "   GREEN = '\\033[92m'\n",
        "   YELLOW = '\\033[93m'\n",
        "   RED = '\\033[91m'\n",
        "   BOLD = '\\033[1m'\n",
        "   UNDERLINE = '\\033[4m'\n",
        "   END = '\\033[0m'"
      ]
    },
    {
      "cell_type": "code",
      "execution_count": 2,
      "metadata": {
        "id": "j136GR83Y9uH"
      },
      "outputs": [],
      "source": [
        "# Position of the block in the map\n",
        "class Position:\n",
        "  def __init__(self, i1, j1, i2, j2, parent = None, move_from_parent = None):\n",
        "    self.i1 = i1\n",
        "    self.j1 = j1\n",
        "    self.i2 = i2\n",
        "    self.j2 = j2\n",
        "    self.parent = parent\n",
        "    self.move_from_parent = move_from_parent\n",
        "\n",
        "  def print(self):\n",
        "    print(\"(\", self.i1, self.j1, \")\",  \"(\", self.i2, self.j2, \")\")\n",
        "\n",
        "  def get_state(self):\n",
        "    if self.i1 == self.i2 and self.j1 == self.j2: return \"STANDING\"\n",
        "    elif (self.j1 == self.j2+1 or self.j1 == self.j2-1) and self.i1 == self.i2: return \"LYING_HORIZONTALLY\"\n",
        "    elif (self.i1 == self.i2+1 or self.i1 == self.i2-1) and self.j1 == self.j2: return \"LYING_VERTICALLY\"\n",
        "    else: return \"SPLIT\"\n",
        "  \n",
        "  def move(self, instruction):\n",
        "    state = self.get_state()\n",
        "    if instruction == \"UP\": \n",
        "      if state == \"STANDING\": return Position(self.i1-2, self.j1, self.i2-1, self.j2, self, \"UP\")\n",
        "      elif state == \"LYING_HORIZONTALLY\": return Position(self.i1-1, self.j1, self.i2-1, self.j2, self, \"UP\")\n",
        "      elif state == \"LYING_VERTICALLY\": return Position(min(self.i1, self.i2)-1, self.j1, min(self.i1, self.i2)-1, self.j2, self, \"UP\")\n",
        "    elif instruction == \"DOWN\": \n",
        "      if state == \"STANDING\": return Position(self.i1+2, self.j1, self.i2+1, self.j2, self, \"DOWN\")\n",
        "      elif state == \"LYING_HORIZONTALLY\": return Position(self.i1+1, self.j1, self.i2+1, self.j2, self, \"DOWN\")\n",
        "      elif state == \"LYING_VERTICALLY\": return Position(max(self.i1, self.i2)+1, self.j1, max(self.i1, self.i2)+1, self.j2, self, \"DOWN\")\n",
        "    elif instruction == \"LEFT\":\n",
        "      if state == \"STANDING\": return Position(self.i1, self.j1-2, self.i2, self.j2-1, self, \"LEFT\")\n",
        "      elif state == \"LYING_HORIZONTALLY\": return Position(self.i1, min(self.j1, self.j2)-1, self.i2, min(self.j1, self.j2)-1, self, \"LEFT\")\n",
        "      elif state == \"LYING_VERTICALLY\": return Position(self.i1, self.j1-1, self.i2, self.j2-1, self, \"LEFT\")\n",
        "    elif instruction == \"RIGHT\":\n",
        "      if state == \"STANDING\": return Position(self.i1, self.j1+2, self.i2, self.j2+1, self, \"RIGHT\")\n",
        "      elif state == \"LYING_HORIZONTALLY\": return Position(self.i1, max(self.j1, self.j2)+1, self.i2, max(self.j1, self.j2)+1, self, \"RIGHT\")\n",
        "      elif state == \"LYING_VERTICALLY\": return Position(self.i1, self.j1+1, self.i2, self.j2+1, self, \"RIGHT\")\n",
        "    else: return \"INVALID INPUT\"\n",
        "  def is_visited(self, visited):\n",
        "        return ([self.i1, self.j1, self.i2, self.j2] in visited) or ([self.i2, self.j1, self.i1, self.j2] in visited) or ([self.i1, self.j2, self.i2, self.j1] in visited) or ([self.i2, self.j2, self.i1, self.j1] in visited)\n",
        "  def expand(self):\n",
        "    return [self.move(\"UP\"), self.move(\"DOWN\"), self.move(\"LEFT\"), self.move(\"RIGHT\")]"
      ]
    },
    {
      "cell_type": "code",
      "execution_count": 4,
      "metadata": {
        "id": "qLwkTwJsZ3eu"
      },
      "outputs": [],
      "source": [
        "class BLOXORZ:\n",
        "  def __init__(self, map, initial_position):\n",
        "    self.map = map\n",
        "    self.initial_position = initial_position\n",
        "\n",
        "  def is_goal(self, current_position):\n",
        "    return current_position.get_state() == \"STANDING\" and self.map[current_position.i1][current_position.j1] == 10\n",
        "\n",
        "  def is_valid_position(self, current_position):\n",
        "    if current_position.i1 < 0 or current_position.i2 < 0 or current_position.j1 < 0 or current_position.j2 < 0: return False\n",
        "    if current_position.i1 >= len(self.map) or current_position.i2 >= len(self.map) or current_position.j1 >= len(self.map[0]) or current_position.j2 >= len(self.map[0]): return False\n",
        "\n",
        "    if current_position.get_state() == \"STANDING\": return self.map[current_position.i1][current_position.j1] > 1\n",
        "    else: return self.map[current_position.i1][current_position.j1] > 0 and self.map[current_position.i2][current_position.j2] > 0\n",
        "  \n",
        "  def DFS(self, stack, visited, loop):\n",
        "      while len(stack) > 0:\n",
        "          this_position = stack.pop()\n",
        "          visited.append([this_position.i1, this_position.j1, this_position.i2, this_position.j2])\n",
        "          exp_list = this_position.expand()\n",
        "          for pos in exp_list:\n",
        "              if self.is_valid_position(pos):\n",
        "                  if not pos.is_visited(visited):\n",
        "                      stack.append(pos)\n",
        "                      # self.draw_map_2D(pos)\n",
        "                  if self.is_goal(pos): \n",
        "                      path = [pos]\n",
        "                      while path[-1].parent != None: path.append(path[-1].parent)\n",
        "                      path.reverse()\n",
        "                      print(\"Goal reached after\", loop, \"loops\")\n",
        "                      return path\n",
        "          loop = loop + 1\n",
        "      if len(stack) == 0:\n",
        "          print(\"No solutions\")\n",
        "          exit()\n",
        "  def draw_map_2D(self,current_position):\n",
        "      # Clear screen in Windows systems\n",
        "      # os.system('cls')\n",
        "      # Clear screen in Mac/Linux systems\n",
        "      os.system('clear')\n",
        "      print(\"-\"*len(map[0])*4)\n",
        "      for i in range(len(map)):\n",
        "        print('|',end='')\n",
        "        for j in range(len(map[0])):\n",
        "            if current_position.get_state() == \"STANDING\" and i == current_position.i1 and j == current_position.j1:\n",
        "                print(\"\", \"\\033[1;34;47m x\", \"|\", end='')\n",
        "            elif (current_position.get_state() == \"LYING_HORIZONTALLY\" or current_position.get_state() == \"LYING_VERTICALLY\") and (i == current_position.i1 and j == current_position.j1) or (i == current_position.i2 and j == current_position.j2):\n",
        "                print(\"\", \"\\033[1;34;47m x\", \"|\", end='')\n",
        "            else:\n",
        "                print(\"\",map[i][j], \"|\", end='')\n",
        "        print()\n",
        "        print(\"-\"*len(map[0])*4)\n",
        "      \n",
        "      time.sleep(1)"
      ]
    },
    {
      "cell_type": "code",
      "execution_count": 5,
      "metadata": {
        "colab": {
          "base_uri": "https://localhost:8080/"
        },
        "id": "ByqLbujtYn-D",
        "outputId": "eae0ebc4-fba2-46d1-f29c-291217a8cc8d"
      },
      "outputs": [
        {
          "output_type": "stream",
          "name": "stdout",
          "text": [
            "Goal reached after 31 loops\n",
            "RIGHT\n",
            "DOWN\n",
            "LEFT\n",
            "UP\n",
            "RIGHT\n",
            "RIGHT\n",
            "DOWN\n",
            "LEFT\n",
            "LEFT\n",
            "UP\n",
            "UP\n",
            "RIGHT\n",
            "DOWN\n",
            "RIGHT\n",
            "RIGHT\n",
            "RIGHT\n",
            "RIGHT\n",
            "UP\n",
            "UP\n",
            "RIGHT\n",
            "RIGHT\n",
            "RIGHT\n",
            "DOWN\n",
            "LEFT\n",
            "DOWN\n",
            "RIGHT\n",
            "RIGHT\n",
            "DOWN\n",
            "LEFT\n",
            "UP\n"
          ]
        }
      ],
      "source": [
        "initBlock = Position(3,1,3,1)\n",
        "map = [[0,0,0,0,0,0,2,2,2,2,2,2,2,0,0],\n",
        "        [2,2,2,2,0,0,2,2,2,0,0,2,2,0,0],\n",
        "        [2,2,2,2,2,2,2,2,2,0,0,2,2,2,2],\n",
        "        [2,2,2,2,0,0,0,0,0,0,0,2,2,10,2],\n",
        "        [2,2,2,2,0,0,0,0,0,0,0,2,2,2,2],\n",
        "        [0,0,0,0,0,0,0,0,0,0,0,0,2,2,2]]\n",
        "game = BLOXORZ(map, initBlock)\n",
        "path = game.DFS([initBlock], [], 0)\n",
        "for position in path: \n",
        "  if position.move_from_parent != None:\n",
        "    print(position.move_from_parent)"
      ]
    }
  ],
  "metadata": {
    "colab": {
      "provenance": [],
      "include_colab_link": true
    },
    "kernelspec": {
      "display_name": "Python 3.10.4 64-bit",
      "language": "python",
      "name": "python3"
    },
    "language_info": {
      "codemirror_mode": {
        "name": "ipython",
        "version": 3
      },
      "file_extension": ".py",
      "mimetype": "text/x-python",
      "name": "python",
      "nbconvert_exporter": "python",
      "pygments_lexer": "ipython3",
      "version": "3.10.4"
    },
    "vscode": {
      "interpreter": {
        "hash": "aee8b7b246df8f9039afb4144a1f6fd8d2ca17a180786b69acc140d282b71a49"
      }
    }
  },
  "nbformat": 4,
  "nbformat_minor": 0
}