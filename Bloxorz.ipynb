{
  "nbformat": 4,
  "nbformat_minor": 0,
  "metadata": {
    "colab": {
      "provenance": [],
      "authorship_tag": "ABX9TyNCm3rBDI3YvV4CDsJj6wNi",
      "include_colab_link": true
    },
    "kernelspec": {
      "name": "python3",
      "display_name": "Python 3"
    },
    "language_info": {
      "name": "python"
    }
  },
  "cells": [
    {
      "cell_type": "markdown",
      "metadata": {
        "id": "view-in-github",
        "colab_type": "text"
      },
      "source": [
        "<a href=\"https://colab.research.google.com/github/minh-chaudang/IntroAI/blob/main/Bloxorz.ipynb\" target=\"_parent\"><img src=\"https://colab.research.google.com/assets/colab-badge.svg\" alt=\"Open In Colab\"/></a>"
      ]
    },
    {
      "cell_type": "code",
      "source": [
        "import copy"
      ],
      "metadata": {
        "id": "EQvZfIEXYpJS"
      },
      "execution_count": 1,
      "outputs": []
    },
    {
      "cell_type": "code",
      "execution_count": 2,
      "metadata": {
        "id": "j136GR83Y9uH"
      },
      "outputs": [],
      "source": [
        "# Position of the block in the map\n",
        "class Position:\n",
        "  def __init__(self, i1, j1, i2, j2, parent = None):\n",
        "    self.i1 = i1\n",
        "    self.j1 = j1\n",
        "    self.i2 = i2\n",
        "    self.j2 = j2\n",
        "    self.parent = parent\n",
        "\n",
        "  def print(self):\n",
        "    print(\"(\", self.i1, self.j1, \")\",  \"(\", self.i2, self.j2, \")\")\n",
        "\n",
        "  def get_state(self):\n",
        "    if self.i1 == self.i2 and self.j1 == self.j2: return \"STANDING\"\n",
        "    elif (self.j1 == self.j2+1 or self.j1 == self.j2-1) and self.i1 == self.i2: return \"LYING_HORIZONTALLY\"\n",
        "    elif (self.i1 == self.i2+1 or self.i1 == self.i2-1) and self.j1 == self.j2: return \"LYING_VERTICALLY\"\n",
        "    else: return \"SPLIT\"\n",
        "  \n",
        "  def move(self, instruction):\n",
        "    state = self.get_state()\n",
        "    if instruction == \"UP\": \n",
        "      if state == \"STANDING\": return Position(self.i1-2, self.j1, self.i2-1, self.j2, self)\n",
        "      elif state == \"LYING_HORIZONTALLY\": return Position(self.i1-1, self.j1, self.i2-1, self.j2, self)\n",
        "      elif state == \"LYING_VERTICALLY\": return Position(min(self.i1, self.i2)-1, self.j1, min(self.i1, self.i2)-1, self.j2, self)\n",
        "    elif instruction == \"DOWN\": \n",
        "      if state == \"STANDING\": return Position(self.i1+2, self.j1, self.i2+1, self.j2, self)\n",
        "      elif state == \"LYING_HORIZONTALLY\": return Position(self.i1+1, self.j1, self.i2+1, self.j2, self)\n",
        "      elif state == \"LYING_VERTICALLY\": return Position(max(self.i1, self.i2)+1, self.j1, max(self.i1, self.i2)+1, self.j2, self)\n",
        "    elif instruction == \"LEFT\":\n",
        "      if state == \"STANDING\": return Position(self.i1, self.j1-2, self.i2, self.j2-1, self)\n",
        "      elif state == \"LYING_HORIZONTALLY\": return Position(self.i1, min(self.j1, self.j2)-1, self.i2, min(self.j1, self.j2)-1, self)\n",
        "      elif state == \"LYING_VERTICALLY\": return Position(self.i1, self.j1-1, self.i2, self.j2-1, self)\n",
        "    elif instruction == \"RIGHT\":\n",
        "      if state == \"STANDING\": return Position(self.i1, self.j1+2, self.i2, self.j2+1, self)\n",
        "      elif state == \"LYING_HORIZONTALLY\": return Position(self.i1, max(self.j1, self.j2)+1, self.i2, max(self.j1, self.j2)+1, self)\n",
        "      elif state == \"LYING_VERTICALLY\": return Position(self.i1, self.j1+1, self.i2, self.j2+1, self)\n",
        "    else: return \"INVALID INPUT\"\n",
        "\n",
        "  def expand(self):\n",
        "    return [self.move(\"UP\"), self.move(\"DOWN\"), self.move(\"LEFT\"), self.move(\"RIGHT\")]\n",
        "  "
      ]
    },
    {
      "cell_type": "code",
      "source": [
        "class BLOXORZ:\n",
        "  def __init__(self, map, initial_position):\n",
        "    self.map = map\n",
        "    self.initial_position = initial_position\n",
        "\n",
        "  def is_goal(self, current_position):\n",
        "    return current_position.get_state() == \"STANDING\" and self.map[current_position.i1][current_position.j1] == 10\n",
        "\n",
        "  def is_valid_position(self, current_position):\n",
        "    if current_position.i1 < 0 or current_position.i2 < 0 or current_position.j1 < 0 or current_position.j2 < 0: return False\n",
        "    if current_position.i1 >= len(self.map) or current_position.i2 >= len(self.map) or current_position.j1 >= len(self.map[0]) or current_position.j2 >= len(self.map[0]): return False\n",
        "\n",
        "    if current_position.get_state() == \"STANDING\": return self.map[current_position.i1][current_position.j1] > 1\n",
        "    else: return self.map[current_position.i1][current_position.j1] > 0 and self.map[current_position.i2][current_position.j2] > 0\n",
        "  \n",
        "  def DFS(self, stack, visited, loop):\n",
        "    while len(stack) > 0 and (([stack[-1].i1, stack[-1].j1, stack[-1].i2, stack[-1].j2] in visited or [stack[-1].i2, stack[-1].j2, stack[-1].i1, stack[-1].j1] in visited or not self.is_valid_position(stack[-1]))):\n",
        "      stack.pop()\n",
        "\n",
        "    if len(stack) == 0: return \"No solutions\"\n",
        "    else:\n",
        "      if self.is_goal(stack[-1]): \n",
        "        print(\"Goal reached after\", loop, \"loops\")\n",
        "        path = [stack[-1]]\n",
        "        while path[-1].parent != None: path.append(path[-1].parent)\n",
        "        path.reverse()\n",
        "        return path\n",
        "      else:\n",
        "        this_position = stack[-1]\n",
        "        # this_position.print()\n",
        "        visited.append([this_position.i1, this_position.j1, this_position.i2, this_position.j2])\n",
        "        stack.pop()\n",
        "        stack += this_position.expand()\n",
        "        return self.DFS(stack, visited, loop+1)"
      ],
      "metadata": {
        "id": "qLwkTwJsZ3eu"
      },
      "execution_count": 19,
      "outputs": []
    },
    {
      "cell_type": "code",
      "source": [
        "pos = Position(3,4,3,4)\n",
        "children = pos.expand()\n",
        "for child in children: child.print()"
      ],
      "metadata": {
        "colab": {
          "base_uri": "https://localhost:8080/"
        },
        "id": "lvtwC1ZXOj17",
        "outputId": "69e0414d-46e5-4249-f9ff-e981c4bce075"
      },
      "execution_count": 4,
      "outputs": [
        {
          "output_type": "stream",
          "name": "stdout",
          "text": [
            "( 1 4 ) ( 2 4 )\n",
            "( 5 4 ) ( 4 4 )\n",
            "( 3 2 ) ( 3 3 )\n",
            "( 3 6 ) ( 3 5 )\n"
          ]
        }
      ]
    },
    {
      "cell_type": "code",
      "source": [
        "initBlock = Position(3,1,3,1)\n",
        "map = [[0,0,0,0,0,0,2,2,2,2,2,2,2,0,0],\n",
        "        [2,2,2,2,0,0,2,2,2,0,0,2,2,0,0],\n",
        "        [2,2,2,2,2,2,2,2,2,0,0,2,2,2,2],\n",
        "        [2,2,2,2,0,0,0,0,0,0,0,2,2,10,2],\n",
        "        [2,2,2,2,0,0,0,0,0,0,0,2,2,2,2],\n",
        "        [0,0,0,0,0,0,0,0,0,0,0,0,2,2,2]]\n",
        "game = BLOXORZ(map, initBlock)\n",
        "path = game.DFS([initBlock], [], 0)\n",
        "for position in path: position.print()\n"
      ],
      "metadata": {
        "colab": {
          "base_uri": "https://localhost:8080/"
        },
        "id": "ByqLbujtYn-D",
        "outputId": "b7793d2e-30e4-474a-ed29-fa6b312c369d"
      },
      "execution_count": 20,
      "outputs": [
        {
          "output_type": "stream",
          "name": "stdout",
          "text": [
            "Goal reached after 64 loops\n",
            "( 3 1 ) ( 3 1 )\n",
            "( 3 3 ) ( 3 2 )\n",
            "( 4 3 ) ( 4 2 )\n",
            "( 4 1 ) ( 4 1 )\n",
            "( 2 1 ) ( 3 1 )\n",
            "( 2 2 ) ( 3 2 )\n",
            "( 2 3 ) ( 3 3 )\n",
            "( 4 3 ) ( 4 3 )\n",
            "( 4 1 ) ( 4 2 )\n",
            "( 4 0 ) ( 4 0 )\n",
            "( 2 0 ) ( 3 0 )\n",
            "( 1 0 ) ( 1 0 )\n",
            "( 1 2 ) ( 1 1 )\n",
            "( 2 2 ) ( 2 1 )\n",
            "( 2 3 ) ( 2 3 )\n",
            "( 2 5 ) ( 2 4 )\n",
            "( 2 6 ) ( 2 6 )\n",
            "( 2 8 ) ( 2 7 )\n",
            "( 1 8 ) ( 1 7 )\n",
            "( 0 8 ) ( 0 7 )\n",
            "( 0 9 ) ( 0 9 )\n",
            "( 0 11 ) ( 0 10 )\n",
            "( 0 12 ) ( 0 12 )\n",
            "( 2 12 ) ( 1 12 )\n",
            "( 2 11 ) ( 1 11 )\n",
            "( 3 11 ) ( 3 11 )\n",
            "( 3 13 ) ( 3 12 )\n",
            "( 3 14 ) ( 3 14 )\n",
            "( 5 14 ) ( 4 14 )\n",
            "( 5 13 ) ( 4 13 )\n",
            "( 5 12 ) ( 4 12 )\n",
            "( 3 12 ) ( 3 12 )\n",
            "( 3 14 ) ( 3 13 )\n",
            "( 4 14 ) ( 4 13 )\n",
            "( 4 12 ) ( 4 12 )\n",
            "( 2 12 ) ( 3 12 )\n",
            "( 2 13 ) ( 3 13 )\n",
            "( 2 14 ) ( 3 14 )\n",
            "( 4 14 ) ( 4 14 )\n",
            "( 4 12 ) ( 4 13 )\n",
            "( 5 12 ) ( 5 13 )\n",
            "( 5 14 ) ( 5 14 )\n",
            "( 3 14 ) ( 4 14 )\n",
            "( 3 13 ) ( 4 13 )\n",
            "( 2 13 ) ( 2 13 )\n",
            "( 2 11 ) ( 2 12 )\n",
            "( 3 11 ) ( 3 12 )\n",
            "( 3 13 ) ( 3 13 )\n"
          ]
        }
      ]
    },
    {
      "cell_type": "code",
      "source": [
        "game.DFS([initBlock], [])"
      ],
      "metadata": {
        "colab": {
          "base_uri": "https://localhost:8080/",
          "height": 53
        },
        "id": "5CaqyytShdIn",
        "outputId": "1f7db79c-a723-4aa8-9cf6-bfe6d1116912"
      },
      "execution_count": null,
      "outputs": [
        {
          "output_type": "stream",
          "name": "stdout",
          "text": [
            "Popped\n"
          ]
        },
        {
          "output_type": "execute_result",
          "data": {
            "text/plain": [
              "'No solutions'"
            ],
            "application/vnd.google.colaboratory.intrinsic+json": {
              "type": "string"
            }
          },
          "metadata": {},
          "execution_count": 48
        }
      ]
    }
  ]
}