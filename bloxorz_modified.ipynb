{
  "cells": [
    {
      "cell_type": "markdown",
      "metadata": {
        "id": "view-in-github",
        "colab_type": "text"
      },
      "source": [
        "<a href=\"https://colab.research.google.com/github/minh-chaudang/IntroAI/blob/main/bloxorz_modified.ipynb\" target=\"_parent\"><img src=\"https://colab.research.google.com/assets/colab-badge.svg\" alt=\"Open In Colab\"/></a>"
      ]
    },
    {
      "cell_type": "code",
      "execution_count": null,
      "metadata": {
        "id": "EQvZfIEXYpJS"
      },
      "outputs": [],
      "source": [
        "import copy\n",
        "import time\n",
        "import os\n",
        "import random\n",
        "import numpy as np"
      ]
    },
    {
      "cell_type": "code",
      "source": [
        "class color:\n",
        "   PURPLE = '\\033[95m'\n",
        "   CYAN = '\\033[96m'\n",
        "   DARKCYAN = '\\033[36m'\n",
        "   BLUE = '\\033[94m'\n",
        "   GREEN = '\\033[92m'\n",
        "   YELLOW = '\\033[93m'\n",
        "   RED = '\\033[91m'\n",
        "   BOLD = '\\033[1m'\n",
        "   UNDERLINE = '\\033[4m'\n",
        "   END = '\\033[0m'"
      ],
      "metadata": {
        "id": "LHGWlKpP0W1W"
      },
      "execution_count": null,
      "outputs": []
    },
    {
      "cell_type": "code",
      "source": [
        "# Create a dictionary to save memory later\n",
        "move = {None: \"Initial Block\", 0 : \"NONE\", -1 : \"UP\", 1 : \"DOWN\", -2 : \"LEFT\", 2 : \"RIGHT\"}\n",
        "state = {0 : \"STANDING\", 1 : \"LYING_HORIZONTALLY\", 2 : \"LYING_VERTICALLY\", 3 : \"SPLIT\"}\n",
        "square = {0 : \"NONE\", 1 : \"WEAK\", 2 : \"STRONG\", 3 : \"WEAK_SWICH\", 4 : \"STRONG_SWITCH\", 5 : \"TELEPORT\"}"
      ],
      "metadata": {
        "id": "kT_MnqgDzpfd"
      },
      "execution_count": null,
      "outputs": []
    },
    {
      "cell_type": "code",
      "execution_count": null,
      "metadata": {
        "id": "j136GR83Y9uH"
      },
      "outputs": [],
      "source": [
        "# Position of the block in the map\n",
        "class Block:\n",
        "  def __init__(self, parts, parent = None, move_from_parent = None):\n",
        "    self.parts = sorted(parts, key = lambda x : x[0] + x[1])\n",
        "    self.parent = parent\n",
        "    self.move_from_parent = move_from_parent\n",
        "    self.state = self.get_state()\n",
        "\n",
        "  def get_state(self):\n",
        "    row_diff = abs(self.parts[0][0] - self.parts[1][0])\n",
        "    col_diff = abs(self.parts[0][1] - self.parts[1][1])\n",
        "\n",
        "    if row_diff == 0 and col_diff == 0: return 0\n",
        "    elif row_diff == 0 and col_diff == 1: return 1\n",
        "    elif row_diff == 1 and col_diff == 0: return 2\n",
        "    else: return 3\n",
        "  \n",
        "  def move(self, instruction, movable_part = None):\n",
        "    if instruction == 0: return copy.copy(self)\n",
        "    else: \n",
        "      affected_axis = abs(instruction)-1\n",
        "      parts = copy.deepcopy(self.parts)\n",
        "      product = abs(instruction*self.state)\n",
        "\n",
        "      if self.state == 3:\n",
        "        parts[movable_part][affected_axis] += np.sign(instruction)\n",
        "      else:\n",
        "        if product == 0:\n",
        "        # Standing\n",
        "          parts[0][affected_axis] += np.sign(instruction)*2\n",
        "          parts[1][affected_axis] += np.sign(instruction)\n",
        "        elif product == 2:\n",
        "        # Apply max/min\n",
        "          if instruction < 0: \n",
        "            parts[0][affected_axis] = min(parts[0][affected_axis], parts[1][affected_axis]) - 1\n",
        "            parts[1][affected_axis] = parts[0][affected_axis]\n",
        "          else:\n",
        "            parts[0][affected_axis] = max(parts[0][affected_axis], parts[1][affected_axis]) + 1\n",
        "            parts[1][affected_axis] = parts[0][affected_axis]\n",
        "        else:\n",
        "          parts[0][affected_axis] += np.sign(instruction)\n",
        "          parts[1][affected_axis] += np.sign(instruction)\n",
        "        \n",
        "      return Block(parts, self, instruction)\n",
        "\n",
        "class BLOXORZ:\n",
        "  def __init__(self, map, initial_block, current = None):\n",
        "    self.map = map\n",
        "    self.initial_block = initial_block\n",
        "    self.goal = [(index, row.index(10)) for index, row in enumerate(map) if 10 in row][0]\n",
        "    self.current = initial_block\n",
        "\n",
        "  # Get value at part_number of current block\n",
        "  def get_value(self, part_number):\n",
        "    return self.map[self.current.parts[part_number][0]][self.current.parts[part_number][1]]\n",
        "\n",
        "  def is_goal(self, current = None):\n",
        "    if current == None: current = self.state\n",
        "    return current.state == 0 and self.map[current.parts[0][0]][current.parts[0][1]] == 10\n",
        "\n",
        "  # Check if current block is valid in this map\n",
        "  def is_valid(self, current = None):\n",
        "    if current == None: current = self.current\n",
        "\n",
        "    if current.parts[0][0] < 0 or current.parts[1][0] < 0 or current.parts[0][1] < 0 or current.parts[1][1] < 0: \n",
        "      return False\n",
        "    if current.parts[0][0] >= len(self.map) or current.parts[1][0] >= len(self.map) or current.parts[0][1] >= len(self.map[0]) or current.parts[1][1] >= len(self.map[0]): \n",
        "      return False\n",
        "\n",
        "    if current.state == 0: \n",
        "      return self.map[current.parts[0][0]][current.parts[0][1]] > 1\n",
        "    else: \n",
        "      return self.map[current.parts[0][0]][current.parts[0][1]] > 0 and self.map[current.parts[1][0]][current.parts[1][1]] > 0\n",
        "\n",
        "  def expand(self, current = None):\n",
        "    if current == None: current = self.current\n",
        "    children = []\n",
        "    for instruction in [-1,1,-2,2]:\n",
        "      child = current.move(instruction)\n",
        "      if self.is_valid(child): children.append(child)\n",
        "    return children\n",
        "  \n",
        "  # Estimate cost to goal, calculated my average of Manhattan distances of 2 part of the block or Chebychev distance\n",
        "  def cost_to_goal(self, current):\n",
        "    #Average Manhattan\n",
        "    average = 1/2 * (abs(current.parts[0][0] - self.goal[0]) + abs(current.parts[1][0] - self.goal[0]) + abs(current.parts[1][0] - self.goal[1]) + abs(current.parts[1][1] - self.goal[1]))\n",
        "    return 1/average\n",
        "    # Chebychev\n",
        "    # max1 = max(abs(current.parts[0][0] - self.goal[0]), abs(current.parts[0][1] - self.goal[1]))\n",
        "    # max2 = max(abs(current.parts[1][0] - self.goal[0]), abs(current.parts[1][1] - self.goal[1]))\n",
        "    # return 1/max(max1, max2)\n",
        "\n",
        "  def move_process(self, process):\n",
        "    current = copy.copy(self.initial_block)\n",
        "    for move in process: \n",
        "      current = current.move(move)\n",
        "      if not self.is_valid(current): \n",
        "        return -1\n",
        "    return current\n",
        "\n",
        "  # # def update(self):\n",
        "  # #   # Update map happens when the block's part(s) is on special square\n",
        "\n",
        "\n",
        "  def draw_map_2D(self,current):\n",
        "    # Clear screen in Windows systems\n",
        "    # os.system('cls')\n",
        "    # Clear screen in Mac/Linux systems\n",
        "    os.system('clear')\n",
        "    print(\"-\"*len(map[0])*4)\n",
        "    for i in range(len(map)):\n",
        "      print('|',end='')\n",
        "      for j in range(len(map[0])):\n",
        "          if current.state == 0 and i == current.i1 and j == current.j1:\n",
        "              print(\"\", \"\\033[1;34;47m x\", \"|\", end='')\n",
        "          elif (current.state == 1 or current.get_state() == 2) and (i == current.i1 and j == current.j1) or (i == current.i2 and j == current.j2):\n",
        "              print(\"\", \"\\033[1;34;47m x\", \"|\", end='')\n",
        "          else:\n",
        "              print(\"\",map[i][j], \"|\", end='')\n",
        "      print()\n",
        "      print(\"-\"*len(map[0])*4)\n",
        "    \n",
        "    time.sleep(1)\n",
        "\n",
        "\n",
        "  # This is the original DFS\n",
        "def helper(game, stack, visited, loop):\n",
        "  while len(stack) > 0:\n",
        "    game.current = stack.pop()\n",
        "    visited.append(game.current.parts)\n",
        "    children = game.expand() \n",
        "    # if game.current.parent != None and game.current.parent.parts == [[0, 9], [1, 9]]: \n",
        "    # if game.current.parent != None:\n",
        "    #   print(game.current.parent.parts, move[game.current.move_from_parent], game.current.parts)\n",
        "    for child in children:\n",
        "      \n",
        "      if game.is_goal(child): \n",
        "        print(\"Goal:\", child.parts)\n",
        "        return child, loop\n",
        "      if child.parts not in visited: stack.append(child)\n",
        "\n",
        "    loop = loop + 1\n",
        "  return -1, loop\n",
        "\n",
        "#This is used to call DFS more conveniently\n",
        "def DFS(game):\n",
        "  index = 0;\n",
        "  goal, loop = helper(game, [game.initial_block], [], 0)\n",
        "  if goal == -1: print(\"No solutions\")\n",
        "  else:\n",
        "    path = [goal]\n",
        "    while path[-1].parent != None: path.append(path[-1].parent)\n",
        "    path.reverse()\n",
        "    print(\"Goal reached after\", loop, \"loops\")\n",
        "    for position in path: \n",
        "      print(\"Steps\", index, move[position.move_from_parent],\":\", position.parts)\n",
        "      index = index + 1"
      ]
    },
    {
      "cell_type": "code",
      "source": [
        "level1 = BLOXORZ([[2,2,2,0,0,0,0,0,0,0],\n",
        "                  [2,2,2,2,2,2,0,0,0,0],\n",
        "                  [2,2,2,2,2,2,2,2,2,0],\n",
        "                  [0,2,2,2,2,2,2,2,2,2], \n",
        "                  [0,0,0,0,0,2,2,10,2,2], \n",
        "                  [0,0,0,0,0,0,2,2,2,0]], Block([[1,1],[1,1]]))\n",
        "\n",
        "level2 = BLOXORZ([[0,0,0,0,0,0,2,2,2,2,0,0,2,2,2],\n",
        "                  [2,2,2,2,0,0,2,2,2,2,0,0,2,10,2],\n",
        "                  [2,2,2,2,0,0,2,2,2,2,0,0,2,2,2],\n",
        "                  [2,2,2,2,0,0,2,2,2,2,0,0,2,2,2],\n",
        "                  [2,2,2,2,2,2,2,2,2,2,2,2,2,2,2],\n",
        "                  [2,2,2,2,0,0,2,2,2,2,0,0,0,0,0]], Block([[3,1],[3,1]]))\n",
        "\n",
        "level3 = BLOXORZ([[0,0,0,0,0,0,2,2,2,2,2,2,2,0,0],\n",
        "                  [2,2,2,2,0,0,2,2,2,0,0,2,2,0,0],\n",
        "                  [2,2,2,2,2,2,2,2,2,0,0,2,2,10,2],\n",
        "                  [2,2,2,2,0,0,0,0,0,0,0,2,2,2,2],\n",
        "                  [0,0,0,0,0,0,0,0,0,0,0,0,2,2,2]], Block([[2,1],[2,1]]))\n",
        "\n",
        "level4 = BLOXORZ([[0,0,0,1,1,1,1,1,1,1,0,0,0,0],\n",
        "                  [0,0,0,1,1,1,1,1,1,1,0,0,0,0],\n",
        "                  [2,2,2,2,0,0,0,0,0,2,2,2,0,0],\n",
        "                  [2,2,2,0,0,0,0,0,0,0,2,2,0,0],\n",
        "                  [2,2,2,0,0,0,0,0,0,0,2,2,0,0],\n",
        "                  [2,2,2,0,0,2,2,2,2,1,1,1,1,1],\n",
        "                  [2,2,2,0,0,2,2,2,2,1,1,1,1,1],\n",
        "                  [0,0,0,0,0,2,10,2,0,0,1,1,2,1],\n",
        "                  [0,0,0,0,0,2,2,2,0,0,1,1,1,1]], Block([[5,1],[5,1]]))\n",
        "\n",
        "level5 = BLOXORZ([[0,0,0,0,0,0,0,0,0,0,0,2,2,2,2],\n",
        "                  [0,2,2,2,2,2,2,2,2,2,2,2,2,2,2],\n",
        "                  [0,2,2,2,2,0,0,0,0,0,0,0,2,2,2],\n",
        "                  [0,2,2,2,2,0,0,0,0,0,0,0,0,0,0],\n",
        "                  [0,2,2,2,2,0,0,0,0,0,0,0,0,0,0],\n",
        "                  [0,0,0,2,2,2,2,2,2,2,2,2,2,0,0],\n",
        "                  [0,0,0,0,0,0,0,0,0,0,2,2,2,2,2],\n",
        "                  [2,2,2,0,0,0,0,0,0,0,2,2,2,2,2],\n",
        "                  [2,10,2,2,2,2,2,2,2,2,2,2,2,0,0],\n",
        "                  [2,2,2,2,2,0,0,0,0,0,0,0,0,0,0]], Block([[1,12],[1,12]]))\n",
        "\n",
        "level6 = BLOXORZ([[0,0,0,0,0,2,2,2,2,2,2,0,0,0,0],\n",
        "                  [0,0,0,0,0,2,0,0,2,2,2,0,0,0,0],\n",
        "                  [0,0,0,0,0,2,0,0,2,2,2,2,2,0,0],\n",
        "                  [2,2,2,2,2,2,0,0,0,0,0,2,2,2,2],\n",
        "                  [0,0,0,0,2,2,2,0,0,0,0,2,2,10,2],\n",
        "                  [0,0,0,0,2,2,2,0,0,0,0,0,2,2,2],\n",
        "                  [0,0,0,0,0,0,2,0,0,2,2,0,0,0,0],\n",
        "                  [0,0,0,0,0,0,2,2,2,2,2,0,0,0,0],\n",
        "                  [0,0,0,0,0,0,2,2,2,2,2,0,0,0,0],\n",
        "                  [0,0,0,0,0,0,0,2,2,2,0,0,0,0,0]], Block([[3,0],[3,0]]))\n"
      ],
      "metadata": {
        "id": "Q3kO64Txa23N"
      },
      "execution_count": null,
      "outputs": []
    },
    {
      "cell_type": "code",
      "source": [
        "DFS(level6)"
      ],
      "metadata": {
        "id": "jRhO7tYzHSWB"
      },
      "execution_count": null,
      "outputs": []
    },
    {
      "cell_type": "code",
      "source": [
        "print(level4.map[0][2])\n",
        "print(level4.is_valid(Block([[0,2],[1,2]])))"
      ],
      "metadata": {
        "colab": {
          "base_uri": "https://localhost:8080/"
        },
        "id": "pIk9tAVMVjrA",
        "outputId": "c5d6e3b8-9830-4738-c948-a5a0dee5dcf3"
      },
      "execution_count": null,
      "outputs": [
        {
          "output_type": "stream",
          "name": "stdout",
          "text": [
            "0\n",
            "False\n"
          ]
        }
      ]
    },
    {
      "cell_type": "code",
      "source": [
        "block = Block([[5,1],[5,1]])\n",
        "print(block.move(-1).parts)"
      ],
      "metadata": {
        "colab": {
          "base_uri": "https://localhost:8080/"
        },
        "id": "8bWa_cjsUJC9",
        "outputId": "2614371b-99e3-42a9-b626-039d0b80c81b"
      },
      "execution_count": null,
      "outputs": [
        {
          "output_type": "stream",
          "name": "stdout",
          "text": [
            "[[3, 1], [4, 1]]\n"
          ]
        }
      ]
    },
    {
      "cell_type": "code",
      "source": [
        "level4.is_valid(Block([[3,1],[4,1]]))"
      ],
      "metadata": {
        "colab": {
          "base_uri": "https://localhost:8080/"
        },
        "id": "U6TH-VnlT1jg",
        "outputId": "b2ab0305-0181-43de-cc5d-b4fbda5eaf68"
      },
      "execution_count": null,
      "outputs": [
        {
          "output_type": "execute_result",
          "data": {
            "text/plain": [
              "True"
            ]
          },
          "metadata": {},
          "execution_count": 98
        }
      ]
    },
    {
      "cell_type": "code",
      "source": [],
      "metadata": {
        "id": "fplPHzzbMTrd"
      },
      "execution_count": null,
      "outputs": []
    },
    {
      "cell_type": "code",
      "source": [
        "print(level2.initial_block.parts)"
      ],
      "metadata": {
        "colab": {
          "base_uri": "https://localhost:8080/"
        },
        "id": "DlfkfXj7H82m",
        "outputId": "284173b0-12cf-4826-e2f7-4ab69219d149"
      },
      "execution_count": null,
      "outputs": [
        {
          "output_type": "stream",
          "name": "stdout",
          "text": [
            "[[3, 1], [3, 1]]\n"
          ]
        }
      ]
    },
    {
      "cell_type": "code",
      "source": [],
      "metadata": {
        "id": "0265i_PpH56l"
      },
      "execution_count": null,
      "outputs": []
    },
    {
      "cell_type": "code",
      "source": [
        "class Genetic():\n",
        "  population = []\n",
        "  prob = []\n",
        "  def __init__(self, game, chromosome_length, population_capacity):\n",
        "    self.game = game\n",
        "    self.chromosome_length = chromosome_length\n",
        "    self.population_capacity = population_capacity\n",
        "    self.initPopulation()\n",
        "    self.probCal()\n",
        "\n",
        "  def initIndividual(self):\n",
        "    chromosome = []\n",
        "    for i in range(self.chromosome_length):\n",
        "      # if chromosome is empty or having NONE as the last gen, add an arbitrary\n",
        "      if len(chromosome) == 0 or chromosome[-1] == 0: chromosome.append(random.choice((0,1,2,3,4)))\n",
        "      # if the last gen is UP, avoid DOWN\n",
        "      elif chromosome[-1] == 1: chromosome.append(random.choice((0,1,3,4)))\n",
        "      # if the last gen is DOWN, avoid UP\n",
        "      elif chromosome[-1] == 2: chromosome.append(random.choice((0,2,3,4)))\n",
        "      # if the last gen is LEFT, avoid RIGHT\n",
        "      elif chromosome[-1] == 3: chromosome.append(random.choice((0,1,2,3)))\n",
        "      # if the last gen is LEFT, avoid RIGHT\n",
        "      else: chromosome.append(random.choice((0,1,2,4)))\n",
        "    return chromosome\n",
        "  \n",
        "  def initPopulation(self):\n",
        "    while len(self.population) < self.population_capacity:\n",
        "      individual = self.initIndividual()\n",
        "      final = self.game.move_process(individual)\n",
        "      if final != -1: self.population.append(individual)\n",
        "\n",
        "  def probCal(self):\n",
        "    for individual in self.population:\n",
        "      final = self.game.move_process(individual)\n",
        "      self.prob.append(self.game.cost_to_goal(final))\n",
        "    _sum = sum(self.prob)\n",
        "    for i in range(len(self.prob)): self.prob[i] = self.prob[i] / _sum;\n",
        "\n",
        "  #Seclect a parent in population\n",
        "  def select(self):\n",
        "    rannum = random.uniform(0, 1)\n",
        "    for i in range (self.population_capacity):\n",
        "      rannum = rannum - self.prob[i]\n",
        "      if rannum < 0: return self.population[i-1]\n",
        "\n",
        "  def cross_over(self):\n",
        "    parent1 = self.select()\n",
        "    parent2 = self.select()\n",
        "\n",
        "    ran_index = random.ranint(0, self.chromosome_length)\n",
        "\n",
        "    for i in range(ran_index, self.chromosome_length): parent1[i] = parent2[i]\n",
        "\n",
        "    return parent1\n",
        "\n",
        "  def mutate(self, chromosome):\n",
        "     ran_index = random.ranint(0, self.chromosome_length)\n",
        "     chromosome[ran_index] = random.choice((0,1,2,3,4))\n",
        "\n",
        "  def populationUpdate(self):\n",
        "    next_population = []\n",
        "\n",
        "    # Cross over\n",
        "    while (len(next_population) < self.population_capacity):\n",
        "      child = self.cross_over()\n",
        "      if self.game.move_process(child) != -1: next_population.append(child)\n",
        "    # It is better no mutation\n",
        "    \n",
        "    for child in next_population: self.mutate(child)\n",
        "\n",
        "    self.population = next_population\n",
        "    self.probCal\n",
        "\n",
        "  # Loop for 100 times\n",
        "  def go(self):\n",
        "    for i in range(100):\n",
        "      for individual in self.population:\n",
        "        if self.game.move_process(individual).is_goal(): return individual\n",
        "      self.populationUpdate()\n",
        "\n",
        "    return \"Cannot find Solution\""
      ],
      "metadata": {
        "id": "AKOiTeC9yz6E"
      },
      "execution_count": null,
      "outputs": []
    },
    {
      "cell_type": "code",
      "source": [
        "a = [[0,1],[2,3]]\n",
        "\n",
        "b = copy.deepcopy(a)\n",
        "\n",
        "b[0][0] = 9\n",
        "\n",
        "print(a)"
      ],
      "metadata": {
        "colab": {
          "base_uri": "https://localhost:8080/"
        },
        "id": "3LxAbGKx0koE",
        "outputId": "242ff823-6eff-4514-acb1-c355ec04ac1d"
      },
      "execution_count": null,
      "outputs": [
        {
          "output_type": "stream",
          "name": "stdout",
          "text": [
            "[[0, 1], [2, 3]]\n"
          ]
        }
      ]
    }
  ],
  "metadata": {
    "colab": {
      "provenance": [],
      "include_colab_link": true
    },
    "kernelspec": {
      "display_name": "Python 3.10.4 64-bit",
      "language": "python",
      "name": "python3"
    },
    "language_info": {
      "codemirror_mode": {
        "name": "ipython",
        "version": 3
      },
      "file_extension": ".py",
      "mimetype": "text/x-python",
      "name": "python",
      "nbconvert_exporter": "python",
      "pygments_lexer": "ipython3",
      "version": "3.10.4"
    },
    "vscode": {
      "interpreter": {
        "hash": "aee8b7b246df8f9039afb4144a1f6fd8d2ca17a180786b69acc140d282b71a49"
      }
    }
  },
  "nbformat": 4,
  "nbformat_minor": 0
}